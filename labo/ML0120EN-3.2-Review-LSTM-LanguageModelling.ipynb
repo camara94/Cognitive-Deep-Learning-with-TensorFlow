{
 "cells": [
  {
   "cell_type": "markdown",
   "metadata": {},
   "source": [
    "<a href=\"https://www.skills.network/?utm_medium=Exinfluencer&utm_source=Exinfluencer&utm_content=000026UJ&utm_term=10006555&utm_id=NA-SkillsNetwork-Channel-SkillsNetworkCoursesIBMDeveloperSkillsNetworkDL0120ENSkillsNetwork20629446-2021-01-01\"><img src=\"https://cf-courses-data.s3.us.cloud-object-storage.appdomain.cloud/IBM-DL0120ENedX/labs/Template%20for%20Instructional%20Hands-on%20Labs/images/IDSNlogo.png\" width=\"400px\" align=\"center\"></a>\n",
    "\n",
    "<h1 align=\"center\"><font size=\"5\">RECURRENT NETWORKS and LSTM IN DEEP LEARNING</font></h1>\n"
   ]
  },
  {
   "cell_type": "markdown",
   "metadata": {},
   "source": [
    "<h2>Applying Recurrent Neural Networks/LSTM for Language Modeling</h2>\n",
    "Hello and welcome to this part. In this notebook, we will go over the topic of Language Modelling, and create a Recurrent Neural Network model based on the Long Short-Term Memory unit to train and benchmark on the Penn Treebank dataset. By the end of this notebook, you should be able to understand how TensorFlow builds and executes a RNN model for Language Modelling.\n"
   ]
  },
  {
   "cell_type": "markdown",
   "metadata": {},
   "source": [
    "<h2>The Objective</h2>\n",
    "By now, you should have an understanding of how Recurrent Networks work -- a specialized model to process sequential data by keeping track of the \"state\" or context. In this notebook, we go over a TensorFlow code snippet for creating a model focused on <b>Language Modelling</b> -- a very relevant task that is the cornerstone of many different linguistic problems such as <b>Speech Recognition, Machine Translation and Image Captioning</b>. For this, we will be using the Penn Treebank dataset, which is an often-used dataset for benchmarking Language Modelling models.\n"
   ]
  },
  {
   "cell_type": "markdown",
   "metadata": {},
   "source": [
    "<h2>Table of Contents</h2>\n",
    "<ol>\n",
    "    <li><a href=\"https://#language_modelling\">What exactly is Language Modelling?</a></li>\n",
    "    <li><a href=\"https://#treebank_dataset\">The Penn Treebank dataset</a></li>\n",
    "    <li><a href=\"https://#word_embedding\">Word Embedding</a></li>\n",
    "    <li><a href=\"https://#building_lstm_model\">Building the LSTM model for Language Modeling</a></li>\n",
    "    <li><a href=\"https://#ltsm\">LTSM</a></li>\n",
    "</ol>\n",
    "<p></p>\n",
    "</div>\n",
    "<br>\n"
   ]
  },
  {
   "cell_type": "markdown",
   "metadata": {
    "button": false,
    "deletable": true,
    "new_sheet": false,
    "run_control": {
     "read_only": false
    }
   },
   "source": [
    "***\n"
   ]
  },
  {
   "cell_type": "markdown",
   "metadata": {},
   "source": [
    "<a id=\"language_modelling\"></a>\n",
    "\n",
    "<h2>What exactly is Language Modelling?</h2>\n",
    "Language Modelling, to put it simply, <b>is the task of assigning probabilities to sequences of words</b>. This means that, given a context of one or a sequence of words in the language the model was trained on, the model should provide the next most probable words or sequence of words that follows from the given sequence of words the sentence. Language Modelling is one of the most important tasks in Natural Language Processing.\n",
    "\n",
    "<img src=\"https://ibm.box.com/shared/static/1d1i5gub6wljby2vani2vzxp0xsph702.png\" width=\"1080\">\n",
    "<center><i>Example of a sentence being predicted</i></center>\n",
    "<br><br>\n",
    "In this example, one can see the predictions for the next word of a sentence, given the context \"This is an\". As you can see, this boils down to a sequential data analysis task -- you are given a word or a sequence of words (the input data), and, given the context (the state), you need to find out what is the next word (the prediction). This kind of analysis is very important for language-related tasks such as <b>Speech Recognition, Machine Translation, Image Captioning, Text Correction</b> and many other very relevant problems. \n",
    "\n",
    "<img src=\"https://ibm.box.com/shared/static/az39idf9ipfdpc5ugifpgxnydelhyf3i.png\" width=\"1080\">\n",
    "<center><i>The above example is a schema of an RNN in execution</i></center>\n",
    "<br><br>\n",
    "As the above image shows, Recurrent Network models fit this problem like a glove. Alongside LSTM and its capacity to maintain the model's state for over one thousand time steps, we have all the tools we need to undertake this problem. The goal for this notebook is to create a model that can reach <b>low levels of perplexity</b> on our desired dataset.\n",
    "\n",
    "For Language Modelling problems, <b>perplexity</b> is the way to gauge efficiency. Perplexity is simply a measure of how well a probabilistic model is able to predict its sample. A higher-level way to explain this would be saying that <b>low perplexity means a higher degree of trust in the predictions the model makes</b>. Therefore, the lower perplexity is, the better.\n"
   ]
  },
  {
   "cell_type": "markdown",
   "metadata": {},
   "source": [
    "<a id=\"treebank_dataset\"></a>\n",
    "\n",
    "<h2>The Penn Treebank dataset</h2>\n",
    "Historically, datasets big enough for Natural Language Processing are hard to come by. This is in part due to the necessity of the sentences to be broken down and tagged with a certain degree of correctness -- or else the models trained on it won't be able to be correct at all. This means that we need a <b>large amount of data, annotated by or at least corrected by humans</b>. This is, of course, not an easy task at all.\n",
    "\n",
    "The Penn Treebank, or PTB for short, is a dataset maintained by the University of Pennsylvania. It is <i>huge</i> -- there are over <b>four million and eight hundred thousand</b> annotated words in it, all corrected by humans. It is composed of many different sources, from abstracts of Department of Energy papers to texts from the Library of America. Since it is verifiably correct and of such a huge size, the Penn Treebank is commonly used as a benchmark dataset for Language Modelling.\n",
    "\n",
    "The dataset is divided in different kinds of annotations, such as Piece-of-Speech, Syntactic and Semantic skeletons. For this example, we will simply use a sample of clean, non-annotated words (with the exception of one tag --<code>\\<unk></code>\n",
    ", which is used for rare words such as uncommon proper nouns) for our model. This means that we just want to predict what the next words would be, not what they mean in context or their classes on a given sentence.\n",
    "\n",
    "<center>Example of text from the dataset we are going to use, <b>ptb.train</b></center>\n",
    "<br><br>\n",
    "\n",
    "<div class=\"alert alert-block alert-info\" style=\"margin-top: 20px\">\n",
    "    <center>the percentage of lung cancer deaths among the workers at the west <code>&lt;unk&gt;</code> mass. paper factory appears to be the highest for any asbestos workers studied in western industrialized countries he said \n",
    " the plant which is owned by <code>&lt;unk&gt;</code> & <code>&lt;unk&gt;</code> co. was under contract with <code>&lt;unk&gt;</code> to make the cigarette filters \n",
    " the finding probably will support those who argue that the U.S. should regulate the class of asbestos including <code>&lt;unk&gt;</code> more <code>&lt;unk&gt;</code> than the common kind of asbestos <code>&lt;unk&gt;</code> found in most schools and other buildings dr. <code>&lt;unk&gt;</code> said</center>\n",
    "</div>\n"
   ]
  },
  {
   "cell_type": "markdown",
   "metadata": {
    "button": false,
    "deletable": true,
    "new_sheet": false,
    "run_control": {
     "read_only": false
    }
   },
   "source": [
    "<a id=\"word_embedding\"></a>\n",
    "\n",
    "<h2>Word Embeddings</h2><br/>\n",
    "\n",
    "For better processing, in this example, we will make use of <a href=\"https://www.tensorflow.org/tutorials/word2vec/?utm_medium=Exinfluencer&utm_source=Exinfluencer&utm_content=000026UJ&utm_term=10006555&utm_id=NA-SkillsNetwork-Channel-SkillsNetworkCoursesIBMDeveloperSkillsNetworkDL0120ENSkillsNetwork20629446-2021-01-01\"><b>word embeddings</b></a>, which is <b>a way of representing sentence structures or words as n-dimensional vectors (where n is a reasonably high number, such as 200 or 500) of real numbers</b>. Basically, we will assign each word a randomly-initialized vector, and input those into the network to be processed. After a number of iterations, these vectors are expected to assume values that help the network to correctly predict what it needs to -- in our case, the probable next word in the sentence. This is shown to be a very effective task in Natural Language Processing, and is a commonplace practice. <br><br> <font size=\"4\"><strong>\n",
    "$$Vec(\"Example\") = \\[0.02, 0.00, 0.00, 0.92, 0.30, \\ldots]$$ </strong></font> <br>\n",
    "Word Embedding tends to group up similarly used words <i>reasonably</i> close together in the vectorial space. For example, if we use T-SNE (a dimensional reduction visualization algorithm) to flatten the dimensions of our vectors into a 2-dimensional space and plot these words in a 2-dimensional space, we might see something like this:\n",
    "\n",
    "<img src=\"https://ibm.box.com/shared/static/bqhc5dg879gcoabzhxra1w8rkg3od1cu.png\" width=\"800\">\n",
    "<center><i>T-SNE Mockup with clusters marked for easier visualization</i></center>\n",
    "<br><br>\n",
    "As you can see, words that are frequently used together, in place of each other, or in the same places as them tend to be grouped together -- being closer together the higher they are correlated. For example, \"None\" is pretty semantically close to \"Zero\", while a phrase that uses \"Italy\", you could probably also fit \"Germany\" in it, with little damage to the sentence structure. The vectorial \"closeness\" for similar words like this is a great indicator of a well-built model.\n",
    "\n",
    "<hr>\n"
   ]
  },
  {
   "cell_type": "markdown",
   "metadata": {
    "button": false,
    "deletable": true,
    "new_sheet": false,
    "run_control": {
     "read_only": false
    }
   },
   "source": [
    "We need to import the necessary modules for our code. We need <b><code>numpy</code></b> and <b><code>tensorflow</code></b>, obviously. Additionally, we can import directly the <b><code>tensorflow\\.models.rnn</code></b> model, which includes the function for building RNNs, and <b><code>tensorflow\\.models.rnn.ptb.reader</code></b> which is the helper module for getting the input data from the dataset we just downloaded.\n",
    "\n",
    "If you want to learn more take a look at <https://github.com/tensorflow/models/blob/master/tutorials/rnn/ptb/reader.py>\n"
   ]
  },
  {
   "cell_type": "code",
   "execution_count": 4,
   "metadata": {
    "tags": []
   },
   "outputs": [
    {
     "name": "stdout",
     "output_type": "stream",
     "text": [
      "Requirement already satisfied: tensorflow==2.2.0rc0 in /Users/smadhavan/.pyenv/versions/3.7.4/lib/python3.7/site-packages (2.2.0rc0)\n",
      "Requirement already satisfied: gast==0.3.3 in /Users/smadhavan/.pyenv/versions/3.7.4/lib/python3.7/site-packages (from tensorflow==2.2.0rc0) (0.3.3)\n",
      "Requirement already satisfied: opt-einsum>=2.3.2 in /Users/smadhavan/.pyenv/versions/3.7.4/lib/python3.7/site-packages (from tensorflow==2.2.0rc0) (2.3.2)\n",
      "Requirement already satisfied: keras-preprocessing>=1.1.0 in /Users/smadhavan/.pyenv/versions/3.7.4/lib/python3.7/site-packages (from tensorflow==2.2.0rc0) (1.1.2)\n",
      "Requirement already satisfied: numpy<2.0,>=1.16.0 in /Users/smadhavan/.pyenv/versions/3.7.4/lib/python3.7/site-packages (from tensorflow==2.2.0rc0) (1.16.4)\n",
      "Requirement already satisfied: protobuf>=3.8.0 in /Users/smadhavan/.pyenv/versions/3.7.4/lib/python3.7/site-packages (from tensorflow==2.2.0rc0) (3.11.3)\n",
      "Requirement already satisfied: wheel>=0.26; python_version >= \"3\" in /Users/smadhavan/.pyenv/versions/3.7.4/lib/python3.7/site-packages (from tensorflow==2.2.0rc0) (0.34.2)\n",
      "Requirement already satisfied: wrapt>=1.11.1 in /Users/smadhavan/.pyenv/versions/3.7.4/lib/python3.7/site-packages (from tensorflow==2.2.0rc0) (1.12.1)\n",
      "Requirement already satisfied: grpcio>=1.8.6 in /Users/smadhavan/.pyenv/versions/3.7.4/lib/python3.7/site-packages (from tensorflow==2.2.0rc0) (1.24.3)\n",
      "Requirement already satisfied: six>=1.12.0 in /Users/smadhavan/.pyenv/versions/3.7.4/lib/python3.7/site-packages (from tensorflow==2.2.0rc0) (1.12.0)\n",
      "Requirement already satisfied: google-pasta>=0.1.8 in /Users/smadhavan/.pyenv/versions/3.7.4/lib/python3.7/site-packages (from tensorflow==2.2.0rc0) (0.2.0)\n",
      "Requirement already satisfied: scipy==1.4.1; python_version >= \"3\" in /Users/smadhavan/.pyenv/versions/3.7.4/lib/python3.7/site-packages (from tensorflow==2.2.0rc0) (1.4.1)\n",
      "Requirement already satisfied: absl-py>=0.7.0 in /Users/smadhavan/.pyenv/versions/3.7.4/lib/python3.7/site-packages (from tensorflow==2.2.0rc0) (0.9.0)\n",
      "Requirement already satisfied: tensorflow-estimator<2.2.0,>=2.1.0 in /Users/smadhavan/.pyenv/versions/3.7.4/lib/python3.7/site-packages (from tensorflow==2.2.0rc0) (2.1.0)\n",
      "Requirement already satisfied: h5py<2.11.0,>=2.10.0 in /Users/smadhavan/.pyenv/versions/3.7.4/lib/python3.7/site-packages (from tensorflow==2.2.0rc0) (2.10.0)\n",
      "Requirement already satisfied: tensorboard<2.2.0,>=2.1.0 in /Users/smadhavan/.pyenv/versions/3.7.4/lib/python3.7/site-packages (from tensorflow==2.2.0rc0) (2.1.1)\n",
      "Requirement already satisfied: termcolor>=1.1.0 in /Users/smadhavan/.pyenv/versions/3.7.4/lib/python3.7/site-packages (from tensorflow==2.2.0rc0) (1.1.0)\n",
      "Requirement already satisfied: astunparse==1.6.3 in /Users/smadhavan/.pyenv/versions/3.7.4/lib/python3.7/site-packages (from tensorflow==2.2.0rc0) (1.6.3)\n",
      "Requirement already satisfied: setuptools in /Users/smadhavan/.pyenv/versions/3.7.4/lib/python3.7/site-packages (from protobuf>=3.8.0->tensorflow==2.2.0rc0) (47.3.0)\n",
      "Requirement already satisfied: werkzeug>=0.11.15 in /Users/smadhavan/.pyenv/versions/3.7.4/lib/python3.7/site-packages (from tensorboard<2.2.0,>=2.1.0->tensorflow==2.2.0rc0) (1.0.1)\n",
      "Requirement already satisfied: google-auth<2,>=1.6.3 in /Users/smadhavan/.pyenv/versions/3.7.4/lib/python3.7/site-packages (from tensorboard<2.2.0,>=2.1.0->tensorflow==2.2.0rc0) (1.19.1)\n",
      "Requirement already satisfied: requests<3,>=2.21.0 in /Users/smadhavan/.pyenv/versions/3.7.4/lib/python3.7/site-packages (from tensorboard<2.2.0,>=2.1.0->tensorflow==2.2.0rc0) (2.22.0)\n",
      "Requirement already satisfied: google-auth-oauthlib<0.5,>=0.4.1 in /Users/smadhavan/.pyenv/versions/3.7.4/lib/python3.7/site-packages (from tensorboard<2.2.0,>=2.1.0->tensorflow==2.2.0rc0) (0.4.1)\n",
      "Requirement already satisfied: markdown>=2.6.8 in /Users/smadhavan/.pyenv/versions/3.7.4/lib/python3.7/site-packages (from tensorboard<2.2.0,>=2.1.0->tensorflow==2.2.0rc0) (3.2.2)\n",
      "Requirement already satisfied: pyasn1-modules>=0.2.1 in /Users/smadhavan/.pyenv/versions/3.7.4/lib/python3.7/site-packages (from google-auth<2,>=1.6.3->tensorboard<2.2.0,>=2.1.0->tensorflow==2.2.0rc0) (0.2.8)\n",
      "Requirement already satisfied: rsa<5,>=3.1.4; python_version >= \"3\" in /Users/smadhavan/.pyenv/versions/3.7.4/lib/python3.7/site-packages (from google-auth<2,>=1.6.3->tensorboard<2.2.0,>=2.1.0->tensorflow==2.2.0rc0) (4.6)\n",
      "Requirement already satisfied: cachetools<5.0,>=2.0.0 in /Users/smadhavan/.pyenv/versions/3.7.4/lib/python3.7/site-packages (from google-auth<2,>=1.6.3->tensorboard<2.2.0,>=2.1.0->tensorflow==2.2.0rc0) (4.1.1)\n",
      "Requirement already satisfied: idna<2.9,>=2.5 in /Users/smadhavan/.pyenv/versions/3.7.4/lib/python3.7/site-packages (from requests<3,>=2.21.0->tensorboard<2.2.0,>=2.1.0->tensorflow==2.2.0rc0) (2.8)\n",
      "Requirement already satisfied: certifi>=2017.4.17 in /Users/smadhavan/.pyenv/versions/3.7.4/lib/python3.7/site-packages (from requests<3,>=2.21.0->tensorboard<2.2.0,>=2.1.0->tensorflow==2.2.0rc0) (2019.9.11)\n",
      "Requirement already satisfied: chardet<3.1.0,>=3.0.2 in /Users/smadhavan/.pyenv/versions/3.7.4/lib/python3.7/site-packages (from requests<3,>=2.21.0->tensorboard<2.2.0,>=2.1.0->tensorflow==2.2.0rc0) (3.0.4)\n",
      "Requirement already satisfied: urllib3!=1.25.0,!=1.25.1,<1.26,>=1.21.1 in /Users/smadhavan/.pyenv/versions/3.7.4/lib/python3.7/site-packages (from requests<3,>=2.21.0->tensorboard<2.2.0,>=2.1.0->tensorflow==2.2.0rc0) (1.25.6)\n",
      "Requirement already satisfied: requests-oauthlib>=0.7.0 in /Users/smadhavan/.pyenv/versions/3.7.4/lib/python3.7/site-packages (from google-auth-oauthlib<0.5,>=0.4.1->tensorboard<2.2.0,>=2.1.0->tensorflow==2.2.0rc0) (1.3.0)\n",
      "Requirement already satisfied: importlib-metadata; python_version < \"3.8\" in /Users/smadhavan/.pyenv/versions/3.7.4/lib/python3.7/site-packages (from markdown>=2.6.8->tensorboard<2.2.0,>=2.1.0->tensorflow==2.2.0rc0) (1.6.0)\n",
      "Requirement already satisfied: pyasn1<0.5.0,>=0.4.6 in /Users/smadhavan/.pyenv/versions/3.7.4/lib/python3.7/site-packages (from pyasn1-modules>=0.2.1->google-auth<2,>=1.6.3->tensorboard<2.2.0,>=2.1.0->tensorflow==2.2.0rc0) (0.4.8)\n",
      "Requirement already satisfied: oauthlib>=3.0.0 in /Users/smadhavan/.pyenv/versions/3.7.4/lib/python3.7/site-packages (from requests-oauthlib>=0.7.0->google-auth-oauthlib<0.5,>=0.4.1->tensorboard<2.2.0,>=2.1.0->tensorflow==2.2.0rc0) (3.1.0)\n",
      "Requirement already satisfied: zipp>=0.5 in /Users/smadhavan/.pyenv/versions/3.7.4/lib/python3.7/site-packages (from importlib-metadata; python_version < \"3.8\"->markdown>=2.6.8->tensorboard<2.2.0,>=2.1.0->tensorflow==2.2.0rc0) (3.1.0)\n",
      "Requirement already satisfied: numpy in /Users/smadhavan/.pyenv/versions/3.7.4/lib/python3.7/site-packages (1.16.4)\n"
     ]
    }
   ],
   "source": [
    "!pip install tensorflow==2.2.0rc0\n",
    "!pip install numpy==1.21.4\n"
   ]
  },
  {
   "cell_type": "code",
   "execution_count": 6,
   "metadata": {},
   "outputs": [],
   "source": [
    "import time\n",
    "import numpy as np\n",
    "import tensorflow as tf\n",
    "if not tf.__version__ == '2.2.0-rc0':\n",
    "    print(tf.__version__)\n",
    "    raise ValueError('please upgrade to TensorFlow 2.2.0-rc0, or restart your Kernel (Kernel->Restart & Clear Output)')"
   ]
  },
  {
   "cell_type": "markdown",
   "metadata": {},
   "source": [
    "IMPORTANT! => Please restart the kernel by clicking on \"Kernel\"->\"Restart and Clear Outout\" and wait until all output disapears. Then your changes are beeing picked up\n"
   ]
  },
  {
   "cell_type": "code",
   "execution_count": 7,
   "metadata": {
    "button": false,
    "deletable": true,
    "new_sheet": false,
    "run_control": {
     "read_only": false
    },
    "tags": []
   },
   "outputs": [
    {
     "name": "stdout",
     "output_type": "stream",
     "text": [
      "mkdir: cannot create directory ‘data’: File exists\n",
      "mkdir: cannot create directory ‘data/ptb’: File exists\n"
     ]
    }
   ],
   "source": [
    "!mkdir data\n",
    "!mkdir data/ptb\n",
    "!wget -q -O data/ptb/reader.py https://cf-courses-data.s3.us.cloud-object-storage.appdomain.cloud/IBMDeveloperSkillsNetwork-DL0120EN-SkillsNetwork/labs/Week3/data/ptb/reader.py\n",
    "!cp data/ptb/reader.py . \n",
    "\n"
   ]
  },
  {
   "cell_type": "code",
   "execution_count": 8,
   "metadata": {
    "tags": []
   },
   "outputs": [],
   "source": [
    "import reader"
   ]
  },
  {
   "cell_type": "markdown",
   "metadata": {
    "button": false,
    "deletable": true,
    "new_sheet": false,
    "run_control": {
     "read_only": false
    }
   },
   "source": [
    "<a id=\"building_lstm_model\"></a>\n",
    "\n",
    "<h2>Building the LSTM model for Language Modeling</h2>\n",
    "Now that we know exactly what we are doing, we can start building our model using TensorFlow. The very first thing we need to do is download and extract the <code>simple-examples</code> dataset, which can be done by executing the code cell below.\n"
   ]
  },
  {
   "cell_type": "code",
   "execution_count": 9,
   "metadata": {
    "button": false,
    "deletable": true,
    "new_sheet": false,
    "run_control": {
     "read_only": false
    },
    "tags": []
   },
   "outputs": [
    {
     "name": "stdout",
     "output_type": "stream",
     "text": [
      "--2022-02-10 01:41:54--  http://www.fit.vutbr.cz/~imikolov/rnnlm/simple-examples.tgz\n",
      "Resolving www.fit.vutbr.cz (www.fit.vutbr.cz)... 147.229.9.23, 2001:67c:1220:809::93e5:917\n",
      "Connecting to www.fit.vutbr.cz (www.fit.vutbr.cz)|147.229.9.23|:80... connected.\n",
      "HTTP request sent, awaiting response... 200 OK\n",
      "Length: 34869662 (33M) [application/x-gtar]\n",
      "Saving to: ‘simple-examples.tgz.1’\n",
      "\n",
      "simple-examples.tgz 100%[===================>]  33.25M  8.10MB/s    in 6.2s    \n",
      "\n",
      "2022-02-10 01:42:01 (5.37 MB/s) - ‘simple-examples.tgz.1’ saved [34869662/34869662]\n",
      "\n"
     ]
    }
   ],
   "source": [
    "!wget http://www.fit.vutbr.cz/~imikolov/rnnlm/simple-examples.tgz \n",
    "!tar xzf simple-examples.tgz -C data/"
   ]
  },
  {
   "cell_type": "markdown",
   "metadata": {
    "button": false,
    "deletable": true,
    "new_sheet": false,
    "run_control": {
     "read_only": false
    }
   },
   "source": [
    "Additionally, for the sake of making it easy to play around with the model's hyperparameters, we can declare them beforehand. Feel free to change these -- you will see a difference in performance each time you change those!\n"
   ]
  },
  {
   "cell_type": "code",
   "execution_count": 10,
   "metadata": {
    "button": false,
    "deletable": true,
    "new_sheet": false,
    "run_control": {
     "read_only": false
    }
   },
   "outputs": [],
   "source": [
    "#Initial weight scale\n",
    "init_scale = 0.1\n",
    "#Initial learning rate\n",
    "learning_rate = 1.0\n",
    "#Maximum permissible norm for the gradient (For gradient clipping -- another measure against Exploding Gradients)\n",
    "max_grad_norm = 5\n",
    "#The number of layers in our model\n",
    "num_layers = 2\n",
    "#The total number of recurrence steps, also known as the number of layers when our RNN is \"unfolded\"\n",
    "num_steps = 20\n",
    "#The number of processing units (neurons) in the hidden layers\n",
    "hidden_size_l1 = 256\n",
    "hidden_size_l2 = 128\n",
    "#The maximum number of epochs trained with the initial learning rate\n",
    "max_epoch_decay_lr = 4\n",
    "#The total number of epochs in training\n",
    "max_epoch = 15\n",
    "#The probability for keeping data in the Dropout Layer (This is an optimization, but is outside our scope for this notebook!)\n",
    "#At 1, we ignore the Dropout Layer wrapping.\n",
    "keep_prob = 1\n",
    "#The decay for the learning rate\n",
    "decay = 0.5\n",
    "#The size for each batch of data\n",
    "batch_size = 30\n",
    "#The size of our vocabulary\n",
    "vocab_size = 10000\n",
    "embeding_vector_size= 200\n",
    "#Training flag to separate training from testing\n",
    "is_training = 1\n",
    "#Data directory for our dataset\n",
    "data_dir = \"data/simple-examples/data/\""
   ]
  },
  {
   "cell_type": "markdown",
   "metadata": {
    "button": false,
    "new_sheet": false,
    "run_control": {
     "read_only": false
    }
   },
   "source": [
    "Some clarifications for LSTM architecture based on the arguments:\n",
    "\n",
    "Network structure:\n",
    "\n",
    "<ul>\n",
    "    <li>In this network, the number of LSTM cells are 2. To give the model more expressive power, we can add multiple layers of LSTMs to process the data. The output of the first layer will become the input of the second and so on.\n",
    "    </li>\n",
    "    <li>The recurrence steps is 20, that is, when our RNN is \"Unfolded\", the recurrence step is 20.</li>   \n",
    "    <li>the structure is like:\n",
    "        <ul>\n",
    "            <li>200 input units -> [200x200] Weight -> 200 Hidden units (first layer) -> [200x200] Weight matrix  -> 200 Hidden units (second layer) ->  [200] weight Matrix -> 200 unit output</li>\n",
    "        </ul>\n",
    "    </li>\n",
    "</ul>\n",
    "<br>\n",
    "\n",
    "Input layer:\n",
    "\n",
    "<ul>\n",
    "    <li>The network has 200 input units.</li>\n",
    "    <li>Suppose each word is represented by an embedding vector of dimensionality e=200. The input layer of each cell will have 200 linear units. These e=200 linear units are connected to each of the h=200 LSTM units in the hidden layer (assuming there is only one hidden layer, though our case has 2 layers).\n",
    "    </li>\n",
    "    <li>The input shape is [batch_size, num_steps], that is [30x20]. It will turn into [30x20x200] after embedding, and then 20x[30x200]\n",
    "    </li>\n",
    "</ul>\n",
    "<br>\n",
    "\n",
    "Hidden layer:\n",
    "\n",
    "<ul>\n",
    "    <li>Each LSTM has 200 hidden units which is equivalent to the dimensionality of the embedding words and output.</li>\n",
    "</ul>\n",
    "<br>\n"
   ]
  },
  {
   "cell_type": "markdown",
   "metadata": {
    "button": false,
    "deletable": true,
    "new_sheet": false,
    "run_control": {
     "read_only": false
    }
   },
   "source": [
    "There is a lot to be done and a ton of information to process at the same time, so go over this code slowly. It may seem complex at first, but if you try to apply what you just learned about language modelling to the code you see, you should be able to understand it.\n",
    "\n",
    "This code is adapted from the <a href=\"https://github.com/tensorflow/models?utm_medium=Exinfluencer&utm_source=Exinfluencer&utm_content=000026UJ&utm_term=10006555&utm_id=NA-SkillsNetwork-Channel-SkillsNetworkCoursesIBMDeveloperSkillsNetworkDL0120ENSkillsNetwork20629446-2021-01-01\">PTBModel</a> example bundled with the TensorFlow source code.\n",
    "\n",
    "<h3>Training data</h3>\n",
    "The story starts from data:\n",
    "<ul>\n",
    "    <li>Train data is a list of words, of size 929589, represented by numbers, e.g. [9971, 9972, 9974, 9975,...]</li>\n",
    "    <li>We read data as mini-batch of size b=30. Assume the size of each sentence is 20 words (num_steps = 20). Then it will take $$floor(\\frac{N}{b \\times h})+1=1548$$ iterations for the learner to go through all sentences once. Where N is the size of the list of words, b is batch size, and h is size of each sentence. So, the number of iterators is 1548\n",
    "    </li>\n",
    "    <li>Each batch data is read from train dataset of size 600, and shape of [30x20]</li>\n",
    "</ul>\n"
   ]
  },
  {
   "cell_type": "code",
   "execution_count": 11,
   "metadata": {
    "button": false,
    "deletable": true,
    "new_sheet": false,
    "run_control": {
     "read_only": false
    }
   },
   "outputs": [],
   "source": [
    "# Reads the data and separates it into training data, validation data and testing data\n",
    "raw_data = reader.ptb_raw_data(data_dir)\n",
    "train_data, valid_data, test_data, vocab, word_to_id = raw_data"
   ]
  },
  {
   "cell_type": "code",
   "execution_count": 12,
   "metadata": {},
   "outputs": [
    {
     "data": {
      "text/plain": [
       "929589"
      ]
     },
     "execution_count": 12,
     "metadata": {},
     "output_type": "execute_result"
    }
   ],
   "source": [
    "len(train_data)"
   ]
  },
  {
   "cell_type": "code",
   "execution_count": 13,
   "metadata": {
    "tags": []
   },
   "outputs": [
    {
     "name": "stdout",
     "output_type": "stream",
     "text": [
      "['aer', 'banknote', 'berlitz', 'calloway', 'centrust', 'cluett', 'fromstein', 'gitano', 'guterman', 'hydro-quebec', 'ipo', 'kia', 'memotec', 'mlx', 'nahb', 'punts', 'rake', 'regatta', 'rubens', 'sim', 'snack-food', 'ssangyong', 'swapo', 'wachter', '<eos>', 'pierre', '<unk>', 'N', 'years', 'old', 'will', 'join', 'the', 'board', 'as', 'a', 'nonexecutive', 'director', 'nov.', 'N', '<eos>', 'mr.', '<unk>', 'is', 'chairman', 'of', '<unk>', 'n.v.', 'the', 'dutch', 'publishing', 'group', '<eos>', 'rudolph', '<unk>', 'N', 'years', 'old', 'and', 'former', 'chairman', 'of', 'consolidated', 'gold', 'fields', 'plc', 'was', 'named', 'a', 'nonexecutive', 'director', 'of', 'this', 'british', 'industrial', 'conglomerate', '<eos>', 'a', 'form', 'of', 'asbestos', 'once', 'used', 'to', 'make', 'kent', 'cigarette', 'filters', 'has', 'caused', 'a', 'high', 'percentage', 'of', 'cancer', 'deaths', 'among', 'a', 'group', 'of']\n"
     ]
    }
   ],
   "source": [
    "def id_to_word(id_list):\n",
    "    line = []\n",
    "    for w in id_list:\n",
    "        for word, wid in word_to_id.items():\n",
    "            if wid == w:\n",
    "                line.append(word)\n",
    "    return line            \n",
    "                \n",
    "\n",
    "print(id_to_word(train_data[0:100]))"
   ]
  },
  {
   "cell_type": "markdown",
   "metadata": {
    "button": false,
    "deletable": true,
    "new_sheet": false,
    "run_control": {
     "read_only": false
    }
   },
   "source": [
    "Lets just read one mini-batch now and feed our network:\n"
   ]
  },
  {
   "cell_type": "code",
   "execution_count": 14,
   "metadata": {
    "button": false,
    "deletable": true,
    "new_sheet": false,
    "run_control": {
     "read_only": false
    }
   },
   "outputs": [],
   "source": [
    "itera = reader.ptb_iterator(train_data, batch_size, num_steps)\n",
    "first_touple = itera.__next__()\n",
    "_input_data = first_touple[0]\n",
    "_targets = first_touple[1]"
   ]
  },
  {
   "cell_type": "code",
   "execution_count": 15,
   "metadata": {
    "button": false,
    "deletable": true,
    "new_sheet": false,
    "run_control": {
     "read_only": false
    }
   },
   "outputs": [
    {
     "data": {
      "text/plain": [
       "(30, 20)"
      ]
     },
     "execution_count": 15,
     "metadata": {},
     "output_type": "execute_result"
    }
   ],
   "source": [
    "_input_data.shape"
   ]
  },
  {
   "cell_type": "code",
   "execution_count": 16,
   "metadata": {},
   "outputs": [
    {
     "data": {
      "text/plain": [
       "(30, 20)"
      ]
     },
     "execution_count": 16,
     "metadata": {},
     "output_type": "execute_result"
    }
   ],
   "source": [
    "_targets.shape"
   ]
  },
  {
   "cell_type": "markdown",
   "metadata": {
    "button": false,
    "deletable": true,
    "new_sheet": false,
    "run_control": {
     "read_only": false
    }
   },
   "source": [
    "Lets look at 3 sentences of our input x:\n"
   ]
  },
  {
   "cell_type": "code",
   "execution_count": 17,
   "metadata": {
    "button": false,
    "deletable": true,
    "new_sheet": false,
    "run_control": {
     "read_only": false
    }
   },
   "outputs": [
    {
     "data": {
      "text/plain": [
       "array([[9970, 9971, 9972, 9974, 9975, 9976, 9980, 9981, 9982, 9983, 9984,\n",
       "        9986, 9987, 9988, 9989, 9991, 9992, 9993, 9994, 9995],\n",
       "       [2654,    6,  334, 2886,    4,    1,  233,  711,  834,   11,  130,\n",
       "         123,    7,  514,    2,   63,   10,  514,    8,  605],\n",
       "       [   0, 1071,    4,    0,  185,   24,  368,   20,   31, 3109,  954,\n",
       "          12,    3,   21,    2, 2915,    2,   12,    3,   21]],\n",
       "      dtype=int32)"
      ]
     },
     "execution_count": 17,
     "metadata": {},
     "output_type": "execute_result"
    }
   ],
   "source": [
    "_input_data[0:3]"
   ]
  },
  {
   "cell_type": "code",
   "execution_count": 18,
   "metadata": {},
   "outputs": [
    {
     "name": "stdout",
     "output_type": "stream",
     "text": [
      "['aer', 'banknote', 'berlitz', 'calloway', 'centrust', 'cluett', 'fromstein', 'gitano', 'guterman', 'hydro-quebec', 'ipo', 'kia', 'memotec', 'mlx', 'nahb', 'punts', 'rake', 'regatta', 'rubens', 'sim']\n"
     ]
    }
   ],
   "source": [
    "print(id_to_word(_input_data[0,:]))"
   ]
  },
  {
   "cell_type": "markdown",
   "metadata": {
    "button": false,
    "deletable": true,
    "new_sheet": false,
    "run_control": {
     "read_only": false
    }
   },
   "source": [
    "<h3>Embeddings</h3>\n",
    "We have to convert the words in our dataset to vectors of numbers. The traditional approach is to use one-hot encoding method that is usually used for converting categorical values to numerical values. However, One-hot encoded vectors are high-dimensional, sparse and in a big dataset, computationally inefficient. So, we use word2vec approach. It is, in fact, a layer in our LSTM network, where the word IDs will be represented as a dense representation before feeding to the LSTM. \n",
    "\n",
    "The embedded vectors also get updated during the training process of the deep neural network.\n",
    "We create the embeddings for our input data. <b>embedding_vocab</b> is matrix of \\[10000x200] for all 10000 unique words.\n"
   ]
  },
  {
   "cell_type": "markdown",
   "metadata": {
    "button": false,
    "deletable": true,
    "new_sheet": false,
    "run_control": {
     "read_only": false
    }
   },
   "source": [
    "<b>embedding_lookup()</b> finds the embedded values for our batch of 30x20 words. It  goes to each row of <code>input_data</code>, and for each word in the row/sentence, finds the correspond vector in <code>embedding_dic<code>. <br>\n",
    "It creates a \\[30x20x200] tensor, so, the first element of <b>inputs</b> (the first sentence), is a matrix of 20x200, which each row of it, is vector representing a word in the sentence.\n"
   ]
  },
  {
   "cell_type": "code",
   "execution_count": 19,
   "metadata": {},
   "outputs": [],
   "source": [
    "embedding_layer = tf.keras.layers.Embedding(vocab_size, embeding_vector_size,batch_input_shape=(batch_size, num_steps),trainable=True,name=\"embedding_vocab\")  "
   ]
  },
  {
   "cell_type": "code",
   "execution_count": 20,
   "metadata": {},
   "outputs": [
    {
     "name": "stderr",
     "output_type": "stream",
     "text": [
      "2022-02-10 01:42:58.450188: W tensorflow/stream_executor/platform/default/dso_loader.cc:55] Could not load dynamic library 'libcuda.so.1'; dlerror: libcuda.so.1: cannot open shared object file: No such file or directory\n",
      "2022-02-10 01:42:58.450236: E tensorflow/stream_executor/cuda/cuda_driver.cc:313] failed call to cuInit: UNKNOWN ERROR (303)\n",
      "2022-02-10 01:42:58.450266: I tensorflow/stream_executor/cuda/cuda_diagnostics.cc:156] kernel driver does not appear to be running on this host (jupyterlab-ldamaro98): /proc/driver/nvidia/version does not exist\n",
      "2022-02-10 01:42:58.450629: I tensorflow/core/platform/cpu_feature_guard.cc:143] Your CPU supports instructions that this TensorFlow binary was not compiled to use: AVX2 AVX512F FMA\n",
      "2022-02-10 01:42:58.458081: I tensorflow/core/platform/profile_utils/cpu_utils.cc:102] CPU Frequency: 2494060000 Hz\n",
      "2022-02-10 01:42:58.459168: I tensorflow/compiler/xla/service/service.cc:168] XLA service 0x7f6970000b20 initialized for platform Host (this does not guarantee that XLA will be used). Devices:\n",
      "2022-02-10 01:42:58.459218: I tensorflow/compiler/xla/service/service.cc:176]   StreamExecutor device (0): Host, Default Version\n"
     ]
    },
    {
     "data": {
      "text/plain": [
       "<tf.Tensor: shape=(30, 20, 200), dtype=float32, numpy=\n",
       "array([[[ 0.00533523,  0.03491275,  0.01577652, ..., -0.00716569,\n",
       "          0.03202331, -0.01331222],\n",
       "        [-0.04276657, -0.04829321,  0.03459482, ..., -0.00672691,\n",
       "         -0.0160047 , -0.04623267],\n",
       "        [-0.00304464,  0.02573251, -0.0466929 , ...,  0.03058929,\n",
       "          0.00811217, -0.01417161],\n",
       "        ...,\n",
       "        [ 0.01605524,  0.0162323 ,  0.00228664, ..., -0.02842334,\n",
       "         -0.00936703, -0.00014374],\n",
       "        [ 0.03048844,  0.03761432,  0.0062652 , ..., -0.02802557,\n",
       "          0.0353215 ,  0.04619522],\n",
       "        [ 0.00203761, -0.03656039, -0.02178288, ..., -0.01291603,\n",
       "         -0.00593114,  0.04582625]],\n",
       "\n",
       "       [[-0.04402093,  0.01080451,  0.01889017, ..., -0.03613425,\n",
       "          0.03013575, -0.02424353],\n",
       "        [ 0.00075133,  0.04705832, -0.0099011 , ...,  0.03679546,\n",
       "          0.02188944, -0.0427985 ],\n",
       "        [-0.01739148, -0.00917863, -0.02290185, ..., -0.00098769,\n",
       "         -0.00606878,  0.00189215],\n",
       "        ...,\n",
       "        [ 0.04030845,  0.01343843,  0.04928586, ...,  0.00949354,\n",
       "         -0.03842828,  0.04369975],\n",
       "        [-0.03680586,  0.01444784, -0.04343418, ...,  0.04497242,\n",
       "          0.03374094,  0.01710523],\n",
       "        [ 0.04517113, -0.02445161, -0.01230388, ...,  0.00659423,\n",
       "          0.04043761, -0.03004432]],\n",
       "\n",
       "       [[ 0.02684948,  0.01241747, -0.0020318 , ..., -0.03801085,\n",
       "         -0.00049903,  0.00809661],\n",
       "        [ 0.02233374, -0.04575264, -0.03366506, ...,  0.00798104,\n",
       "          0.02096275,  0.01510482],\n",
       "        [ 0.00771375,  0.01418949, -0.02966871, ..., -0.02433339,\n",
       "          0.03007663,  0.04405656],\n",
       "        ...,\n",
       "        [-0.0229645 ,  0.02394538, -0.02768556, ..., -0.04911412,\n",
       "          0.02321484, -0.0385338 ],\n",
       "        [-0.02099084, -0.04946544, -0.00250543, ..., -0.04698268,\n",
       "          0.02078725,  0.04165434],\n",
       "        [ 0.03590855, -0.03289963,  0.02326636, ..., -0.0433505 ,\n",
       "          0.01276468, -0.04459248]],\n",
       "\n",
       "       ...,\n",
       "\n",
       "       [[-0.04085281,  0.02825342, -0.02704499, ..., -0.02631829,\n",
       "         -0.04469026,  0.04964468],\n",
       "        [ 0.01236003, -0.00223238, -0.04133898, ...,  0.04194612,\n",
       "         -0.03484323,  0.01859448],\n",
       "        [ 0.01908474, -0.03435092,  0.02871677, ..., -0.03672355,\n",
       "         -0.03887798,  0.0381931 ],\n",
       "        ...,\n",
       "        [-0.00877762,  0.00353751, -0.03961351, ..., -0.01321178,\n",
       "          0.01791376,  0.030415  ],\n",
       "        [ 0.01131337,  0.04163983, -0.04220608, ...,  0.02421404,\n",
       "         -0.01973401,  0.04267912],\n",
       "        [-0.02747294, -0.02909501,  0.01040313, ...,  0.04236308,\n",
       "         -0.00021143, -0.00360651]],\n",
       "\n",
       "       [[-0.01137154,  0.04321411,  0.01501567, ...,  0.04785836,\n",
       "          0.02750878, -0.0456108 ],\n",
       "        [-0.04948485,  0.01553145, -0.00445541, ..., -0.02548319,\n",
       "         -0.04260905, -0.01637111],\n",
       "        [ 0.00771375,  0.01418949, -0.02966871, ..., -0.02433339,\n",
       "          0.03007663,  0.04405656],\n",
       "        ...,\n",
       "        [-0.04245013, -0.04369625, -0.00745174, ..., -0.02887666,\n",
       "          0.0211875 , -0.02105311],\n",
       "        [ 0.00075133,  0.04705832, -0.0099011 , ...,  0.03679546,\n",
       "          0.02188944, -0.0427985 ],\n",
       "        [-0.04180858, -0.02706591,  0.03971518, ..., -0.00590224,\n",
       "          0.0462114 , -0.02364596]],\n",
       "\n",
       "       [[ 0.03430139, -0.00241095, -0.00311046, ...,  0.01570058,\n",
       "         -0.02430536,  0.01952494],\n",
       "        [-0.01418289,  0.03385847, -0.01002707, ..., -0.04341499,\n",
       "          0.03771505, -0.03444292],\n",
       "        [-0.04403187, -0.00080888, -0.04573116, ...,  0.02615689,\n",
       "          0.0352635 , -0.01470863],\n",
       "        ...,\n",
       "        [ 0.02505323, -0.00709969, -0.02701831, ..., -0.00977211,\n",
       "          0.00344364, -0.04917982],\n",
       "        [-0.02110264,  0.0064174 ,  0.01298917, ..., -0.01282104,\n",
       "         -0.00152799,  0.04445503],\n",
       "        [-0.02035762, -0.00759503,  0.00761897, ..., -0.01448221,\n",
       "         -0.02940068, -0.0489417 ]]], dtype=float32)>"
      ]
     },
     "execution_count": 20,
     "metadata": {},
     "output_type": "execute_result"
    }
   ],
   "source": [
    "# Define where to get the data for our embeddings from\n",
    "inputs = embedding_layer(_input_data)\n",
    "inputs"
   ]
  },
  {
   "cell_type": "markdown",
   "metadata": {},
   "source": [
    "<h3>Constructing Recurrent Neural Networks</h3>\n"
   ]
  },
  {
   "cell_type": "markdown",
   "metadata": {
    "button": false,
    "deletable": true,
    "new_sheet": false,
    "run_control": {
     "read_only": false
    }
   },
   "source": [
    "In this step, we create the stacked LSTM using <b>tf.keras.layers.StackedRNNCells</b>, which is a 2 layer LSTM network:\n"
   ]
  },
  {
   "cell_type": "code",
   "execution_count": 21,
   "metadata": {},
   "outputs": [],
   "source": [
    "lstm_cell_l1 = tf.keras.layers.LSTMCell(hidden_size_l1)\n",
    "lstm_cell_l2 = tf.keras.layers.LSTMCell(hidden_size_l2)"
   ]
  },
  {
   "cell_type": "code",
   "execution_count": 22,
   "metadata": {
    "button": false,
    "deletable": true,
    "new_sheet": false,
    "run_control": {
     "read_only": false
    }
   },
   "outputs": [],
   "source": [
    "stacked_lstm = tf.keras.layers.StackedRNNCells([lstm_cell_l1, lstm_cell_l2])"
   ]
  },
  {
   "cell_type": "markdown",
   "metadata": {},
   "source": [
    "<b>tf.keras.layers.RNN</b> creates a recurrent neural network using <b>stacked_lstm</b>.\n",
    "\n",
    "The input should be a Tensor of shape: \\[batch_size, max_time, embedding_vector_size], in our case it would be (30, 20, 200)\n"
   ]
  },
  {
   "cell_type": "code",
   "execution_count": 23,
   "metadata": {},
   "outputs": [],
   "source": [
    "layer  =  tf.keras.layers.RNN(stacked_lstm,[batch_size, num_steps],return_state=False,stateful=True,trainable=True)"
   ]
  },
  {
   "cell_type": "markdown",
   "metadata": {
    "button": false,
    "deletable": true,
    "new_sheet": false,
    "run_control": {
     "read_only": false
    }
   },
   "source": [
    "Also, we initialize the states of the nework:\n",
    "\n",
    "<h4>_initial_state</h4>\n",
    "\n",
    "For each LSTM, there are 2 state matrices, c_state and m_state.  c_state and m_state represent \"Memory State\" and \"Cell State\". Each hidden layer, has a vector of size 30, which keeps the states. so, for 200 hidden units in each LSTM, we have a matrix of size \\[30x200]\n"
   ]
  },
  {
   "cell_type": "code",
   "execution_count": 24,
   "metadata": {},
   "outputs": [],
   "source": [
    "init_state = tf.Variable(tf.zeros([batch_size,embeding_vector_size]),trainable=False)"
   ]
  },
  {
   "cell_type": "code",
   "execution_count": 25,
   "metadata": {},
   "outputs": [],
   "source": [
    "layer.inital_state = init_state"
   ]
  },
  {
   "cell_type": "code",
   "execution_count": 26,
   "metadata": {},
   "outputs": [
    {
     "data": {
      "text/plain": [
       "<tf.Variable 'Variable:0' shape=(30, 200) dtype=float32, numpy=\n",
       "array([[0., 0., 0., ..., 0., 0., 0.],\n",
       "       [0., 0., 0., ..., 0., 0., 0.],\n",
       "       [0., 0., 0., ..., 0., 0., 0.],\n",
       "       ...,\n",
       "       [0., 0., 0., ..., 0., 0., 0.],\n",
       "       [0., 0., 0., ..., 0., 0., 0.],\n",
       "       [0., 0., 0., ..., 0., 0., 0.]], dtype=float32)>"
      ]
     },
     "execution_count": 26,
     "metadata": {},
     "output_type": "execute_result"
    }
   ],
   "source": [
    "layer.inital_state"
   ]
  },
  {
   "cell_type": "markdown",
   "metadata": {},
   "source": [
    "so, lets look at the outputs. The output of the stackedLSTM comes from 128 hidden_layer, and in each time step(=20), one of them get activated. we use the linear activation to map the 128 hidden layer to a \\[30X20 matrix]\n"
   ]
  },
  {
   "cell_type": "code",
   "execution_count": 27,
   "metadata": {},
   "outputs": [],
   "source": [
    "outputs = layer(inputs)"
   ]
  },
  {
   "cell_type": "code",
   "execution_count": 28,
   "metadata": {},
   "outputs": [
    {
     "data": {
      "text/plain": [
       "<tf.Tensor: shape=(30, 20, 128), dtype=float32, numpy=\n",
       "array([[[-1.1755031e-03,  1.3307523e-03, -4.6329998e-04, ...,\n",
       "          1.2767990e-03, -7.0076820e-04,  5.3029018e-04],\n",
       "        [-9.3150139e-04,  1.7519993e-03, -4.8916187e-04, ...,\n",
       "          1.2184158e-03, -3.8656814e-04,  7.6988491e-04],\n",
       "        [-1.0203407e-03,  1.8014052e-03, -2.1186608e-03, ...,\n",
       "          5.5604213e-04, -1.0297435e-03, -2.5089592e-05],\n",
       "        ...,\n",
       "        [-3.2153683e-05,  3.7637572e-03, -1.5804393e-04, ...,\n",
       "         -2.6696215e-03,  2.8351326e-03,  6.8855612e-04],\n",
       "        [-5.0526962e-04,  2.8300702e-03, -1.4824559e-03, ...,\n",
       "         -2.3262915e-03,  3.5620348e-03,  1.3453629e-03],\n",
       "        [ 1.4098796e-04,  1.9142636e-03, -1.5996562e-03, ...,\n",
       "         -1.0753081e-03,  1.4274102e-03,  1.7834987e-03]],\n",
       "\n",
       "       [[-1.0678247e-03, -2.1608658e-03,  5.6893530e-04, ...,\n",
       "         -1.0051943e-03,  6.2514440e-04,  9.4066205e-04],\n",
       "        [-7.5051509e-04, -2.5678754e-03,  1.6796333e-03, ...,\n",
       "         -1.3571235e-03,  1.5591782e-03,  1.0487909e-03],\n",
       "        [-1.1029074e-03, -2.8961999e-03,  2.5510495e-03, ...,\n",
       "         -1.4377915e-03,  1.8507938e-03,  9.1207115e-04],\n",
       "        ...,\n",
       "        [ 3.4954310e-03, -2.7123734e-03, -1.8376677e-03, ...,\n",
       "          3.5194890e-03, -5.7258895e-03,  2.2441423e-03],\n",
       "        [ 3.6735618e-03, -3.1045508e-03, -1.9929851e-03, ...,\n",
       "          4.1605635e-03, -3.6949138e-03,  1.6084205e-03],\n",
       "        [ 2.7824999e-03, -3.4187839e-03, -2.1422212e-03, ...,\n",
       "          4.9505099e-03, -2.5852174e-03,  7.8447978e-04]],\n",
       "\n",
       "       [[ 3.8742341e-04, -1.2749330e-04, -2.0863058e-04, ...,\n",
       "         -8.5792504e-04,  9.6921733e-04,  1.1877893e-03],\n",
       "        [ 6.8588083e-04, -8.1845844e-04, -5.8503635e-04, ...,\n",
       "         -1.7345592e-03,  2.0426903e-03,  2.4796848e-03],\n",
       "        [-5.8973808e-04, -1.5659068e-03, -3.9322517e-04, ...,\n",
       "         -2.7473397e-03,  1.6792932e-03,  5.1808627e-03],\n",
       "        ...,\n",
       "        [-2.3600606e-03, -6.9840159e-03, -5.3695687e-03, ...,\n",
       "         -7.8744218e-03, -4.8089186e-03, -2.0593133e-04],\n",
       "        [-2.9328438e-03, -6.4890240e-03, -5.7205316e-03, ...,\n",
       "         -8.2398402e-03, -5.5415514e-03, -1.6374709e-03],\n",
       "        [-3.0577169e-03, -7.4594705e-03, -4.5116753e-03, ...,\n",
       "         -8.3696395e-03, -4.7711283e-03, -1.5635211e-03]],\n",
       "\n",
       "       ...,\n",
       "\n",
       "       [[-1.2236329e-03,  3.0626674e-04,  7.0791750e-04, ...,\n",
       "         -3.8089021e-04, -3.7313352e-05, -4.3326206e-04],\n",
       "        [-2.2163829e-03,  5.2302331e-04,  1.3396934e-03, ...,\n",
       "         -1.4338854e-03,  4.2177743e-04, -1.4500447e-03],\n",
       "        [-2.5111267e-03,  1.2503826e-03,  2.3504118e-03, ...,\n",
       "         -2.8255575e-03,  1.2856555e-03, -1.2519252e-03],\n",
       "        ...,\n",
       "        [-2.7463634e-03,  4.0321867e-03, -4.7040139e-03, ...,\n",
       "         -5.2836305e-03, -4.5824372e-03, -5.6394543e-03],\n",
       "        [-1.9186576e-03,  5.8200294e-03, -4.4888570e-03, ...,\n",
       "         -5.7922862e-03, -5.5567371e-03, -4.4302414e-03],\n",
       "        [-5.4448168e-04,  6.7086783e-03, -2.8664898e-03, ...,\n",
       "         -5.6696841e-03, -4.7041653e-03, -4.1417982e-03]],\n",
       "\n",
       "       [[-4.1926795e-04, -1.0032324e-03, -8.4297656e-04, ...,\n",
       "          3.7171555e-04,  1.4587227e-04, -1.9785794e-03],\n",
       "        [-1.1257397e-03, -6.6475966e-04, -1.8555064e-03, ...,\n",
       "          6.4349867e-04,  5.3277460e-04, -2.2196106e-03],\n",
       "        [-2.5602048e-03, -6.9330644e-04, -1.9317690e-03, ...,\n",
       "          1.0328698e-04, -5.2781859e-05,  6.4034946e-05],\n",
       "        ...,\n",
       "        [-2.9038258e-03, -2.1964656e-03,  5.0236098e-04, ...,\n",
       "         -1.0770254e-03,  4.9319109e-03,  8.2963044e-03],\n",
       "        [-2.0170701e-03, -2.1206432e-03,  8.4714039e-04, ...,\n",
       "         -7.1846513e-04,  4.9090246e-03,  7.9164952e-03],\n",
       "        [-1.6421902e-03, -1.9490075e-03,  1.8949503e-04, ...,\n",
       "         -8.9452835e-04,  5.8229393e-03,  6.3275020e-03]],\n",
       "\n",
       "       [[-2.9932184e-04, -7.4774475e-04, -3.5922226e-04, ...,\n",
       "          6.0819148e-05,  8.8971783e-04, -5.2618718e-04],\n",
       "        [-1.3435467e-03, -2.8806413e-03,  9.1857143e-04, ...,\n",
       "          1.2411712e-03,  2.5639848e-03, -1.2169168e-03],\n",
       "        [-1.6048427e-03, -3.8134060e-03,  2.3172663e-03, ...,\n",
       "          1.3263717e-03,  1.8517433e-03, -1.3211803e-03],\n",
       "        ...,\n",
       "        [-2.5767973e-03, -8.7266406e-03,  2.8796876e-03, ...,\n",
       "          9.5875136e-04,  3.9504963e-04, -5.8394102e-03],\n",
       "        [-1.9826705e-03, -7.3571573e-03,  1.3971374e-03, ...,\n",
       "         -1.8462900e-04,  8.5234008e-04, -6.0998537e-03],\n",
       "        [-5.2051060e-04, -5.9551853e-03,  8.7408221e-04, ...,\n",
       "         -1.6688311e-04,  1.2457643e-03, -5.9661535e-03]]], dtype=float32)>"
      ]
     },
     "execution_count": 28,
     "metadata": {},
     "output_type": "execute_result"
    }
   ],
   "source": [
    "outputs"
   ]
  },
  {
   "cell_type": "markdown",
   "metadata": {
    "button": false,
    "deletable": true,
    "new_sheet": false,
    "run_control": {
     "read_only": false
    }
   },
   "source": [
    "<h2>Dense layer</h2>\n",
    "We now create densely-connected neural network layer that would reshape the outputs tensor from  [30 x 20 x 128] to [30 x 20 x 10000].\n"
   ]
  },
  {
   "cell_type": "code",
   "execution_count": 29,
   "metadata": {},
   "outputs": [],
   "source": [
    "dense = tf.keras.layers.Dense(vocab_size)"
   ]
  },
  {
   "cell_type": "code",
   "execution_count": 30,
   "metadata": {},
   "outputs": [],
   "source": [
    "logits_outputs  = dense(outputs)"
   ]
  },
  {
   "cell_type": "code",
   "execution_count": 31,
   "metadata": {},
   "outputs": [
    {
     "name": "stdout",
     "output_type": "stream",
     "text": [
      "shape of the output from dense layer:  (30, 20, 10000)\n"
     ]
    }
   ],
   "source": [
    "print(\"shape of the output from dense layer: \", logits_outputs.shape) #(batch_size, sequence_length, vocab_size)"
   ]
  },
  {
   "cell_type": "markdown",
   "metadata": {},
   "source": [
    "<h2>Activation layer</h2>\n",
    "\n",
    "A softmax activation layers is also then applied to derive the probability of the output being in any of the multiclass(10000 in this case) possibilities.\n"
   ]
  },
  {
   "cell_type": "code",
   "execution_count": 32,
   "metadata": {},
   "outputs": [],
   "source": [
    "activation = tf.keras.layers.Activation('softmax')"
   ]
  },
  {
   "cell_type": "code",
   "execution_count": 33,
   "metadata": {},
   "outputs": [],
   "source": [
    "output_words_prob = activation(logits_outputs)"
   ]
  },
  {
   "cell_type": "code",
   "execution_count": 34,
   "metadata": {},
   "outputs": [
    {
     "name": "stdout",
     "output_type": "stream",
     "text": [
      "shape of the output from the activation layer:  (30, 20, 10000)\n"
     ]
    }
   ],
   "source": [
    "print(\"shape of the output from the activation layer: \", output_words_prob.shape) #(batch_size, sequence_length, vocab_size)"
   ]
  },
  {
   "cell_type": "markdown",
   "metadata": {},
   "source": [
    "Lets look at the probability of observing words for t=0 to t=20:\n"
   ]
  },
  {
   "cell_type": "code",
   "execution_count": 35,
   "metadata": {},
   "outputs": [
    {
     "name": "stdout",
     "output_type": "stream",
     "text": [
      "The probability of observing words in t=0 to t=20 tf.Tensor(\n",
      "[[9.99916228e-05 9.99862314e-05 9.99954937e-05 ... 1.00017474e-04\n",
      "  1.00011523e-04 1.00018071e-04]\n",
      " [9.99778786e-05 9.99684999e-05 1.00004450e-04 ... 1.00031597e-04\n",
      "  1.00010315e-04 1.00031910e-04]\n",
      " [9.99705953e-05 9.99664189e-05 1.00019497e-04 ... 1.00061370e-04\n",
      "  9.99838303e-05 1.00031211e-04]\n",
      " ...\n",
      " [9.99573895e-05 1.00140664e-04 1.00023790e-04 ... 9.99548065e-05\n",
      "  1.00010315e-04 1.00025500e-04]\n",
      " [9.99785698e-05 1.00128513e-04 1.00001365e-04 ... 9.99600088e-05\n",
      "  1.00002675e-04 1.00023768e-04]\n",
      " [9.99779295e-05 1.00127414e-04 1.00007084e-04 ... 9.99628901e-05\n",
      "  1.00000048e-04 1.00017591e-04]], shape=(20, 10000), dtype=float32)\n"
     ]
    }
   ],
   "source": [
    "print(\"The probability of observing words in t=0 to t=20\", output_words_prob[0,0:num_steps])"
   ]
  },
  {
   "cell_type": "markdown",
   "metadata": {
    "button": false,
    "deletable": true,
    "new_sheet": false,
    "run_control": {
     "read_only": false
    }
   },
   "source": [
    "<h3>Prediction</h3>\n",
    "What is the word correspond to the probability output? Lets use the maximum probability:\n"
   ]
  },
  {
   "cell_type": "code",
   "execution_count": 36,
   "metadata": {},
   "outputs": [
    {
     "data": {
      "text/plain": [
       "array([9824, 9824, 9824, 9824, 9824, 9127, 3418, 3418, 8709, 1485, 1485,\n",
       "       1485, 1485, 1485, 3282, 3282, 3282, 3282, 5823, 3266])"
      ]
     },
     "execution_count": 36,
     "metadata": {},
     "output_type": "execute_result"
    }
   ],
   "source": [
    "np.argmax(output_words_prob[0,0:num_steps], axis=1)"
   ]
  },
  {
   "cell_type": "markdown",
   "metadata": {
    "button": false,
    "deletable": true,
    "new_sheet": false,
    "run_control": {
     "read_only": false
    }
   },
   "source": [
    "So, what is the ground truth for the first word of first sentence? You can get it from target tensor, if you want to find the embedding vector:\n"
   ]
  },
  {
   "cell_type": "code",
   "execution_count": 37,
   "metadata": {
    "button": false,
    "deletable": true,
    "new_sheet": false,
    "run_control": {
     "read_only": false
    }
   },
   "outputs": [
    {
     "data": {
      "text/plain": [
       "array([9971, 9972, 9974, 9975, 9976, 9980, 9981, 9982, 9983, 9984, 9986,\n",
       "       9987, 9988, 9989, 9991, 9992, 9993, 9994, 9995, 9996], dtype=int32)"
      ]
     },
     "execution_count": 37,
     "metadata": {},
     "output_type": "execute_result"
    }
   ],
   "source": [
    "_targets[0]"
   ]
  },
  {
   "cell_type": "markdown",
   "metadata": {
    "button": false,
    "new_sheet": false,
    "run_control": {
     "read_only": false
    }
   },
   "source": [
    "<h4>Objective function</h4>\n",
    "\n",
    "How similar the predicted words are to the target words?\n",
    "\n",
    "Now we have to define our objective function, to calculate the similarity of predicted values to ground truth, and then, penalize the model with the error. Our objective is to minimize loss function, that is, to minimize the average negative log probability of the target words:\n",
    "\n",
    "$$\\text{loss} = -\\frac{1}{N}\\sum\\_{i=1}^{N} \\ln p\\_{\\text{target}\\_i}$$\n",
    "\n",
    "This function is already implemented and available in TensorFlow through *tf.keras.losses.sparse_categorical_crossentropy*. It calculates the categorical cross-entropy loss for <b>logits</b> and the <b>target</b> sequence.\n",
    "\n",
    "The arguments of this function are:\n",
    "\n",
    "<ul>\n",
    "    <li>logits: List of 2D Tensors of shape [batch_size x num_decoder_symbols].</li>  \n",
    "    <li>targets: List of 1D batch-sized int32 Tensors of the same length as logits.</li>   \n",
    "</ul>\n"
   ]
  },
  {
   "cell_type": "code",
   "execution_count": 41,
   "metadata": {},
   "outputs": [],
   "source": [
    "def crossentropy(y_true, y_pred):\n",
    "    return tf.keras.losses.sparse_categorical_crossentropy(y_true, y_pred)"
   ]
  },
  {
   "cell_type": "code",
   "execution_count": 42,
   "metadata": {},
   "outputs": [],
   "source": [
    "loss  = crossentropy(_targets, output_words_prob)"
   ]
  },
  {
   "cell_type": "markdown",
   "metadata": {
    "button": false,
    "new_sheet": false,
    "run_control": {
     "read_only": false
    }
   },
   "source": [
    "Lets look at the first 10 values of loss:\n"
   ]
  },
  {
   "cell_type": "code",
   "execution_count": 43,
   "metadata": {},
   "outputs": [
    {
     "data": {
      "text/plain": [
       "<tf.Tensor: shape=(10,), dtype=float32, numpy=\n",
       "array([9.210148 , 9.210134 , 9.21137  , 9.209958 , 9.209925 , 9.210596 ,\n",
       "       9.209928 , 9.209905 , 9.2099285, 9.210166 ], dtype=float32)>"
      ]
     },
     "execution_count": 43,
     "metadata": {},
     "output_type": "execute_result"
    }
   ],
   "source": [
    "loss[0,:10]"
   ]
  },
  {
   "cell_type": "markdown",
   "metadata": {},
   "source": [
    "Now, we define cost as average of the losses:\n"
   ]
  },
  {
   "cell_type": "code",
   "execution_count": 44,
   "metadata": {},
   "outputs": [
    {
     "data": {
      "text/plain": [
       "<tf.Tensor: shape=(), dtype=float32, numpy=184.20709>"
      ]
     },
     "execution_count": 44,
     "metadata": {},
     "output_type": "execute_result"
    }
   ],
   "source": [
    "cost = tf.reduce_sum(loss / batch_size)\n",
    "cost"
   ]
  },
  {
   "cell_type": "markdown",
   "metadata": {
    "button": false,
    "deletable": true,
    "new_sheet": false,
    "run_control": {
     "read_only": false
    }
   },
   "source": [
    "<h3>Training</h3>\n",
    "\n",
    "To do training for our network, we have to take the following steps:\n",
    "\n",
    "<ol>\n",
    "    <li>Define the optimizer.</li>\n",
    "    <li>Assemble layers to build model.</li>\n",
    "    <li>Calculate the gradients based on the loss function.</li>\n",
    "    <li>Apply the optimizer to the variables/gradients tuple.</li>\n",
    "</ol>\n"
   ]
  },
  {
   "cell_type": "markdown",
   "metadata": {
    "button": false,
    "deletable": true,
    "new_sheet": false,
    "run_control": {
     "read_only": false
    }
   },
   "source": [
    "<h4>1. Define Optimizer</h4>\n"
   ]
  },
  {
   "cell_type": "code",
   "execution_count": 45,
   "metadata": {},
   "outputs": [],
   "source": [
    "# Create a variable for the learning rate\n",
    "lr = tf.Variable(0.0, trainable=False)\n",
    "optimizer = tf.keras.optimizers.SGD(lr=lr, clipnorm=max_grad_norm)"
   ]
  },
  {
   "cell_type": "markdown",
   "metadata": {},
   "source": [
    "<h4>2. Assemble layers to build model.</h4>\n"
   ]
  },
  {
   "cell_type": "code",
   "execution_count": 46,
   "metadata": {},
   "outputs": [
    {
     "name": "stdout",
     "output_type": "stream",
     "text": [
      "Model: \"sequential\"\n",
      "_________________________________________________________________\n",
      "Layer (type)                 Output Shape              Param #   \n",
      "=================================================================\n",
      "embedding_vocab (Embedding)  (30, 20, 200)             2000000   \n",
      "_________________________________________________________________\n",
      "rnn (RNN)                    (30, 20, 128)             671088    \n",
      "_________________________________________________________________\n",
      "dense (Dense)                (30, 20, 10000)           1290000   \n",
      "_________________________________________________________________\n",
      "activation (Activation)      (30, 20, 10000)           0         \n",
      "=================================================================\n",
      "Total params: 3,961,088\n",
      "Trainable params: 3,955,088\n",
      "Non-trainable params: 6,000\n",
      "_________________________________________________________________\n"
     ]
    }
   ],
   "source": [
    "model = tf.keras.Sequential()\n",
    "model.add(embedding_layer)\n",
    "model.add(layer)\n",
    "model.add(dense)\n",
    "model.add(activation)\n",
    "model.compile(loss=crossentropy, optimizer=optimizer)\n",
    "model.summary()"
   ]
  },
  {
   "cell_type": "markdown",
   "metadata": {
    "button": false,
    "new_sheet": false,
    "run_control": {
     "read_only": false
    }
   },
   "source": [
    "<h4>2. Trainable Variables</h4>\n"
   ]
  },
  {
   "cell_type": "markdown",
   "metadata": {
    "button": false,
    "new_sheet": false,
    "run_control": {
     "read_only": false
    }
   },
   "source": [
    "Defining a variable, if you passed <i>trainable=True</i>, the variable constructor automatically adds new variables to the graph collection <b>GraphKeys.TRAINABLE_VARIABLES</b>. Now, using <i>tf.trainable_variables()</i> you can get all variables created with <b>trainable=True</b>.\n"
   ]
  },
  {
   "cell_type": "code",
   "execution_count": 47,
   "metadata": {
    "button": false,
    "new_sheet": false,
    "run_control": {
     "read_only": false
    }
   },
   "outputs": [],
   "source": [
    "# Get all TensorFlow variables marked as \"trainable\" (i.e. all of them except _lr, which we just created)\n",
    "tvars = model.trainable_variables"
   ]
  },
  {
   "cell_type": "markdown",
   "metadata": {
    "button": false,
    "new_sheet": false,
    "run_control": {
     "read_only": false
    }
   },
   "source": [
    "Note: we can find the name and scope of all variables:\n"
   ]
  },
  {
   "cell_type": "code",
   "execution_count": 48,
   "metadata": {
    "button": false,
    "new_sheet": false,
    "run_control": {
     "read_only": false
    }
   },
   "outputs": [
    {
     "data": {
      "text/plain": [
       "['embedding_vocab/embeddings:0',\n",
       " 'rnn/stacked_rnn_cells/lstm_cell/kernel:0',\n",
       " 'rnn/stacked_rnn_cells/lstm_cell/recurrent_kernel:0',\n",
       " 'rnn/stacked_rnn_cells/lstm_cell/bias:0',\n",
       " 'rnn/stacked_rnn_cells/lstm_cell_1/kernel:0',\n",
       " 'rnn/stacked_rnn_cells/lstm_cell_1/recurrent_kernel:0',\n",
       " 'rnn/stacked_rnn_cells/lstm_cell_1/bias:0',\n",
       " 'dense/kernel:0',\n",
       " 'dense/bias:0']"
      ]
     },
     "execution_count": 48,
     "metadata": {},
     "output_type": "execute_result"
    }
   ],
   "source": [
    "[v.name for v in tvars] "
   ]
  },
  {
   "cell_type": "markdown",
   "metadata": {
    "button": false,
    "new_sheet": false,
    "run_control": {
     "read_only": false
    }
   },
   "source": [
    "<h4>3. Calculate the gradients based on the loss function</h4>\n"
   ]
  },
  {
   "cell_type": "markdown",
   "metadata": {
    "button": false,
    "deletable": true,
    "new_sheet": false,
    "run_control": {
     "read_only": false
    }
   },
   "source": [
    "**Gradient**: The gradient of a function is the slope of its derivative (line), or in other words, the rate of change of a function. It's a vector (a direction to move) that points in the direction of greatest increase of the function, and calculated by the <b>derivative</b> operation.\n"
   ]
  },
  {
   "cell_type": "markdown",
   "metadata": {},
   "source": [
    "First lets recall the gradient function using an toy example:\n",
    "$$ z = \\left(2x^2 + 3xy\\right)$$\n"
   ]
  },
  {
   "cell_type": "code",
   "execution_count": 49,
   "metadata": {},
   "outputs": [],
   "source": [
    "x = tf.constant(1.0)\n",
    "y =  tf.constant(2.0)\n",
    "with tf.GradientTape(persistent=True) as g:\n",
    "    g.watch(x)\n",
    "    g.watch(y)\n",
    "    func_test = 2 * x * x + 3 * x * y"
   ]
  },
  {
   "cell_type": "markdown",
   "metadata": {},
   "source": [
    "The <b>tf.gradients()</b> function allows you to compute the symbolic gradient of one tensor with respect to one or more other tensors—including variables. <b>tf.gradients(func, xs)</b> constructs symbolic partial derivatives of sum of <b>func</b> w\\.r.t. <i>x</i> in <b>xs</b>.\n",
    "\n",
    "Now, lets look at the derivitive w\\.r.t. <b>var_x</b>:\n",
    "$$ \\frac{\\partial :}{\\partial \\:x}\\left(2x^2 + 3xy\\right) = 4x + 3y $$\n"
   ]
  },
  {
   "cell_type": "code",
   "execution_count": 50,
   "metadata": {},
   "outputs": [
    {
     "name": "stdout",
     "output_type": "stream",
     "text": [
      "tf.Tensor(10.0, shape=(), dtype=float32)\n"
     ]
    }
   ],
   "source": [
    "var_grad = g.gradient(func_test, x) # Will compute to 10.0\n",
    "print(var_grad)"
   ]
  },
  {
   "cell_type": "markdown",
   "metadata": {},
   "source": [
    "the derivative w\\.r.t. <b>var_y</b>:\n",
    "$$ \\frac{\\partial :}{\\partial \\:y}\\left(2x^2 + 3xy\\right) = 3x $$\n"
   ]
  },
  {
   "cell_type": "code",
   "execution_count": 51,
   "metadata": {},
   "outputs": [
    {
     "name": "stdout",
     "output_type": "stream",
     "text": [
      "tf.Tensor(3.0, shape=(), dtype=float32)\n"
     ]
    }
   ],
   "source": [
    "var_grad = g.gradient(func_test, y) # Will compute to 3.0\n",
    "print(var_grad)"
   ]
  },
  {
   "cell_type": "markdown",
   "metadata": {},
   "source": [
    "Now, we can look at gradients w\\.r.t all variables:\n"
   ]
  },
  {
   "cell_type": "code",
   "execution_count": 52,
   "metadata": {},
   "outputs": [],
   "source": [
    "with tf.GradientTape() as tape:\n",
    "    # Forward pass.\n",
    "    output_words_prob = model(_input_data)\n",
    "    # Loss value for this batch.\n",
    "    loss  = crossentropy(_targets, output_words_prob)\n",
    "    cost = tf.reduce_sum(loss,axis=0) / batch_size"
   ]
  },
  {
   "cell_type": "code",
   "execution_count": 53,
   "metadata": {},
   "outputs": [],
   "source": [
    "# Get gradients of loss wrt the trainable variables.\n",
    "grad_t_list = tape.gradient(cost, tvars)"
   ]
  },
  {
   "cell_type": "code",
   "execution_count": 54,
   "metadata": {},
   "outputs": [
    {
     "name": "stdout",
     "output_type": "stream",
     "text": [
      "[<tensorflow.python.framework.indexed_slices.IndexedSlices object at 0x7f69c22b6710>, <tf.Tensor: shape=(200, 1024), dtype=float32, numpy=\n",
      "array([[ 2.2865663e-08,  5.9009017e-07, -2.4067248e-08, ...,\n",
      "         9.6189865e-09,  2.0520805e-08,  6.2615989e-08],\n",
      "       [-2.9703423e-07,  8.3810022e-07,  4.9733353e-07, ...,\n",
      "        -7.7244624e-07, -1.1179716e-07,  2.6597118e-07],\n",
      "       [ 3.6348929e-08, -2.6450630e-07, -4.7725132e-07, ...,\n",
      "         2.6862000e-07,  2.7114697e-07, -1.0726438e-08],\n",
      "       ...,\n",
      "       [-3.5232583e-07,  3.9642396e-07,  4.3826236e-07, ...,\n",
      "         4.1881930e-07, -9.2286605e-08, -9.0951332e-08],\n",
      "       [ 1.3231727e-09,  1.8548231e-07, -5.9971069e-07, ...,\n",
      "         1.6437269e-09,  1.1754638e-07,  1.2294660e-07],\n",
      "       [-4.5508150e-07, -1.2480217e-06, -6.3888439e-07, ...,\n",
      "        -6.9941031e-08, -2.6649013e-07,  1.5137000e-07]], dtype=float32)>, <tf.Tensor: shape=(256, 1024), dtype=float32, numpy=\n",
      "array([[-8.52698179e-09, -4.90231500e-08,  2.58297330e-08, ...,\n",
      "        -5.42167626e-08, -5.40433511e-08,  1.18997242e-07],\n",
      "       [ 5.82697801e-08,  7.40814272e-08,  2.36730315e-08, ...,\n",
      "         1.26903945e-08,  1.00277035e-07,  7.77885987e-08],\n",
      "       [-2.46457876e-08,  1.34592909e-07,  7.44750892e-08, ...,\n",
      "         1.04278023e-07,  1.09051960e-07, -1.20365886e-08],\n",
      "       ...,\n",
      "       [-5.48594699e-08, -1.67109789e-07, -6.56196306e-08, ...,\n",
      "        -6.85921009e-07, -5.23627648e-08,  1.35836103e-07],\n",
      "       [-1.33952128e-07,  6.88899249e-08,  3.60365959e-08, ...,\n",
      "        -1.60373219e-07, -2.18407152e-07,  9.74729346e-08],\n",
      "       [ 4.49555415e-08,  1.97575645e-08, -4.19321680e-08, ...,\n",
      "        -1.64823945e-07, -1.87863719e-07, -1.18004181e-07]], dtype=float32)>, <tf.Tensor: shape=(1024,), dtype=float32, numpy=\n",
      "array([ 4.5522893e-06, -2.0315350e-05,  2.1109467e-05, ...,\n",
      "       -5.0236387e-05, -2.2563821e-05, -3.9615584e-06], dtype=float32)>, <tf.Tensor: shape=(256, 512), dtype=float32, numpy=\n",
      "array([[-1.84927174e-07,  1.62009115e-07,  1.11938476e-07, ...,\n",
      "        -1.82793471e-07, -2.13476667e-08, -8.19228489e-08],\n",
      "       [ 2.15770314e-07, -8.86435458e-08,  1.66032912e-08, ...,\n",
      "         2.36375996e-07,  1.62815894e-08,  1.28231648e-07],\n",
      "       [ 1.73870887e-07,  1.56082606e-07,  1.81031965e-07, ...,\n",
      "        -9.79718635e-08,  3.62611203e-08,  2.09196656e-07],\n",
      "       ...,\n",
      "       [-1.91391251e-07,  1.96594897e-07,  3.54291885e-08, ...,\n",
      "        -1.53681327e-07, -2.65885376e-08, -1.08147844e-07],\n",
      "       [-6.29617034e-08,  2.37431337e-07, -3.77512421e-08, ...,\n",
      "         4.61937333e-09, -1.41870771e-07, -3.74381955e-07],\n",
      "       [ 2.02121555e-07, -2.23524907e-07, -2.04198152e-08, ...,\n",
      "         8.89856366e-09,  1.47811399e-08, -2.36865034e-07]], dtype=float32)>, <tf.Tensor: shape=(128, 512), dtype=float32, numpy=\n",
      "array([[ 2.06456406e-07,  7.62027739e-08, -1.22841897e-08, ...,\n",
      "        -1.76114945e-08,  2.86155704e-08, -1.19753906e-07],\n",
      "       [-2.55116333e-07,  3.41296641e-07, -4.62505412e-09, ...,\n",
      "         2.85248831e-07,  7.94781840e-08, -1.63745000e-08],\n",
      "       [ 1.69406690e-07, -3.12582131e-07,  3.13077990e-08, ...,\n",
      "         1.93187944e-07,  1.29706024e-08,  1.16942445e-07],\n",
      "       ...,\n",
      "       [ 9.69978231e-08,  9.35752311e-08,  4.17524113e-08, ...,\n",
      "         2.77738025e-07,  1.04608979e-07,  1.61576651e-07],\n",
      "       [ 2.20589946e-08,  1.46925515e-07, -1.64721854e-08, ...,\n",
      "         2.95426652e-08,  1.92955980e-07,  3.41588944e-08],\n",
      "       [-1.14765896e-07,  4.03623179e-09, -7.86877195e-08, ...,\n",
      "        -6.13385112e-08, -4.64296903e-08, -2.95014999e-08]], dtype=float32)>, <tf.Tensor: shape=(512,), dtype=float32, numpy=\n",
      "array([-2.18323585e-05,  1.36932485e-05,  1.42349936e-05,  2.13485182e-05,\n",
      "        6.34072603e-06, -5.90036580e-05, -4.89439117e-07, -1.38503492e-06,\n",
      "       -3.47687201e-05,  1.35175178e-05, -1.69613159e-05, -9.77590753e-06,\n",
      "        5.19742480e-06,  1.24132821e-05, -2.58907967e-05,  1.35287100e-05,\n",
      "       -5.14165949e-05,  5.62096011e-06,  1.11155969e-05,  1.16189158e-05,\n",
      "        1.87872411e-05,  3.29815775e-05, -3.60890626e-05, -2.16210901e-06,\n",
      "       -1.99383649e-05, -6.72493697e-05,  1.34879565e-05, -3.77926813e-06,\n",
      "       -4.86298995e-05, -2.29922953e-05, -2.67501855e-05,  2.50266166e-05,\n",
      "        9.50942922e-06,  3.77812830e-06, -4.45786536e-05,  3.24435023e-05,\n",
      "        5.63972617e-06, -9.93170488e-06,  4.05272694e-05,  6.19422508e-06,\n",
      "       -2.38631401e-05, -2.74794293e-05,  2.18028690e-05, -1.86079160e-05,\n",
      "       -2.38073662e-05,  5.37485812e-06, -1.75147579e-05, -6.80195853e-06,\n",
      "        6.10058560e-05,  1.65994516e-06,  1.47104447e-06,  2.12722680e-05,\n",
      "        2.56778239e-05,  3.94381414e-06, -1.04804349e-05,  3.62082301e-06,\n",
      "       -2.85300648e-05,  8.74811303e-06,  8.37256957e-05,  3.06124057e-05,\n",
      "       -2.52713453e-05,  1.60054915e-05, -1.18054313e-05,  5.26022559e-05,\n",
      "        9.06835612e-06,  1.67919807e-05, -5.64028414e-05, -1.82769363e-05,\n",
      "       -1.50632186e-05, -8.11645150e-05, -9.37350978e-06, -7.06667015e-06,\n",
      "        8.25887128e-06,  2.60338820e-05,  2.49712830e-05,  2.05923079e-05,\n",
      "       -1.42994722e-05, -3.23914610e-05,  2.91914566e-05, -4.82036994e-05,\n",
      "       -6.25277535e-05,  8.01935857e-06, -3.02707258e-06,  3.65518063e-05,\n",
      "        7.96525419e-05, -2.64914843e-06,  1.97397571e-06, -9.08437141e-06,\n",
      "        1.63441700e-06, -1.52087023e-05,  2.54396000e-05,  2.24907035e-05,\n",
      "        6.29097194e-05, -2.21415903e-05, -1.85039717e-05,  2.68096919e-05,\n",
      "        1.67737417e-05, -6.08664559e-05,  2.80406994e-06, -4.43934259e-05,\n",
      "        1.76203666e-05, -1.64553221e-05,  3.60153099e-05, -2.19224376e-06,\n",
      "       -1.22741994e-05,  1.26090081e-05, -5.80920532e-05, -4.27588820e-05,\n",
      "        6.71556018e-06, -1.00386787e-05,  8.86229827e-05, -2.48720517e-05,\n",
      "        3.27882262e-05, -2.19755129e-05, -3.50548289e-05,  2.11800743e-05,\n",
      "        6.19331695e-05, -3.95972602e-05, -2.66728366e-05,  2.73669411e-06,\n",
      "       -4.34948561e-06, -9.31654431e-05, -2.31160448e-06, -1.22024867e-05,\n",
      "       -1.73530934e-05, -4.55895206e-05, -2.29089273e-05, -2.89299187e-05,\n",
      "       -4.09854401e-05,  8.10733309e-06,  1.92521875e-05,  9.63357161e-06,\n",
      "        2.21689570e-05, -9.99438926e-05, -3.64923562e-06, -1.78549744e-05,\n",
      "       -3.79147423e-05,  3.37805395e-05, -2.04091120e-05, -1.83300090e-05,\n",
      "        2.10537996e-06,  1.65057900e-05, -3.99766177e-05,  1.17290392e-05,\n",
      "       -1.03058686e-04, -1.37830302e-05, -1.11247009e-05,  3.21859843e-05,\n",
      "       -2.02716365e-06,  7.48913590e-05, -3.53594369e-05,  3.22835967e-06,\n",
      "       -3.10971809e-05, -1.13333095e-04,  2.55719588e-05, -2.23881452e-05,\n",
      "       -4.57600618e-05, -7.66675512e-05, -3.18616003e-07,  4.07196749e-05,\n",
      "        1.53708461e-05,  4.85415585e-05, -4.74970730e-05,  4.01903199e-05,\n",
      "        1.49689440e-05, -4.01919024e-05,  4.47722196e-05,  2.35913612e-05,\n",
      "       -1.62893357e-05, -1.63382392e-05,  3.99396158e-05, -2.96134276e-05,\n",
      "       -4.46645390e-05,  1.09077591e-05, -6.66372762e-06,  4.14680835e-06,\n",
      "        5.88018011e-05, -1.02553631e-05,  1.98375237e-05,  2.19286521e-05,\n",
      "        3.27047892e-05,  1.86660473e-05, -2.73671485e-05, -1.58793300e-05,\n",
      "       -2.96583530e-05, -6.15921681e-06,  1.05622588e-04,  2.40365880e-05,\n",
      "       -3.61937273e-05,  3.62373758e-05, -1.29825039e-05,  5.23762901e-05,\n",
      "        1.55849521e-05,  2.26957054e-05, -7.85216398e-05, -3.36170851e-05,\n",
      "       -1.58672083e-05, -1.28856627e-04, -3.36103185e-05, -6.69766587e-06,\n",
      "        2.89051532e-05,  3.27143862e-05,  2.69699813e-05,  3.26941881e-05,\n",
      "       -2.43674731e-05, -4.79825030e-05,  4.76157584e-05, -5.60767112e-05,\n",
      "       -5.76374223e-05,  4.63762262e-06, -3.68908331e-06,  5.60231056e-05,\n",
      "        1.01059522e-04, -2.09764175e-06, -5.46719048e-06, -6.77990101e-07,\n",
      "       -5.72914814e-06, -4.87140242e-05,  2.27024666e-05,  1.94271506e-05,\n",
      "        8.01144197e-05, -4.50681327e-05, -5.44514478e-08,  3.01583568e-05,\n",
      "        2.68377335e-06, -1.13801900e-04, -4.99838607e-05, -4.30748805e-05,\n",
      "        4.82351606e-05, -2.59959670e-05,  3.39083745e-05, -3.95725056e-06,\n",
      "       -9.58092642e-07,  3.30840594e-05, -1.00863421e-04, -8.21715221e-05,\n",
      "       -6.10585630e-07, -2.18119749e-05,  1.51319269e-04, -5.64473085e-05,\n",
      "        7.27157158e-06, -2.08136789e-05, -3.25096480e-05,  3.02977569e-05,\n",
      "        6.71603048e-05, -2.95622958e-05, -6.52107701e-06, -8.45420072e-06,\n",
      "       -1.19592260e-05, -1.59497926e-04,  1.03448865e-05, -2.47402440e-05,\n",
      "        9.04814442e-07, -6.41908919e-05, -3.21069710e-05, -3.06945694e-05,\n",
      "        1.67760886e-02,  2.10282691e-02,  9.57833230e-03, -5.43638617e-02,\n",
      "        4.57333820e-03,  3.15307602e-02,  6.95350021e-03,  1.07337311e-02,\n",
      "        1.95180103e-02, -3.51242581e-03, -1.13621866e-02,  5.74989244e-02,\n",
      "       -4.95484099e-03, -3.81299891e-02,  1.04172863e-02, -2.31682584e-02,\n",
      "       -4.27829921e-02, -5.51534351e-04,  8.30025692e-03,  5.29248416e-02,\n",
      "       -3.75947892e-03, -2.22975463e-02,  6.77166805e-02, -1.11869201e-02,\n",
      "       -5.55614941e-03,  6.31993562e-02,  4.53523174e-03, -9.28350817e-03,\n",
      "       -7.28806201e-03,  3.97526622e-02, -1.79304387e-02, -8.74492154e-03,\n",
      "       -2.52657924e-02, -1.54348835e-02,  3.12876143e-02, -1.27320327e-02,\n",
      "       -5.94264492e-02, -3.17139998e-02, -3.67398448e-02,  2.70161219e-03,\n",
      "        3.25871632e-02, -2.31101122e-02,  5.07108644e-02,  1.49682991e-03,\n",
      "       -3.26380134e-02,  7.96805508e-03,  1.32912062e-02, -1.46660600e-02,\n",
      "        3.45471278e-02,  4.03631218e-02, -1.33773154e-02,  2.58715358e-03,\n",
      "        2.86579207e-02,  2.15198100e-02,  1.04045700e-02, -4.32815254e-02,\n",
      "        4.30298820e-02,  7.26502715e-03,  4.16223668e-02, -2.64676381e-02,\n",
      "        4.54930589e-02,  6.11456623e-03, -2.89927050e-02, -1.02790557e-02,\n",
      "       -1.01853935e-02,  9.23071802e-03,  4.10135202e-02, -1.62704773e-02,\n",
      "       -5.83679276e-03, -6.82965964e-02, -3.55095826e-02, -2.55761761e-03,\n",
      "        2.21420508e-02, -1.73550844e-02,  1.86392665e-02, -1.96832195e-02,\n",
      "       -1.63184032e-02, -1.95688438e-02,  1.32183693e-02,  4.43457440e-02,\n",
      "        2.33258083e-02,  2.02761637e-03,  1.06686382e-02, -5.55031747e-02,\n",
      "       -2.37628352e-04,  8.44305847e-03, -2.59651281e-02, -2.41522137e-02,\n",
      "        3.25152837e-02,  1.70399211e-02,  1.54803963e-02, -9.03399475e-03,\n",
      "        2.86106970e-02,  6.42323941e-02, -3.63296345e-02, -1.15601476e-02,\n",
      "       -1.10371327e-02,  6.04329407e-02, -1.50775788e-02,  4.66386601e-03,\n",
      "       -5.10244593e-02, -8.68847128e-03,  1.64046474e-02,  6.45310152e-03,\n",
      "       -2.45901123e-02, -2.23162137e-02,  1.79917943e-02, -2.64524948e-02,\n",
      "        1.30471606e-02, -8.10290105e-04, -8.91793370e-02,  2.31605582e-02,\n",
      "        1.37722827e-02, -1.89705379e-03,  3.06621678e-02, -2.07447074e-02,\n",
      "       -8.41520261e-03, -3.39209684e-03, -4.42046858e-02, -8.22027400e-03,\n",
      "        2.50635147e-02, -4.08559740e-02,  9.14267730e-04,  1.00972801e-02,\n",
      "        1.20659042e-02,  2.02569924e-02,  1.29236374e-02, -1.02914590e-02,\n",
      "       -2.75475722e-05,  1.05122745e-05,  1.03123512e-05,  2.03370528e-05,\n",
      "       -4.00695899e-06, -5.90639211e-05, -3.85236035e-06,  5.04413765e-06,\n",
      "       -4.21326949e-05,  1.70159874e-05, -2.94391975e-05, -1.45615777e-05,\n",
      "        1.51244458e-05,  1.91123181e-05, -3.20311810e-05,  8.67014751e-06,\n",
      "       -7.22252007e-05, -1.39526037e-06,  5.26826352e-06,  2.68576441e-05,\n",
      "        1.13513270e-05,  4.38899442e-05, -3.37632118e-05, -9.98940141e-06,\n",
      "       -2.24945506e-05, -8.36588733e-05,  2.07829198e-05, -4.58497925e-06,\n",
      "       -5.20395770e-05, -1.81438463e-05, -3.81803111e-05,  2.20695638e-05,\n",
      "        1.56287988e-05, -3.24166103e-06, -5.41090958e-05,  2.60384259e-05,\n",
      "        1.65452348e-05, -1.38774321e-05,  5.23815870e-05,  1.41822702e-05,\n",
      "       -3.14842400e-05, -3.12672710e-05,  2.28654644e-05, -2.44019720e-05,\n",
      "       -2.91304150e-05, -5.70365228e-06, -1.83664961e-05, -3.69406735e-06,\n",
      "        6.33935560e-05, -1.42675754e-06, -1.51413951e-06,  2.46319614e-05,\n",
      "        2.99722124e-05,  7.75270018e-06, -1.55333546e-05,  7.04447666e-06,\n",
      "       -3.22299966e-05,  7.94527477e-06,  9.20901875e-05,  2.54181614e-05,\n",
      "       -4.24717509e-05,  2.11473180e-05, -1.28893598e-05,  6.17228216e-05,\n",
      "        7.67512665e-06,  2.61529112e-05, -5.41862028e-05, -3.20282561e-05,\n",
      "       -1.64679586e-05, -9.44006679e-05, -1.74450124e-05, -7.62145646e-07,\n",
      "        1.97415993e-05,  3.84812593e-05,  3.36354933e-05,  2.95299906e-05,\n",
      "       -1.46367247e-05, -3.57119134e-05,  3.45087756e-05, -5.41276604e-05,\n",
      "       -7.21947436e-05,  8.95950961e-06, -7.73876764e-07,  3.66341665e-05,\n",
      "        9.35303469e-05,  9.26457233e-06, -6.41599968e-07, -1.23475511e-05,\n",
      "       -3.27477665e-06, -1.17538129e-05,  2.59483932e-05,  2.32398179e-05,\n",
      "        6.79100485e-05, -1.84651908e-05, -1.70400526e-05,  2.93787252e-05,\n",
      "        1.77546117e-05, -7.48057500e-05, -4.00125100e-06, -4.31472217e-05,\n",
      "        2.71513600e-05, -1.36870667e-05,  3.76263924e-05, -8.19836168e-06,\n",
      "       -1.03212269e-05,  5.89319825e-06, -7.72932835e-05, -5.60486915e-05,\n",
      "        1.43744637e-06, -1.03890889e-05,  1.07679043e-04, -3.36900011e-05,\n",
      "        2.65485323e-05, -2.10235739e-05, -3.36713929e-05,  1.42383587e-05,\n",
      "        6.58610370e-05, -4.20436736e-05, -2.97001025e-05, -1.06801235e-06,\n",
      "       -5.22402433e-06, -1.05065948e-04, -5.28234705e-06, -1.31379620e-05,\n",
      "       -1.96582005e-05, -4.58773720e-05, -2.40493882e-05, -2.43695722e-05],\n",
      "      dtype=float32)>, <tf.Tensor: shape=(128, 10000), dtype=float32, numpy=\n",
      "array([[ 1.3595670e-03,  2.9347567e-03,  1.3360602e-03, ...,\n",
      "        -3.6002684e-06, -3.6018009e-06, -3.6026272e-06],\n",
      "       [ 1.0729842e-03,  1.3104078e-03,  2.0159219e-04, ...,\n",
      "        -1.7057732e-06, -1.7075412e-06, -1.7078435e-06],\n",
      "       [ 1.9756325e-03,  2.8910229e-03,  2.2975290e-03, ...,\n",
      "        -3.6631363e-06, -3.6635324e-06, -3.6615570e-06],\n",
      "       ...,\n",
      "       [ 1.7888458e-03,  1.8992568e-03,  1.8062182e-03, ...,\n",
      "        -1.7904520e-06, -1.7910018e-06, -1.7916256e-06],\n",
      "       [ 5.2913034e-04, -1.7860502e-03,  7.4714405e-04, ...,\n",
      "        -5.3792519e-07, -5.4011855e-07, -5.3965027e-07],\n",
      "       [-1.9192051e-03, -2.3328075e-03, -2.4945023e-03, ...,\n",
      "         3.3450488e-06,  3.3485064e-06,  3.3478264e-06]], dtype=float32)>, <tf.Tensor: shape=(10000,), dtype=float32, numpy=\n",
      "array([-0.79799813, -1.0313313 , -1.0313315 , ...,  0.00199927,\n",
      "        0.00199984,  0.0019997 ], dtype=float32)>]\n"
     ]
    }
   ],
   "source": [
    "print(grad_t_list)"
   ]
  },
  {
   "cell_type": "markdown",
   "metadata": {
    "button": false,
    "new_sheet": false,
    "run_control": {
     "read_only": false
    }
   },
   "source": [
    "now, we have a list of tensors, t-list. We can use it to find clipped tensors. <b>clip_by_global_norm</b> clips values of multiple tensors by the ratio of the sum of their norms.\n",
    "\n",
    "<b>clip_by_global_norm</b> get <i>t-list</i> as input and returns 2 things:\n",
    "\n",
    "<ul>\n",
    "    <li>a list of clipped tensors, so called <i>list_clipped</i></li> \n",
    "    <li>the global norm (global_norm) of all tensors in t_list</li> \n",
    "</ul>\n"
   ]
  },
  {
   "cell_type": "code",
   "execution_count": 55,
   "metadata": {},
   "outputs": [
    {
     "data": {
      "text/plain": [
       "[<tensorflow.python.framework.indexed_slices.IndexedSlices at 0x7f69e8bf4390>,\n",
       " <tf.Tensor: shape=(200, 1024), dtype=float32, numpy=\n",
       " array([[ 2.2865663e-08,  5.9009017e-07, -2.4067248e-08, ...,\n",
       "          9.6189865e-09,  2.0520805e-08,  6.2615989e-08],\n",
       "        [-2.9703423e-07,  8.3810022e-07,  4.9733353e-07, ...,\n",
       "         -7.7244624e-07, -1.1179716e-07,  2.6597118e-07],\n",
       "        [ 3.6348929e-08, -2.6450630e-07, -4.7725132e-07, ...,\n",
       "          2.6862000e-07,  2.7114697e-07, -1.0726438e-08],\n",
       "        ...,\n",
       "        [-3.5232583e-07,  3.9642396e-07,  4.3826236e-07, ...,\n",
       "          4.1881930e-07, -9.2286605e-08, -9.0951332e-08],\n",
       "        [ 1.3231727e-09,  1.8548231e-07, -5.9971069e-07, ...,\n",
       "          1.6437269e-09,  1.1754638e-07,  1.2294660e-07],\n",
       "        [-4.5508150e-07, -1.2480217e-06, -6.3888439e-07, ...,\n",
       "         -6.9941031e-08, -2.6649013e-07,  1.5137000e-07]], dtype=float32)>,\n",
       " <tf.Tensor: shape=(256, 1024), dtype=float32, numpy=\n",
       " array([[-8.52698179e-09, -4.90231500e-08,  2.58297330e-08, ...,\n",
       "         -5.42167626e-08, -5.40433511e-08,  1.18997242e-07],\n",
       "        [ 5.82697801e-08,  7.40814272e-08,  2.36730315e-08, ...,\n",
       "          1.26903945e-08,  1.00277035e-07,  7.77885987e-08],\n",
       "        [-2.46457876e-08,  1.34592909e-07,  7.44750892e-08, ...,\n",
       "          1.04278023e-07,  1.09051960e-07, -1.20365886e-08],\n",
       "        ...,\n",
       "        [-5.48594699e-08, -1.67109789e-07, -6.56196306e-08, ...,\n",
       "         -6.85921009e-07, -5.23627648e-08,  1.35836103e-07],\n",
       "        [-1.33952128e-07,  6.88899249e-08,  3.60365959e-08, ...,\n",
       "         -1.60373219e-07, -2.18407152e-07,  9.74729346e-08],\n",
       "        [ 4.49555415e-08,  1.97575645e-08, -4.19321680e-08, ...,\n",
       "         -1.64823945e-07, -1.87863719e-07, -1.18004181e-07]], dtype=float32)>,\n",
       " <tf.Tensor: shape=(1024,), dtype=float32, numpy=\n",
       " array([ 4.5522893e-06, -2.0315350e-05,  2.1109467e-05, ...,\n",
       "        -5.0236387e-05, -2.2563821e-05, -3.9615584e-06], dtype=float32)>,\n",
       " <tf.Tensor: shape=(256, 512), dtype=float32, numpy=\n",
       " array([[-1.84927174e-07,  1.62009115e-07,  1.11938476e-07, ...,\n",
       "         -1.82793471e-07, -2.13476667e-08, -8.19228489e-08],\n",
       "        [ 2.15770314e-07, -8.86435458e-08,  1.66032912e-08, ...,\n",
       "          2.36375996e-07,  1.62815894e-08,  1.28231648e-07],\n",
       "        [ 1.73870887e-07,  1.56082606e-07,  1.81031965e-07, ...,\n",
       "         -9.79718635e-08,  3.62611203e-08,  2.09196656e-07],\n",
       "        ...,\n",
       "        [-1.91391251e-07,  1.96594897e-07,  3.54291885e-08, ...,\n",
       "         -1.53681327e-07, -2.65885376e-08, -1.08147844e-07],\n",
       "        [-6.29617034e-08,  2.37431337e-07, -3.77512421e-08, ...,\n",
       "          4.61937333e-09, -1.41870771e-07, -3.74381955e-07],\n",
       "        [ 2.02121555e-07, -2.23524907e-07, -2.04198152e-08, ...,\n",
       "          8.89856366e-09,  1.47811399e-08, -2.36865034e-07]], dtype=float32)>,\n",
       " <tf.Tensor: shape=(128, 512), dtype=float32, numpy=\n",
       " array([[ 2.06456406e-07,  7.62027739e-08, -1.22841897e-08, ...,\n",
       "         -1.76114945e-08,  2.86155704e-08, -1.19753906e-07],\n",
       "        [-2.55116333e-07,  3.41296641e-07, -4.62505412e-09, ...,\n",
       "          2.85248831e-07,  7.94781840e-08, -1.63745000e-08],\n",
       "        [ 1.69406690e-07, -3.12582131e-07,  3.13077990e-08, ...,\n",
       "          1.93187944e-07,  1.29706024e-08,  1.16942445e-07],\n",
       "        ...,\n",
       "        [ 9.69978231e-08,  9.35752311e-08,  4.17524113e-08, ...,\n",
       "          2.77738025e-07,  1.04608979e-07,  1.61576651e-07],\n",
       "        [ 2.20589946e-08,  1.46925515e-07, -1.64721854e-08, ...,\n",
       "          2.95426652e-08,  1.92955980e-07,  3.41588944e-08],\n",
       "        [-1.14765896e-07,  4.03623179e-09, -7.86877195e-08, ...,\n",
       "         -6.13385112e-08, -4.64296903e-08, -2.95014999e-08]], dtype=float32)>,\n",
       " <tf.Tensor: shape=(512,), dtype=float32, numpy=\n",
       " array([-2.18323585e-05,  1.36932485e-05,  1.42349936e-05,  2.13485182e-05,\n",
       "         6.34072603e-06, -5.90036580e-05, -4.89439117e-07, -1.38503492e-06,\n",
       "        -3.47687201e-05,  1.35175178e-05, -1.69613159e-05, -9.77590753e-06,\n",
       "         5.19742480e-06,  1.24132821e-05, -2.58907967e-05,  1.35287100e-05,\n",
       "        -5.14165949e-05,  5.62096011e-06,  1.11155969e-05,  1.16189158e-05,\n",
       "         1.87872411e-05,  3.29815775e-05, -3.60890626e-05, -2.16210901e-06,\n",
       "        -1.99383649e-05, -6.72493697e-05,  1.34879565e-05, -3.77926813e-06,\n",
       "        -4.86298995e-05, -2.29922953e-05, -2.67501855e-05,  2.50266166e-05,\n",
       "         9.50942922e-06,  3.77812830e-06, -4.45786536e-05,  3.24435023e-05,\n",
       "         5.63972617e-06, -9.93170488e-06,  4.05272694e-05,  6.19422508e-06,\n",
       "        -2.38631401e-05, -2.74794293e-05,  2.18028690e-05, -1.86079160e-05,\n",
       "        -2.38073662e-05,  5.37485812e-06, -1.75147579e-05, -6.80195853e-06,\n",
       "         6.10058560e-05,  1.65994516e-06,  1.47104447e-06,  2.12722680e-05,\n",
       "         2.56778239e-05,  3.94381414e-06, -1.04804349e-05,  3.62082301e-06,\n",
       "        -2.85300648e-05,  8.74811303e-06,  8.37256957e-05,  3.06124057e-05,\n",
       "        -2.52713453e-05,  1.60054915e-05, -1.18054313e-05,  5.26022559e-05,\n",
       "         9.06835612e-06,  1.67919807e-05, -5.64028414e-05, -1.82769363e-05,\n",
       "        -1.50632186e-05, -8.11645150e-05, -9.37350978e-06, -7.06667015e-06,\n",
       "         8.25887128e-06,  2.60338820e-05,  2.49712830e-05,  2.05923079e-05,\n",
       "        -1.42994722e-05, -3.23914610e-05,  2.91914566e-05, -4.82036994e-05,\n",
       "        -6.25277535e-05,  8.01935857e-06, -3.02707258e-06,  3.65518063e-05,\n",
       "         7.96525419e-05, -2.64914843e-06,  1.97397571e-06, -9.08437141e-06,\n",
       "         1.63441700e-06, -1.52087023e-05,  2.54396000e-05,  2.24907035e-05,\n",
       "         6.29097194e-05, -2.21415903e-05, -1.85039717e-05,  2.68096919e-05,\n",
       "         1.67737417e-05, -6.08664559e-05,  2.80406994e-06, -4.43934259e-05,\n",
       "         1.76203666e-05, -1.64553221e-05,  3.60153099e-05, -2.19224376e-06,\n",
       "        -1.22741994e-05,  1.26090081e-05, -5.80920532e-05, -4.27588820e-05,\n",
       "         6.71556018e-06, -1.00386787e-05,  8.86229827e-05, -2.48720517e-05,\n",
       "         3.27882262e-05, -2.19755129e-05, -3.50548289e-05,  2.11800743e-05,\n",
       "         6.19331695e-05, -3.95972602e-05, -2.66728366e-05,  2.73669411e-06,\n",
       "        -4.34948561e-06, -9.31654431e-05, -2.31160448e-06, -1.22024867e-05,\n",
       "        -1.73530934e-05, -4.55895206e-05, -2.29089273e-05, -2.89299187e-05,\n",
       "        -4.09854401e-05,  8.10733309e-06,  1.92521875e-05,  9.63357161e-06,\n",
       "         2.21689570e-05, -9.99438926e-05, -3.64923562e-06, -1.78549744e-05,\n",
       "        -3.79147423e-05,  3.37805395e-05, -2.04091120e-05, -1.83300090e-05,\n",
       "         2.10537996e-06,  1.65057900e-05, -3.99766177e-05,  1.17290392e-05,\n",
       "        -1.03058686e-04, -1.37830302e-05, -1.11247009e-05,  3.21859843e-05,\n",
       "        -2.02716365e-06,  7.48913590e-05, -3.53594369e-05,  3.22835967e-06,\n",
       "        -3.10971809e-05, -1.13333095e-04,  2.55719588e-05, -2.23881452e-05,\n",
       "        -4.57600618e-05, -7.66675512e-05, -3.18616003e-07,  4.07196749e-05,\n",
       "         1.53708461e-05,  4.85415585e-05, -4.74970730e-05,  4.01903199e-05,\n",
       "         1.49689440e-05, -4.01919024e-05,  4.47722196e-05,  2.35913612e-05,\n",
       "        -1.62893357e-05, -1.63382392e-05,  3.99396158e-05, -2.96134276e-05,\n",
       "        -4.46645390e-05,  1.09077591e-05, -6.66372762e-06,  4.14680835e-06,\n",
       "         5.88018011e-05, -1.02553631e-05,  1.98375237e-05,  2.19286521e-05,\n",
       "         3.27047892e-05,  1.86660473e-05, -2.73671485e-05, -1.58793300e-05,\n",
       "        -2.96583530e-05, -6.15921681e-06,  1.05622588e-04,  2.40365880e-05,\n",
       "        -3.61937273e-05,  3.62373758e-05, -1.29825039e-05,  5.23762901e-05,\n",
       "         1.55849521e-05,  2.26957054e-05, -7.85216398e-05, -3.36170851e-05,\n",
       "        -1.58672083e-05, -1.28856627e-04, -3.36103185e-05, -6.69766587e-06,\n",
       "         2.89051532e-05,  3.27143862e-05,  2.69699813e-05,  3.26941881e-05,\n",
       "        -2.43674731e-05, -4.79825030e-05,  4.76157584e-05, -5.60767112e-05,\n",
       "        -5.76374223e-05,  4.63762262e-06, -3.68908331e-06,  5.60231056e-05,\n",
       "         1.01059522e-04, -2.09764175e-06, -5.46719048e-06, -6.77990101e-07,\n",
       "        -5.72914814e-06, -4.87140242e-05,  2.27024666e-05,  1.94271506e-05,\n",
       "         8.01144197e-05, -4.50681327e-05, -5.44514478e-08,  3.01583568e-05,\n",
       "         2.68377335e-06, -1.13801900e-04, -4.99838607e-05, -4.30748805e-05,\n",
       "         4.82351606e-05, -2.59959670e-05,  3.39083745e-05, -3.95725056e-06,\n",
       "        -9.58092642e-07,  3.30840594e-05, -1.00863421e-04, -8.21715221e-05,\n",
       "        -6.10585630e-07, -2.18119749e-05,  1.51319269e-04, -5.64473085e-05,\n",
       "         7.27157158e-06, -2.08136789e-05, -3.25096480e-05,  3.02977569e-05,\n",
       "         6.71603048e-05, -2.95622958e-05, -6.52107701e-06, -8.45420072e-06,\n",
       "        -1.19592260e-05, -1.59497926e-04,  1.03448865e-05, -2.47402440e-05,\n",
       "         9.04814442e-07, -6.41908919e-05, -3.21069710e-05, -3.06945694e-05,\n",
       "         1.67760886e-02,  2.10282691e-02,  9.57833230e-03, -5.43638617e-02,\n",
       "         4.57333820e-03,  3.15307602e-02,  6.95350021e-03,  1.07337311e-02,\n",
       "         1.95180103e-02, -3.51242581e-03, -1.13621866e-02,  5.74989244e-02,\n",
       "        -4.95484099e-03, -3.81299891e-02,  1.04172863e-02, -2.31682584e-02,\n",
       "        -4.27829921e-02, -5.51534351e-04,  8.30025692e-03,  5.29248416e-02,\n",
       "        -3.75947892e-03, -2.22975463e-02,  6.77166805e-02, -1.11869201e-02,\n",
       "        -5.55614941e-03,  6.31993562e-02,  4.53523174e-03, -9.28350817e-03,\n",
       "        -7.28806201e-03,  3.97526622e-02, -1.79304387e-02, -8.74492154e-03,\n",
       "        -2.52657924e-02, -1.54348835e-02,  3.12876143e-02, -1.27320327e-02,\n",
       "        -5.94264492e-02, -3.17139998e-02, -3.67398448e-02,  2.70161219e-03,\n",
       "         3.25871632e-02, -2.31101122e-02,  5.07108644e-02,  1.49682991e-03,\n",
       "        -3.26380134e-02,  7.96805508e-03,  1.32912062e-02, -1.46660600e-02,\n",
       "         3.45471278e-02,  4.03631218e-02, -1.33773154e-02,  2.58715358e-03,\n",
       "         2.86579207e-02,  2.15198100e-02,  1.04045700e-02, -4.32815254e-02,\n",
       "         4.30298820e-02,  7.26502715e-03,  4.16223668e-02, -2.64676381e-02,\n",
       "         4.54930589e-02,  6.11456623e-03, -2.89927050e-02, -1.02790557e-02,\n",
       "        -1.01853935e-02,  9.23071802e-03,  4.10135202e-02, -1.62704773e-02,\n",
       "        -5.83679276e-03, -6.82965964e-02, -3.55095826e-02, -2.55761761e-03,\n",
       "         2.21420508e-02, -1.73550844e-02,  1.86392665e-02, -1.96832195e-02,\n",
       "        -1.63184032e-02, -1.95688438e-02,  1.32183693e-02,  4.43457440e-02,\n",
       "         2.33258083e-02,  2.02761637e-03,  1.06686382e-02, -5.55031747e-02,\n",
       "        -2.37628352e-04,  8.44305847e-03, -2.59651281e-02, -2.41522137e-02,\n",
       "         3.25152837e-02,  1.70399211e-02,  1.54803963e-02, -9.03399475e-03,\n",
       "         2.86106970e-02,  6.42323941e-02, -3.63296345e-02, -1.15601476e-02,\n",
       "        -1.10371327e-02,  6.04329407e-02, -1.50775788e-02,  4.66386601e-03,\n",
       "        -5.10244593e-02, -8.68847128e-03,  1.64046474e-02,  6.45310152e-03,\n",
       "        -2.45901123e-02, -2.23162137e-02,  1.79917943e-02, -2.64524948e-02,\n",
       "         1.30471606e-02, -8.10290105e-04, -8.91793370e-02,  2.31605582e-02,\n",
       "         1.37722827e-02, -1.89705379e-03,  3.06621678e-02, -2.07447074e-02,\n",
       "        -8.41520261e-03, -3.39209684e-03, -4.42046858e-02, -8.22027400e-03,\n",
       "         2.50635147e-02, -4.08559740e-02,  9.14267730e-04,  1.00972801e-02,\n",
       "         1.20659042e-02,  2.02569924e-02,  1.29236374e-02, -1.02914590e-02,\n",
       "        -2.75475722e-05,  1.05122745e-05,  1.03123512e-05,  2.03370528e-05,\n",
       "        -4.00695899e-06, -5.90639211e-05, -3.85236035e-06,  5.04413765e-06,\n",
       "        -4.21326949e-05,  1.70159874e-05, -2.94391975e-05, -1.45615777e-05,\n",
       "         1.51244458e-05,  1.91123181e-05, -3.20311810e-05,  8.67014751e-06,\n",
       "        -7.22252007e-05, -1.39526037e-06,  5.26826352e-06,  2.68576441e-05,\n",
       "         1.13513270e-05,  4.38899442e-05, -3.37632118e-05, -9.98940141e-06,\n",
       "        -2.24945506e-05, -8.36588733e-05,  2.07829198e-05, -4.58497925e-06,\n",
       "        -5.20395770e-05, -1.81438463e-05, -3.81803111e-05,  2.20695638e-05,\n",
       "         1.56287988e-05, -3.24166103e-06, -5.41090958e-05,  2.60384259e-05,\n",
       "         1.65452348e-05, -1.38774321e-05,  5.23815870e-05,  1.41822702e-05,\n",
       "        -3.14842400e-05, -3.12672710e-05,  2.28654644e-05, -2.44019720e-05,\n",
       "        -2.91304150e-05, -5.70365228e-06, -1.83664961e-05, -3.69406735e-06,\n",
       "         6.33935560e-05, -1.42675754e-06, -1.51413951e-06,  2.46319614e-05,\n",
       "         2.99722124e-05,  7.75270018e-06, -1.55333546e-05,  7.04447666e-06,\n",
       "        -3.22299966e-05,  7.94527477e-06,  9.20901875e-05,  2.54181614e-05,\n",
       "        -4.24717509e-05,  2.11473180e-05, -1.28893598e-05,  6.17228216e-05,\n",
       "         7.67512665e-06,  2.61529112e-05, -5.41862028e-05, -3.20282561e-05,\n",
       "        -1.64679586e-05, -9.44006679e-05, -1.74450124e-05, -7.62145646e-07,\n",
       "         1.97415993e-05,  3.84812593e-05,  3.36354933e-05,  2.95299906e-05,\n",
       "        -1.46367247e-05, -3.57119134e-05,  3.45087756e-05, -5.41276604e-05,\n",
       "        -7.21947436e-05,  8.95950961e-06, -7.73876764e-07,  3.66341665e-05,\n",
       "         9.35303469e-05,  9.26457233e-06, -6.41599968e-07, -1.23475511e-05,\n",
       "        -3.27477665e-06, -1.17538129e-05,  2.59483932e-05,  2.32398179e-05,\n",
       "         6.79100485e-05, -1.84651908e-05, -1.70400526e-05,  2.93787252e-05,\n",
       "         1.77546117e-05, -7.48057500e-05, -4.00125100e-06, -4.31472217e-05,\n",
       "         2.71513600e-05, -1.36870667e-05,  3.76263924e-05, -8.19836168e-06,\n",
       "        -1.03212269e-05,  5.89319825e-06, -7.72932835e-05, -5.60486915e-05,\n",
       "         1.43744637e-06, -1.03890889e-05,  1.07679043e-04, -3.36900011e-05,\n",
       "         2.65485323e-05, -2.10235739e-05, -3.36713929e-05,  1.42383587e-05,\n",
       "         6.58610370e-05, -4.20436736e-05, -2.97001025e-05, -1.06801235e-06,\n",
       "        -5.22402433e-06, -1.05065948e-04, -5.28234705e-06, -1.31379620e-05,\n",
       "        -1.96582005e-05, -4.58773720e-05, -2.40493882e-05, -2.43695722e-05],\n",
       "       dtype=float32)>,\n",
       " <tf.Tensor: shape=(128, 10000), dtype=float32, numpy=\n",
       " array([[ 1.3595670e-03,  2.9347567e-03,  1.3360602e-03, ...,\n",
       "         -3.6002684e-06, -3.6018009e-06, -3.6026272e-06],\n",
       "        [ 1.0729842e-03,  1.3104078e-03,  2.0159219e-04, ...,\n",
       "         -1.7057732e-06, -1.7075412e-06, -1.7078435e-06],\n",
       "        [ 1.9756325e-03,  2.8910229e-03,  2.2975290e-03, ...,\n",
       "         -3.6631363e-06, -3.6635324e-06, -3.6615570e-06],\n",
       "        ...,\n",
       "        [ 1.7888458e-03,  1.8992568e-03,  1.8062182e-03, ...,\n",
       "         -1.7904520e-06, -1.7910018e-06, -1.7916256e-06],\n",
       "        [ 5.2913034e-04, -1.7860502e-03,  7.4714405e-04, ...,\n",
       "         -5.3792519e-07, -5.4011855e-07, -5.3965027e-07],\n",
       "        [-1.9192051e-03, -2.3328075e-03, -2.4945023e-03, ...,\n",
       "          3.3450488e-06,  3.3485064e-06,  3.3478264e-06]], dtype=float32)>,\n",
       " <tf.Tensor: shape=(10000,), dtype=float32, numpy=\n",
       " array([-0.79799813, -1.0313313 , -1.0313315 , ...,  0.00199927,\n",
       "         0.00199984,  0.0019997 ], dtype=float32)>]"
      ]
     },
     "execution_count": 55,
     "metadata": {},
     "output_type": "execute_result"
    }
   ],
   "source": [
    "# Define the gradient clipping threshold\n",
    "grads, _ = tf.clip_by_global_norm(grad_t_list, max_grad_norm)\n",
    "grads"
   ]
  },
  {
   "cell_type": "markdown",
   "metadata": {},
   "source": [
    "<h4> 4.Apply the optimizer to the variables/gradients tuple. </h4>\n"
   ]
  },
  {
   "cell_type": "code",
   "execution_count": 56,
   "metadata": {},
   "outputs": [],
   "source": [
    "# Create the training TensorFlow Operation through our optimizer\n",
    "train_op = optimizer.apply_gradients(zip(grads, tvars))"
   ]
  },
  {
   "cell_type": "markdown",
   "metadata": {},
   "source": [
    "<a id=\"ltsm\"></a>\n",
    "\n",
    "<h2>LSTM</h2>\n"
   ]
  },
  {
   "cell_type": "markdown",
   "metadata": {
    "button": false,
    "deletable": true,
    "new_sheet": false,
    "run_control": {
     "read_only": false
    }
   },
   "source": [
    "We learned how the model is build step by step. Noe, let's then create a Class that represents our model. This class needs a few things:\n",
    "\n",
    "<ul>\n",
    "    <li>We have to create the model in accordance with our defined hyperparameters</li>\n",
    "    <li>We have to create the LSTM cell structure and connect them with our RNN structure</li>\n",
    "    <li>We have to create the word embeddings and point them to the input data</li>\n",
    "    <li>We have to create the input structure for our RNN</li>\n",
    "    <li>We need to create a logistic structure to return the probability of our words</li>\n",
    "    <li>We need to create the loss and cost functions for our optimizer to work, and then create the optimizer</li>\n",
    "    <li>And finally, we need to create a training operation that can be run to actually train our model</li>\n",
    "</ul>\n"
   ]
  },
  {
   "cell_type": "code",
   "execution_count": 57,
   "metadata": {
    "button": false,
    "deletable": true,
    "new_sheet": false,
    "run_control": {
     "read_only": false
    },
    "tags": []
   },
   "outputs": [],
   "source": [
    "class PTBModel(object):\n",
    "\n",
    "\n",
    "    def __init__(self):\n",
    "        ######################################\n",
    "        # Setting parameters for ease of use #\n",
    "        ######################################\n",
    "        self.batch_size = batch_size\n",
    "        self.num_steps = num_steps\n",
    "        self.hidden_size_l1 = hidden_size_l1\n",
    "        self.hidden_size_l2 = hidden_size_l2\n",
    "        self.vocab_size = vocab_size\n",
    "        self.embeding_vector_size = embeding_vector_size\n",
    "        # Create a variable for the learning rate\n",
    "        self._lr = 1.0\n",
    "        \n",
    "        ###############################################################################\n",
    "        # Initializing the model using keras Sequential API  #\n",
    "        ###############################################################################\n",
    "        \n",
    "        self._model = tf.keras.models.Sequential()\n",
    "        \n",
    "        ####################################################################\n",
    "        # Creating the word embeddings layer and adding it to the sequence #\n",
    "        ####################################################################\n",
    "        with tf.device(\"/cpu:0\"):\n",
    "            # Create the embeddings for our input data. Size is hidden size.\n",
    "            self._embedding_layer = tf.keras.layers.Embedding(self.vocab_size, self.embeding_vector_size,batch_input_shape=(self.batch_size, self.num_steps),trainable=True,name=\"embedding_vocab\")  #[10000x200]\n",
    "            self._model.add(self._embedding_layer)\n",
    "            \n",
    "\n",
    "        ##########################################################################\n",
    "        # Creating the LSTM cell structure and connect it with the RNN structure #\n",
    "        ##########################################################################\n",
    "        # Create the LSTM Cells. \n",
    "        # This creates only the structure for the LSTM and has to be associated with a RNN unit still.\n",
    "        # The argument  of LSTMCell is size of hidden layer, that is, the number of hidden units of the LSTM (inside A). \n",
    "        # LSTM cell processes one word at a time and computes probabilities of the possible continuations of the sentence.\n",
    "        lstm_cell_l1 = tf.keras.layers.LSTMCell(hidden_size_l1)\n",
    "        lstm_cell_l2 = tf.keras.layers.LSTMCell(hidden_size_l2)\n",
    "        \n",
    "\n",
    "        \n",
    "        # By taking in the LSTM cells as parameters, the StackedRNNCells function junctions the LSTM units to the RNN units.\n",
    "        # RNN cell composed sequentially of stacked simple cells.\n",
    "        stacked_lstm = tf.keras.layers.StackedRNNCells([lstm_cell_l1, lstm_cell_l2])\n",
    "\n",
    "\n",
    "        \n",
    "\n",
    "        ############################################\n",
    "        # Creating the input structure for our RNN #\n",
    "        ############################################\n",
    "        # Input structure is 20x[30x200]\n",
    "        # Considering each word is represended by a 200 dimentional vector, and we have 30 batchs, we create 30 word-vectors of size [30xx2000]\n",
    "        # The input structure is fed from the embeddings, which are filled in by the input data\n",
    "        # Feeding a batch of b sentences to a RNN:\n",
    "        # In step 1,  first word of each of the b sentences (in a batch) is input in parallel.  \n",
    "        # In step 2,  second word of each of the b sentences is input in parallel. \n",
    "        # The parallelism is only for efficiency.  \n",
    "        # Each sentence in a batch is handled in parallel, but the network sees one word of a sentence at a time and does the computations accordingly. \n",
    "        # All the computations involving the words of all sentences in a batch at a given time step are done in parallel. \n",
    "\n",
    "        ########################################################################################################\n",
    "        # Instantiating our RNN model and setting stateful to True to feed forward the state to the next layer #\n",
    "        ########################################################################################################\n",
    "        \n",
    "        self._RNNlayer  =  tf.keras.layers.RNN(stacked_lstm,[batch_size, num_steps],return_state=False,stateful=True,trainable=True)\n",
    "        \n",
    "        # Define the initial state, i.e., the model state for the very first data point\n",
    "        # It initialize the state of the LSTM memory. The memory state of the network is initialized with a vector of zeros and gets updated after reading each word.\n",
    "        self._initial_state = tf.Variable(tf.zeros([batch_size,embeding_vector_size]),trainable=False)\n",
    "        self._RNNlayer.inital_state = self._initial_state\n",
    "    \n",
    "        ############################################\n",
    "        # Adding RNN layer to keras sequential API #\n",
    "        ############################################        \n",
    "        self._model.add(self._RNNlayer)\n",
    "        \n",
    "        #self._model.add(tf.keras.layers.LSTM(hidden_size_l1,return_sequences=True,stateful=True))\n",
    "        #self._model.add(tf.keras.layers.LSTM(hidden_size_l2,return_sequences=True))\n",
    "        \n",
    "        \n",
    "        ####################################################################################################\n",
    "        # Instantiating a Dense layer that connects the output to the vocab_size  and adding layer to model#\n",
    "        ####################################################################################################\n",
    "        self._dense = tf.keras.layers.Dense(self.vocab_size)\n",
    "        self._model.add(self._dense)\n",
    " \n",
    "        \n",
    "        ####################################################################################################\n",
    "        # Adding softmax activation layer and deriving probability to each class and adding layer to model #\n",
    "        ####################################################################################################\n",
    "        self._activation = tf.keras.layers.Activation('softmax')\n",
    "        self._model.add(self._activation)\n",
    "\n",
    "        ##########################################################\n",
    "        # Instantiating the stochastic gradient decent optimizer #\n",
    "        ########################################################## \n",
    "        self._optimizer = tf.keras.optimizers.SGD(lr=self._lr, clipnorm=max_grad_norm)\n",
    "        \n",
    "        \n",
    "        ##############################################################################\n",
    "        # Compiling and summarizing the model stacked using the keras sequential API #\n",
    "        ##############################################################################\n",
    "        self._model.compile(loss=self.crossentropy, optimizer=self._optimizer)\n",
    "        self._model.summary()\n",
    "\n",
    "\n",
    "    def crossentropy(self,y_true, y_pred):\n",
    "        return tf.keras.losses.sparse_categorical_crossentropy(y_true, y_pred)\n",
    "\n",
    "    def train_batch(self,_input_data,_targets):\n",
    "        #################################################\n",
    "        # Creating the Training Operation for our Model #\n",
    "        #################################################\n",
    "        # Create a variable for the learning rate\n",
    "        self._lr = tf.Variable(0.0, trainable=False)\n",
    "        # Get all TensorFlow variables marked as \"trainable\" (i.e. all of them except _lr, which we just created)\n",
    "        tvars = self._model.trainable_variables\n",
    "        # Define the gradient clipping threshold\n",
    "        with tf.GradientTape() as tape:\n",
    "            # Forward pass.\n",
    "            output_words_prob = self._model(_input_data)\n",
    "            # Loss value for this batch.\n",
    "            loss  = self.crossentropy(_targets, output_words_prob)\n",
    "            # average across batch and reduce sum\n",
    "            cost = tf.reduce_sum(loss/ self.batch_size)\n",
    "        # Get gradients of loss wrt the trainable variables.\n",
    "        grad_t_list = tape.gradient(cost, tvars)\n",
    "        # Define the gradient clipping threshold\n",
    "        grads, _ = tf.clip_by_global_norm(grad_t_list, max_grad_norm)\n",
    "        # Create the training TensorFlow Operation through our optimizer\n",
    "        train_op = self._optimizer.apply_gradients(zip(grads, tvars))\n",
    "        return cost\n",
    "        \n",
    "    def test_batch(self,_input_data,_targets):\n",
    "        #################################################\n",
    "        # Creating the Testing Operation for our Model #\n",
    "        #################################################\n",
    "        output_words_prob = self._model(_input_data)\n",
    "        loss  = self.crossentropy(_targets, output_words_prob)\n",
    "        # average across batch and reduce sum\n",
    "        cost = tf.reduce_sum(loss/ self.batch_size)\n",
    "\n",
    "        return cost\n",
    "    @classmethod\n",
    "    def instance(cls) : \n",
    "        return PTBModel()"
   ]
  },
  {
   "cell_type": "markdown",
   "metadata": {
    "button": false,
    "deletable": true,
    "new_sheet": false,
    "run_control": {
     "read_only": false
    }
   },
   "source": [
    "With that, the actual structure of our Recurrent Neural Network with Long Short-Term Memory is finished. What remains for us to do is to actually create the methods to run through time -- that is, the <code>run_epoch</code> method to be run at each epoch and a <code>main</code> script which ties all of this together.\n",
    "\n",
    "What our <code>run_epoch</code> method should do is take our input data and feed it to the relevant operations. This will return at the very least the current result for the cost function.\n"
   ]
  },
  {
   "cell_type": "code",
   "execution_count": 58,
   "metadata": {
    "button": false,
    "deletable": true,
    "new_sheet": false,
    "run_control": {
     "read_only": false
    }
   },
   "outputs": [],
   "source": [
    "\n",
    "########################################################################################################################\n",
    "# run_one_epoch takes as parameters  the model instance, the data to be fed, training or testing mode and verbose info #\n",
    "########################################################################################################################\n",
    "def run_one_epoch(m, data,is_training=True,verbose=False):\n",
    "\n",
    "    #Define the epoch size based on the length of the data, batch size and the number of steps\n",
    "    epoch_size = ((len(data) // m.batch_size) - 1) // m.num_steps\n",
    "    start_time = time.time()\n",
    "    costs = 0.\n",
    "    iters = 0\n",
    "    \n",
    "    m._model.reset_states()\n",
    "    \n",
    "    #For each step and data point\n",
    "    for step, (x, y) in enumerate(reader.ptb_iterator(data, m.batch_size, m.num_steps)):\n",
    "        \n",
    "        #Evaluate and return cost, state by running cost, final_state and the function passed as parameter\n",
    "        #y = tf.keras.utils.to_categorical(y, num_classes=vocab_size)\n",
    "        if is_training : \n",
    "            loss=  m.train_batch(x, y)\n",
    "        else :\n",
    "            loss = m.test_batch(x, y)\n",
    "                                   \n",
    "\n",
    "        #Add returned cost to costs (which keeps track of the total costs for this epoch)\n",
    "        costs += loss\n",
    "        \n",
    "        #Add number of steps to iteration counter\n",
    "        iters += m.num_steps\n",
    "\n",
    "        if verbose and step % (epoch_size // 10) == 10:\n",
    "            print(\"Itr %d of %d, perplexity: %.3f speed: %.0f wps\" % (step , epoch_size, np.exp(costs / iters), iters * m.batch_size / (time.time() - start_time)))\n",
    "        \n",
    "\n",
    "\n",
    "    # Returns the Perplexity rating for us to keep track of how the model is evolving\n",
    "    return np.exp(costs / iters)\n"
   ]
  },
  {
   "cell_type": "markdown",
   "metadata": {
    "button": false,
    "deletable": true,
    "new_sheet": false,
    "run_control": {
     "read_only": false
    }
   },
   "source": [
    "Now, we create the <code>main</code> method to tie everything together. The code here reads the data from the directory, using the <code>reader</code> helper module, and then trains and evaluates the model on both a testing and a validating subset of data.\n"
   ]
  },
  {
   "cell_type": "code",
   "execution_count": 59,
   "metadata": {
    "button": false,
    "deletable": true,
    "new_sheet": false,
    "run_control": {
     "read_only": false
    },
    "tags": []
   },
   "outputs": [],
   "source": [
    "# Reads the data and separates it into training data, validation data and testing data\n",
    "raw_data = reader.ptb_raw_data(data_dir)\n",
    "train_data, valid_data, test_data, _, _ = raw_data"
   ]
  },
  {
   "cell_type": "code",
   "execution_count": null,
   "metadata": {
    "tags": []
   },
   "outputs": [
    {
     "name": "stdout",
     "output_type": "stream",
     "text": [
      "Model: \"sequential_1\"\n",
      "_________________________________________________________________\n",
      "Layer (type)                 Output Shape              Param #   \n",
      "=================================================================\n",
      "embedding_vocab (Embedding)  (30, 20, 200)             2000000   \n",
      "_________________________________________________________________\n",
      "rnn_1 (RNN)                  (30, 20, 128)             671088    \n",
      "_________________________________________________________________\n",
      "dense_1 (Dense)              (30, 20, 10000)           1290000   \n",
      "_________________________________________________________________\n",
      "activation_1 (Activation)    (30, 20, 10000)           0         \n",
      "=================================================================\n",
      "Total params: 3,961,088\n",
      "Trainable params: 3,955,088\n",
      "Non-trainable params: 6,000\n",
      "_________________________________________________________________\n",
      "Epoch 1 : Learning rate: 1.000\n",
      "Itr 10 of 1549, perplexity: 4542.649 speed: 554 wps\n"
     ]
    }
   ],
   "source": [
    "# Instantiates the PTBModel class\n",
    "m=PTBModel.instance()   \n",
    "K = tf.keras.backend \n",
    "for i in range(max_epoch):\n",
    "    # Define the decay for this epoch\n",
    "    lr_decay = decay ** max(i - max_epoch_decay_lr, 0.0)\n",
    "    dcr = learning_rate * lr_decay\n",
    "    m._lr = dcr\n",
    "    K.set_value(m._model.optimizer.learning_rate,m._lr)\n",
    "    print(\"Epoch %d : Learning rate: %.3f\" % (i + 1, m._model.optimizer.learning_rate))\n",
    "    # Run the loop for this epoch in the training mode\n",
    "    train_perplexity = run_one_epoch(m, train_data,is_training=True,verbose=True)\n",
    "    print(\"Epoch %d : Train Perplexity: %.3f\" % (i + 1, train_perplexity))\n",
    "        \n",
    "    # Run the loop for this epoch in the validation mode\n",
    "    valid_perplexity = run_one_epoch(m, valid_data,is_training=False,verbose=False)\n",
    "    print(\"Epoch %d : Valid Perplexity: %.3f\" % (i + 1, valid_perplexity))\n",
    "    \n",
    "# Run the loop in the testing mode to see how effective was our training\n",
    "test_perplexity = run_one_epoch(m, test_data,is_training=False,verbose=False)\n",
    "print(\"Test Perplexity: %.3f\" % test_perplexity)\n",
    "\n"
   ]
  },
  {
   "cell_type": "markdown",
   "metadata": {
    "button": false,
    "deletable": true,
    "new_sheet": false,
    "run_control": {
     "read_only": false
    }
   },
   "source": [
    "As you can see, the model's perplexity rating drops very quickly after a few iterations. As was elaborated before, <b>lower Perplexity means that the model is more certain about its prediction</b>. As such, we can be sure that this model is performing well!\n"
   ]
  },
  {
   "cell_type": "markdown",
   "metadata": {
    "button": false,
    "deletable": true,
    "new_sheet": false,
    "run_control": {
     "read_only": false
    }
   },
   "source": [
    "***\n"
   ]
  },
  {
   "cell_type": "markdown",
   "metadata": {
    "button": false,
    "deletable": true,
    "new_sheet": false,
    "run_control": {
     "read_only": false
    }
   },
   "source": [
    "This is the end of the <b>Applying Recurrent Neural Networks to Text Processing</b> notebook. Hopefully you now have a better understanding of Recurrent Neural Networks and how to implement one utilizing TensorFlow. Thank you for reading this notebook, and good luck on your studies.\n"
   ]
  },
  {
   "cell_type": "markdown",
   "metadata": {
    "button": false,
    "deletable": true,
    "new_sheet": false,
    "run_control": {
     "read_only": false
    }
   },
   "source": [
    "## Want to learn more?\n",
    "\n",
    "Also, you can use **Watson Studio** to run these notebooks faster with bigger datasets.**Watson Studio** is IBM’s leading cloud solution for data scientists, built by data scientists. With Jupyter notebooks, RStudio, Apache Spark and popular libraries pre-packaged in the cloud, **Watson Studio** enables data scientists to collaborate on their projects without having to install anything. Join the fast-growing community of **Watson Studio** users today with a free account at [Watson Studio](https://cocl.us/ML0120EN_DSX).This is the end of this lesson. Thank you for reading this notebook, and good luck on your studies.\n"
   ]
  },
  {
   "cell_type": "markdown",
   "metadata": {
    "button": false,
    "deletable": true,
    "new_sheet": false,
    "run_control": {
     "read_only": false
    }
   },
   "source": [
    "### Thanks for completing this lesson!\n",
    "\n",
    "Notebook created by <a href=\"https://br.linkedin.com/in/walter-gomes-de-amorim-junior-624726121?utm_medium=Exinfluencer&utm_source=Exinfluencer&utm_content=000026UJ&utm_term=10006555&utm_id=NA-SkillsNetwork-Channel-SkillsNetworkCoursesIBMDeveloperSkillsNetworkDL0120ENSkillsNetwork20629446-2021-01-01\">Walter Gomes de Amorim Junior</a>, <a href = \"https://linkedin.com/in/saeedaghabozorgi?utm_medium=Exinfluencer&utm_source=Exinfluencer&utm_content=000026UJ&utm_term=10006555&utm_id=NA-SkillsNetwork-Channel-SkillsNetworkCoursesIBMDeveloperSkillsNetworkDL0120ENSkillsNetwork20629446-2021-01-01\"> Saeed Aghabozorgi </a></h4>\n",
    "\n",
    "Updated to TF 2.X by  <a href=\"https://www.linkedin.com/in/samaya-madhavan?utm_medium=Exinfluencer&utm_source=Exinfluencer&utm_content=000026UJ&utm_term=10006555&utm_id=NA-SkillsNetwork-Channel-SkillsNetworkCoursesIBMDeveloperSkillsNetworkDL0120ENSkillsNetwork20629446-2021-01-01\"> Samaya Madhavan </a>\n"
   ]
  },
  {
   "cell_type": "markdown",
   "metadata": {
    "button": false,
    "deletable": true,
    "new_sheet": false,
    "run_control": {
     "read_only": false
    }
   },
   "source": [
    "<hr>\n",
    "\n",
    "Copyright © 2018 [Cognitive Class](https://cocl.us/DX0108EN_CC). This notebook and its source code are released under the terms of the [MIT License](https://bigdatauniversity.com/mit-license/?utm_medium=Exinfluencer&utm_source=Exinfluencer&utm_content=000026UJ&utm_term=10006555&utm_id=NA-SkillsNetwork-Channel-SkillsNetworkCoursesIBMDeveloperSkillsNetworkDL0120ENSkillsNetwork20629446-2021-01-01).\n"
   ]
  }
 ],
 "metadata": {
  "anaconda-cloud": {},
  "kernelspec": {
   "display_name": "Python",
   "language": "python",
   "name": "conda-env-python-py"
  },
  "language_info": {
   "codemirror_mode": {
    "name": "ipython",
    "version": 3
   },
   "file_extension": ".py",
   "mimetype": "text/x-python",
   "name": "python",
   "nbconvert_exporter": "python",
   "pygments_lexer": "ipython3",
   "version": "3.7.12"
  },
  "widgets": {
   "state": {},
   "version": "1.1.2"
  }
 },
 "nbformat": 4,
 "nbformat_minor": 4
}
