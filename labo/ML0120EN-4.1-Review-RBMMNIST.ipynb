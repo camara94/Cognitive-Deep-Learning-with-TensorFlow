{
 "cells": [
  {
   "cell_type": "markdown",
   "metadata": {},
   "source": [
    "<a href=\"https://www.skills.network/?utm_medium=Exinfluencer&utm_source=Exinfluencer&utm_content=000026UJ&utm_term=10006555&utm_id=NA-SkillsNetwork-Channel-SkillsNetworkCoursesIBMDeveloperSkillsNetworkDL0120ENSkillsNetwork20629446-2021-01-01\"><img src=\"https://cf-courses-data.s3.us.cloud-object-storage.appdomain.cloud/IBM-DL0120ENedX/labs/Template%20for%20Instructional%20Hands-on%20Labs/images/IDSNlogo.png\" width=\"400px\" align=\"center\"></a>\n",
    "\n",
    "<h1 align=\"center\"><font size=\"5\">RESTRICTED BOLTZMANN MACHINES</font></h1>\n"
   ]
  },
  {
   "cell_type": "markdown",
   "metadata": {},
   "source": [
    "<h3>Introduction</h3>\n",
    "<b>Restricted Boltzmann Machine (RBM):</b>  RBMs are shallow neural nets that learn to reconstruct data by themselves in an unsupervised fashion.  \n",
    "\n",
    "<h4>Why are RBMs important?</h4>\n",
    "An RBM are a basic form of autoencoder.  It can automatically extract <b>meaningful</b> features from a given input.\n",
    "\n",
    "<h4>How does it work?</h4>\n",
    "RBM is a 2 layer neural network. Simply, RBM takes the inputs and translates those into a set of binary values that represents them in the hidden layer. Then, these numbers can be translated back to reconstruct the inputs. Through several forward and backward passes, the RBM will be trained, and a trained RBM can reveal which features are the most important ones when detecting patterns.   \n",
    "\n",
    "<h4>What are the applications of an RBM?</h4>\n",
    "RBM is useful for <a href='http://www.cs.utoronto.ca/~hinton/absps/netflixICML.pdf?utm_medium=Exinfluencer&utm_source=Exinfluencer&utm_content=000026UJ&utm_term=10006555&utm_id=NA-SkillsNetwork-Channel-SkillsNetworkCoursesIBMDeveloperSkillsNetworkDL0120ENSkillsNetwork20629446-2021-01-01'>  Collaborative Filtering</a>, dimensionality reduction, classification, regression, feature learning, topic modeling and even <b>Deep Belief Networks</b>.\n",
    "\n",
    "<h4>Is RBM a generative or Discriminative model?</h4>\n",
    "RBM is a generative model. Let me explain it by first, see what is different between discriminative and generative models: \n",
    "\n",
    "<b>Discriminative:</b> Consider a classification problem where we want to learn to distinguish between Sedan cars (y = 1) and SUV cars (y = 0), based on some features of cars. Given a training set, an algorithm like logistic regression tries to find a straight line, or <i>decision boundary</i>, that separates the suv and sedan.\n",
    "\n",
    "<b>Generative:</b> looking at cars, we can build a model of what Sedan cars look like. Then, looking at SUVs, we can build a separate model of what SUV cars look like. Finally, to classify a new car, we can match the new car against the Sedan model, and match it against the SUV model, to see whether the new car looks more like the SUV or Sedan.\n",
    "\n",
    "Generative Models specify a probability distribution over a dataset of input vectors. We can carry out both supervised and unsupervised tasks with generative models:\n",
    "\n",
    "<ul>\n",
    "    <li>In an unsupervised task, we try to form a model for $P(x)$, where $P$ is the probability given $x$ as an input vector.</li>\n",
    "    <li>In the supervised task, we first form a model for $P(x|y)$, where $P$ is the probability of $x$ given $y$(the label for $x$). For example, if $y = 0$ indicates that a car is an SUV, and $y = 1$ indicates that a car is a sedan, then $p(x|y = 0)$ models the distribution of SUV features, and $p(x|y = 1)$ models the distribution of sedan features. If we manage to find $P(x|y)$ and $P(y)$, then we can use <b>Bayes rule</b> to estimate $P(y|x)$, because:   \n",
    "        $$p(y|x) = \\frac{p(x|y)p(y)}{p(x)}$$</li>\n",
    "</ul>\n",
    "Now the question is, can we build a generative model, and then use it to create synthetic data by directly sampling from the modeled probability distributions? Lets see. \n"
   ]
  },
  {
   "cell_type": "markdown",
   "metadata": {},
   "source": [
    "<h2>Table of Contents</h2>\n",
    "<ol>\n",
    "    <li><a href=\"https://#ref1\">Initialization</a></li>\n",
    "    <li><a href=\"https://#ref2\">RBM layers</a></li>\n",
    "    <li><a href=\"https://#ref3\">What RBM can do after training?</a></li>\n",
    "    <li><a href=\"https://#ref4\">How to train the model?</a></li>\n",
    "    <li><a href=\"https://#ref5\">Learned features</a></li>\n",
    "</ol>\n",
    "<p></p>\n",
    "</div>\n",
    "<br>\n",
    "\n",
    "<hr>\n"
   ]
  },
  {
   "cell_type": "markdown",
   "metadata": {},
   "source": [
    "<a id=\"ref1\"></a>\n",
    "\n",
    "<h3>Initialization</h3>\n",
    "\n",
    "First, we have to load the utility file which contains different utility functions that are not connected\n",
    "in any way to the networks presented in the tutorials, but rather help in\n",
    "processing the outputs into a more understandable way.\n"
   ]
  },
  {
   "cell_type": "code",
   "execution_count": 3,
   "metadata": {},
   "outputs": [],
   "source": [
    "import urllib.request\n",
    "with urllib.request.urlopen(\"https://cf-courses-data.s3.us.cloud-object-storage.appdomain.cloud/IBMDeveloperSkillsNetwork-DL0120EN-SkillsNetwork/labs/Week4/data/utils.py\") as url:\n",
    "    response = url.read()\n",
    "target = open('utils.py', 'w')\n",
    "target.write(response.decode('utf-8'))\n",
    "target.close()"
   ]
  },
  {
   "cell_type": "markdown",
   "metadata": {},
   "source": [
    "<h2>Installing TensorFlow </h2>\n",
    "\n",
    "We will installing TensorFlow version 2.2.0 and its required prerequistes.  Also installing pillow\\...\n"
   ]
  },
  {
   "cell_type": "code",
   "execution_count": 1,
   "metadata": {},
   "outputs": [
    {
     "name": "stdout",
     "output_type": "stream",
     "text": [
      "Collecting grpcio==1.24.3\n",
      "  Downloading grpcio-1.24.3-cp37-cp37m-manylinux2010_x86_64.whl (2.2 MB)\n",
      "     |████████████████████████████████| 2.2 MB 7.6 MB/s            \n",
      "\u001b[?25hRequirement already satisfied: six>=1.5.2 in /home/jupyterlab/conda/envs/python/lib/python3.7/site-packages (from grpcio==1.24.3) (1.16.0)\n",
      "Installing collected packages: grpcio\n",
      "  Attempting uninstall: grpcio\n",
      "    Found existing installation: grpcio 1.42.0\n",
      "    Uninstalling grpcio-1.42.0:\n",
      "      Successfully uninstalled grpcio-1.42.0\n",
      "Successfully installed grpcio-1.24.3\n",
      "Collecting tensorflow==2.2.0\n",
      "  Downloading tensorflow-2.2.0-cp37-cp37m-manylinux2010_x86_64.whl (516.2 MB)\n",
      "     |████████████████████████████████| 516.2 MB 562 bytes/s                      | 18.5 MB 2.7 MB/s eta 0:03:08              | 27.1 MB 5.5 MB/s eta 0:01:303 MB 5.6 MB/s eta 0:01:25                        | 67.7 MB 5.7 MB/s eta 0:01:195 MB 7.2 MB/s eta 0:01:002 MB 5.7 MB/s eta 0:01:16|█████▊                          | 92.1 MB 5.7 MB/s eta 0:01:15|█████▉                          | 93.5 MB 5.7 MB/s eta 0:01:15MB/s eta 0:01:12        | 112.3 MB 10.3 MB/s eta 0:00:404                 | 136.4 MB 5.6 MB/s eta 0:01:09                | 138.8 MB 5.6 MB/s eta 0:01:08                | 139.7 MB 5.6 MB/s eta 0:01:08 1:08                | 145.2 MB 2.6 MB/s eta 0:02:21 0     |██████████▎                     | 166.7 MB 5.6 MB/s eta 0:01:03               | 170.4 MB 5.8 MB/s eta 0:01:01     |██████████▉                     | 174.2 MB 5.8 MB/s eta 0:01:00      | 196.4 MB 10.5 MB/s eta 0:00:31     | 197.9 MB 10.5 MB/s eta 0:00:31     | 199.8 MB 10.5 MB/s eta 0:00:31/s eta 0:00:30��████                   | 208.9 MB 10.5 MB/s eta 0:00:307 MB/s eta 0:01:53         | 234.1 MB 5.7 MB/s eta 0:00:50 �█████████▋                 | 235.4 MB 5.7 MB/s eta 0:00:50         | 236.5 MB 5.7 MB/s eta 0:00:49 .7 MB/s eta 0:00:49 .7 MB/s eta 0:00:49 ��█████████                | 257.8 MB 7.4 MB/s eta 0:00:36 �███████████████                | 258.2 MB 7.4 MB/s eta 0:00:36 0:00:35           | 259.4 MB 7.4 MB/s eta 0:00:35 260.0 MB 7.4 MB/s eta 0:00:35  |████████████████▎               | 263.1 MB 5.7 MB/s eta 0:00:45 ��███████████▍               | 263.6 MB 5.7 MB/s eta 0:00:45 ��████████████████▍              | 281.1 MB 5.5 MB/s eta 0:00:43 ███▌              | 281.5 MB 5.5 MB/s eta 0:00:43  | 283.6 MB 1.3 MB/s eta 0:02:57  MB 1.3 MB/s eta 0:02:56 MB/s eta 0:02:56 �███████████▊              | 285.7 MB 1.3 MB/s eta 0:02:56  0:02:55   | 286.6 MB 1.3 MB/s eta 0:02:55 ██████▊             | 302.5 MB 5.5 MB/s eta 0:00:39 2.7 MB 5.5 MB/s eta 0:00:39 █████████████████▊             | 302.9 MB 5.5 MB/s eta 0:00:39 �████▉             | 303.1 MB 5.5 MB/s eta 0:00:39 �███████████████▉             | 303.4 MB 5.5 MB/s eta 0:00:39 ��██▉             | 303.6 MB 5.5 MB/s eta 0:00:39  |███████████████████             | 306.1 MB 2.4 MB/s eta 0:01:26  | 307.5 MB 2.4 MB/s eta 0:01:26  |███████████████████             | 307.7 MB 2.4 MB/s eta 0:01:26 |███████████████████▏            | 309.4 MB 2.4 MB/s eta 0:01:25 ��██████████████████▏            | 309.6 MB 2.4 MB/s eta 0:01:25 ��████████████████▎            | 310.2 MB 2.4 MB/s eta 0:01:25 ��██████████████████▍           | 328.6 MB 58.5 MB/s eta 0:00:04  | 330.3 MB 58.5 MB/s eta 0:00:04�███████▌           | 330.5 MB 58.5 MB/s eta 0:00:04��██████████████████▌           | 330.7 MB 58.5 MB/s eta 0:00:04███████████████▌           | 331.2 MB 58.5 MB/s eta 0:00:04   | 332.1 MB 58.5 MB/s eta 0:00:04��██████████████████▋           | 332.9 MB 397 kB/s eta 0:07:41 ▊           | 333.8 MB 397 kB/s eta 0:07:39    | 334.3 MB 397 kB/s eta 0:07:38   | 340.3 MB 397 kB/s eta 0:07:23 �████████▍          | 344.4 MB 5.2 MB/s eta 0:00:34 �████████▋          | 348.9 MB 5.2 MB/s eta 0:00:33  MB 5.2 MB/s eta 0:00:33 ��█▊          | 350.3 MB 5.2 MB/s eta 0:00:33 ██████████▊          | 350.6 MB 5.2 MB/s eta 0:00:33 �████████▉          | 352.6 MB 871 kB/s eta 0:03:08 3:07 �█████████          | 354.9 MB 871 kB/s eta 0:03:05 ��███████████████████▏         | 357.2 MB 871 kB/s eta 0:03:03 ████████████████▏         | 357.4 MB 871 kB/s eta 0:03:03 ��████████████████████▏         | 358.5 MB 871 kB/s eta 0:03:01 ��█████████████████████         | 372.2 MB 5.6 MB/s eta 0:00:26 █▍        | 376.7 MB 7.4 MB/s eta 0:00:19 █▌        | 378.9 MB 7.4 MB/s eta 0:00:19 █▊        | 383.5 MB 7.4 MB/s eta 0:00:18 �████████████████▉        | 383.9 MB 7.4 MB/s eta 0:00:18 ██        | 386.7 MB 2.7 MB/s eta 0:00:48 █████▊       | 398.4 MB 5.7 MB/s eta 0:00:21 ��███       | 403.3 MB 5.7 MB/s eta 0:00:20 ��████████████████▏      | 405.3 MB 5.7 MB/s eta 0:00:20  |█████████████████████████▏      | 405.8 MB 5.7 MB/s eta 0:00:20 ██████▎      | 407.3 MB 5.7 MB/s eta 0:00:19 ��████████████████▍      | 409.9 MB 2.7 MB/s eta 0:00:40 ██████▍      | 410.1 MB 2.7 MB/s eta 0:00:40 �████████▏   | 454.2 MB 5.6 MB/s eta 0:00:12    |████████████████████████████▍   | 457.5 MB 2.6 MB/s eta 0:00:23  |████████████████████████████▍   | 458.2 MB 2.6 MB/s eta 0:00:23 |████████████████████████████▍   | 458.5 MB 2.6 MB/s eta 0:00:23 �████████▋   | 461.6 MB 2.6 MB/s eta 0:00:21    |████████████████████████████▋   | 462.0 MB 2.6 MB/s eta 0:00:21 ��███████████████████▏  | 471.3 MB 5.4 MB/s eta 0:00:09 ��███████████████████▍  | 474.1 MB 5.4 MB/s eta 0:00:08 7 MB 7.3 MB/s eta 0:00:05 �█████████████████████████▉  | 480.5 MB 7.3 MB/s eta 0:00:05 ��█████████████▉  | 480.6 MB 7.3 MB/s eta 0:00:05 ��███████████████████▉  | 481.6 MB 7.3 MB/s eta 0:00:05 ████████▉  | 481.7 MB 7.3 MB/s eta 0:00:05 9 MB 7.3 MB/s eta 0:00:05 ��█████████████████  | 482.2 MB 7.3 MB/s eta 0:00:05 █████████  | 484.0 MB 739 kB/s eta 0:00:44 �█████████████████████████████  | 484.4 MB 739 kB/s eta 0:00:44  |██████████████████████████████▉ | 496.9 MB 7.2 MB/s eta 0:00:03 ██████████████████████████████ | 501.9 MB 7.2 MB/s eta 0:00:02 █▏| 502.2 MB 7.2 MB/s eta 0:00:02 02  MB 851 kB/s eta 0:00:15 �█████████████▎| 505.1 MB 851 kB/s eta 0:00:14 ��█████████████████████▎| 505.3 MB 851 kB/s eta 0:00:13 ��█▍| 505.7 MB 851 kB/s eta 0:00:13 ██████████▍| 505.9 MB 851 kB/s eta 0:00:13 �██████████████████▍| 506.0 MB 851 kB/s eta 0:00:12 ��██████████████████████████▍| 506.2 MB 851 kB/s eta 0:00:12 0:12 ��██████▍| 506.6 MB 851 kB/s eta 0:00:12 \n",
      "\u001b[?25hRequirement already satisfied: astunparse==1.6.3 in /home/jupyterlab/conda/envs/python/lib/python3.7/site-packages (from tensorflow==2.2.0) (1.6.3)\n",
      "Requirement already satisfied: h5py<2.11.0,>=2.10.0 in /home/jupyterlab/conda/envs/python/lib/python3.7/site-packages (from tensorflow==2.2.0) (2.10.0)\n",
      "Requirement already satisfied: absl-py>=0.7.0 in /home/jupyterlab/conda/envs/python/lib/python3.7/site-packages (from tensorflow==2.2.0) (1.0.0)\n",
      "Requirement already satisfied: protobuf>=3.8.0 in /home/jupyterlab/conda/envs/python/lib/python3.7/site-packages (from tensorflow==2.2.0) (3.19.1)\n",
      "Requirement already satisfied: keras-preprocessing>=1.1.0 in /home/jupyterlab/conda/envs/python/lib/python3.7/site-packages (from tensorflow==2.2.0) (1.1.2)\n",
      "Requirement already satisfied: grpcio>=1.8.6 in /home/jupyterlab/conda/envs/python/lib/python3.7/site-packages (from tensorflow==2.2.0) (1.24.3)\n",
      "Requirement already satisfied: numpy<2.0,>=1.16.0 in /home/jupyterlab/conda/envs/python/lib/python3.7/site-packages (from tensorflow==2.2.0) (1.21.4)\n",
      "Requirement already satisfied: opt-einsum>=2.3.2 in /home/jupyterlab/conda/envs/python/lib/python3.7/site-packages (from tensorflow==2.2.0) (3.3.0)\n",
      "Requirement already satisfied: scipy==1.4.1 in /home/jupyterlab/conda/envs/python/lib/python3.7/site-packages (from tensorflow==2.2.0) (1.4.1)\n",
      "Requirement already satisfied: google-pasta>=0.1.8 in /home/jupyterlab/conda/envs/python/lib/python3.7/site-packages (from tensorflow==2.2.0) (0.2.0)\n",
      "Requirement already satisfied: gast==0.3.3 in /home/jupyterlab/conda/envs/python/lib/python3.7/site-packages (from tensorflow==2.2.0) (0.3.3)\n",
      "Collecting tensorboard<2.3.0,>=2.2.0\n",
      "  Downloading tensorboard-2.2.2-py3-none-any.whl (3.0 MB)\n",
      "     |████████████████████████████████| 3.0 MB 49.5 MB/s            ██████████▍                   | 1.1 MB 49.5 MB/s eta 0:00:01\n",
      "\u001b[?25hRequirement already satisfied: wheel>=0.26 in /home/jupyterlab/conda/envs/python/lib/python3.7/site-packages (from tensorflow==2.2.0) (0.37.0)\n",
      "Collecting tensorflow-estimator<2.3.0,>=2.2.0\n",
      "  Downloading tensorflow_estimator-2.2.0-py2.py3-none-any.whl (454 kB)\n",
      "     |████████████████████████████████| 454 kB 59.4 MB/s            \n",
      "\u001b[?25hRequirement already satisfied: wrapt>=1.11.1 in /home/jupyterlab/conda/envs/python/lib/python3.7/site-packages (from tensorflow==2.2.0) (1.13.3)\n",
      "Requirement already satisfied: six>=1.12.0 in /home/jupyterlab/conda/envs/python/lib/python3.7/site-packages (from tensorflow==2.2.0) (1.16.0)\n",
      "Requirement already satisfied: termcolor>=1.1.0 in /home/jupyterlab/conda/envs/python/lib/python3.7/site-packages (from tensorflow==2.2.0) (1.1.0)\n",
      "Collecting tensorboard-plugin-wit>=1.6.0\n",
      "  Downloading tensorboard_plugin_wit-1.8.1-py3-none-any.whl (781 kB)\n",
      "     |████████████████████████████████| 781 kB 6.8 MB/s            \n",
      "\u001b[?25hRequirement already satisfied: google-auth-oauthlib<0.5,>=0.4.1 in /home/jupyterlab/conda/envs/python/lib/python3.7/site-packages (from tensorboard<2.3.0,>=2.2.0->tensorflow==2.2.0) (0.4.6)\n",
      "Requirement already satisfied: google-auth<2,>=1.6.3 in /home/jupyterlab/conda/envs/python/lib/python3.7/site-packages (from tensorboard<2.3.0,>=2.2.0->tensorflow==2.2.0) (1.35.0)\n",
      "Requirement already satisfied: markdown>=2.6.8 in /home/jupyterlab/conda/envs/python/lib/python3.7/site-packages (from tensorboard<2.3.0,>=2.2.0->tensorflow==2.2.0) (3.3.6)\n",
      "Requirement already satisfied: werkzeug>=0.11.15 in /home/jupyterlab/conda/envs/python/lib/python3.7/site-packages (from tensorboard<2.3.0,>=2.2.0->tensorflow==2.2.0) (2.0.1)\n",
      "Requirement already satisfied: setuptools>=41.0.0 in /home/jupyterlab/conda/envs/python/lib/python3.7/site-packages (from tensorboard<2.3.0,>=2.2.0->tensorflow==2.2.0) (59.4.0)\n",
      "Requirement already satisfied: requests<3,>=2.21.0 in /home/jupyterlab/conda/envs/python/lib/python3.7/site-packages (from tensorboard<2.3.0,>=2.2.0->tensorflow==2.2.0) (2.26.0)\n",
      "Requirement already satisfied: rsa<5,>=3.1.4 in /home/jupyterlab/conda/envs/python/lib/python3.7/site-packages (from google-auth<2,>=1.6.3->tensorboard<2.3.0,>=2.2.0->tensorflow==2.2.0) (4.8)\n",
      "Requirement already satisfied: cachetools<5.0,>=2.0.0 in /home/jupyterlab/conda/envs/python/lib/python3.7/site-packages (from google-auth<2,>=1.6.3->tensorboard<2.3.0,>=2.2.0->tensorflow==2.2.0) (4.2.4)\n",
      "Requirement already satisfied: pyasn1-modules>=0.2.1 in /home/jupyterlab/conda/envs/python/lib/python3.7/site-packages (from google-auth<2,>=1.6.3->tensorboard<2.3.0,>=2.2.0->tensorflow==2.2.0) (0.2.8)\n",
      "Requirement already satisfied: requests-oauthlib>=0.7.0 in /home/jupyterlab/conda/envs/python/lib/python3.7/site-packages (from google-auth-oauthlib<0.5,>=0.4.1->tensorboard<2.3.0,>=2.2.0->tensorflow==2.2.0) (1.3.1)\n",
      "Requirement already satisfied: importlib-metadata>=4.4 in /home/jupyterlab/conda/envs/python/lib/python3.7/site-packages (from markdown>=2.6.8->tensorboard<2.3.0,>=2.2.0->tensorflow==2.2.0) (4.8.2)\n",
      "Requirement already satisfied: certifi>=2017.4.17 in /home/jupyterlab/conda/envs/python/lib/python3.7/site-packages (from requests<3,>=2.21.0->tensorboard<2.3.0,>=2.2.0->tensorflow==2.2.0) (2021.10.8)\n",
      "Requirement already satisfied: urllib3<1.27,>=1.21.1 in /home/jupyterlab/conda/envs/python/lib/python3.7/site-packages (from requests<3,>=2.21.0->tensorboard<2.3.0,>=2.2.0->tensorflow==2.2.0) (1.26.7)\n",
      "Requirement already satisfied: idna<4,>=2.5 in /home/jupyterlab/conda/envs/python/lib/python3.7/site-packages (from requests<3,>=2.21.0->tensorboard<2.3.0,>=2.2.0->tensorflow==2.2.0) (3.1)\n",
      "Requirement already satisfied: charset-normalizer~=2.0.0 in /home/jupyterlab/conda/envs/python/lib/python3.7/site-packages (from requests<3,>=2.21.0->tensorboard<2.3.0,>=2.2.0->tensorflow==2.2.0) (2.0.8)\n",
      "Requirement already satisfied: typing-extensions>=3.6.4 in /home/jupyterlab/conda/envs/python/lib/python3.7/site-packages (from importlib-metadata>=4.4->markdown>=2.6.8->tensorboard<2.3.0,>=2.2.0->tensorflow==2.2.0) (4.0.1)\n",
      "Requirement already satisfied: zipp>=0.5 in /home/jupyterlab/conda/envs/python/lib/python3.7/site-packages (from importlib-metadata>=4.4->markdown>=2.6.8->tensorboard<2.3.0,>=2.2.0->tensorflow==2.2.0) (3.6.0)\n",
      "Requirement already satisfied: pyasn1<0.5.0,>=0.4.6 in /home/jupyterlab/conda/envs/python/lib/python3.7/site-packages (from pyasn1-modules>=0.2.1->google-auth<2,>=1.6.3->tensorboard<2.3.0,>=2.2.0->tensorflow==2.2.0) (0.4.8)\n",
      "Requirement already satisfied: oauthlib>=3.0.0 in /home/jupyterlab/conda/envs/python/lib/python3.7/site-packages (from requests-oauthlib>=0.7.0->google-auth-oauthlib<0.5,>=0.4.1->tensorboard<2.3.0,>=2.2.0->tensorflow==2.2.0) (3.2.0)\n",
      "Installing collected packages: tensorboard-plugin-wit, tensorflow-estimator, tensorboard, tensorflow\n",
      "  Attempting uninstall: tensorflow-estimator\n",
      "    Found existing installation: tensorflow-estimator 2.1.0\n",
      "    Uninstalling tensorflow-estimator-2.1.0:\n",
      "      Successfully uninstalled tensorflow-estimator-2.1.0\n",
      "  Attempting uninstall: tensorboard\n",
      "    Found existing installation: tensorboard 2.1.1\n",
      "    Uninstalling tensorboard-2.1.1:\n",
      "      Successfully uninstalled tensorboard-2.1.1\n",
      "  Attempting uninstall: tensorflow\n",
      "    Found existing installation: tensorflow 2.2.0rc0\n",
      "    Uninstalling tensorflow-2.2.0rc0:\n",
      "      Successfully uninstalled tensorflow-2.2.0rc0\n",
      "Successfully installed tensorboard-2.2.2 tensorboard-plugin-wit-1.8.1 tensorflow-2.2.0 tensorflow-estimator-2.2.0\n",
      "Requirement already satisfied: pillow==8.1.0 in /home/jupyterlab/conda/envs/python/lib/python3.7/site-packages (8.1.0)\n"
     ]
    }
   ],
   "source": [
    "!pip install grpcio==1.24.3\n",
    "!pip install tensorflow==2.2.0\n",
    "!pip install pillow==8.1.0"
   ]
  },
  {
   "cell_type": "markdown",
   "metadata": {},
   "source": [
    "<b>Notice:</b> This notebook has been created with TensorFlow version 2.2, and might not work with other versions. Therefore we check:\n"
   ]
  },
  {
   "cell_type": "code",
   "execution_count": 2,
   "metadata": {},
   "outputs": [],
   "source": [
    "import tensorflow as tf\n",
    "from IPython.display import Markdown, display\n",
    "\n",
    "def printmd(string):\n",
    "    display(Markdown('# <span style=\"color:red\">'+string+'</span>'))\n",
    "\n",
    "\n",
    "if not tf.__version__ == '2.2.0':\n",
    "    printmd('<<<<<!!!!! ERROR !!!! please upgrade to TensorFlow 2.2.0, or restart your Kernel (Kernel->Restart & Clear Output)>>>>>')"
   ]
  },
  {
   "cell_type": "markdown",
   "metadata": {},
   "source": [
    "Now, we load in all the packages that we use to create the net including the TensorFlow package:\n"
   ]
  },
  {
   "cell_type": "code",
   "execution_count": 4,
   "metadata": {},
   "outputs": [],
   "source": [
    "import tensorflow as tf\n",
    "import numpy as np\n",
    "\n",
    "from PIL import Image\n",
    "from utils import tile_raster_images\n",
    "import matplotlib.pyplot as plt\n",
    "%matplotlib inline"
   ]
  },
  {
   "cell_type": "markdown",
   "metadata": {},
   "source": [
    "<hr>\n"
   ]
  },
  {
   "cell_type": "markdown",
   "metadata": {},
   "source": [
    "<a id=\"ref2\"></a>\n",
    "\n",
    "<h3>RBM layers</h3>\n",
    "\n",
    "An RBM has two layers. The first layer of the RBM is called the <b>visible</b> (or input layer). Imagine that our toy example, has only vectors with 7 values, so the visible layer must have $V=7$ input nodes.\n",
    "The second layer is the <b>hidden</b> layer, which has $H$ neurons in our case. Each hidden node takes on values of either 0 or 1 (i.e., $h_i = 1$ or $h_i$ = 0), with a probability that is a logistic function of the inputs it receives from the other $V$ visible units, called for example, $p(h_i = 1)$. For our toy sample, we'll use 2 nodes in the hidden layer, so $H = 2$.\n",
    "\n",
    "<center><img src=\"https://ibm.box.com/shared/static/eu26opvcefgls6vnwuo29uwp0nudmokh.png\" alt=\"RBM Model\" style=\"width: 400px;\"></center>\n"
   ]
  },
  {
   "cell_type": "markdown",
   "metadata": {},
   "source": [
    "Each node in the first layer also has a <b>bias</b>. We will denote the bias as $v\\_{bias}$, and this single value is shared among the $V$ visible units.\n",
    "\n",
    "The <b>bias</b> of the second is defined similarly as $h\\_{bias}$, and this single value among the $H$ hidden units.\n"
   ]
  },
  {
   "cell_type": "code",
   "execution_count": 5,
   "metadata": {},
   "outputs": [
    {
     "name": "stderr",
     "output_type": "stream",
     "text": [
      "2022-02-10 14:44:15.207273: W tensorflow/stream_executor/platform/default/dso_loader.cc:55] Could not load dynamic library 'libcuda.so.1'; dlerror: libcuda.so.1: cannot open shared object file: No such file or directory\n",
      "2022-02-10 14:44:15.207345: E tensorflow/stream_executor/cuda/cuda_driver.cc:313] failed call to cuInit: UNKNOWN ERROR (303)\n",
      "2022-02-10 14:44:15.207395: I tensorflow/stream_executor/cuda/cuda_diagnostics.cc:156] kernel driver does not appear to be running on this host (jupyterlab-ldamaro98): /proc/driver/nvidia/version does not exist\n",
      "2022-02-10 14:44:15.208010: I tensorflow/core/platform/cpu_feature_guard.cc:143] Your CPU supports instructions that this TensorFlow binary was not compiled to use: AVX2 FMA\n",
      "2022-02-10 14:44:15.348430: I tensorflow/core/platform/profile_utils/cpu_utils.cc:102] CPU Frequency: 2095145000 Hz\n",
      "2022-02-10 14:44:15.367511: I tensorflow/compiler/xla/service/service.cc:168] XLA service 0x7f30f0000b20 initialized for platform Host (this does not guarantee that XLA will be used). Devices:\n",
      "2022-02-10 14:44:15.367555: I tensorflow/compiler/xla/service/service.cc:176]   StreamExecutor device (0): Host, Default Version\n"
     ]
    }
   ],
   "source": [
    "v_bias = tf.Variable(tf.zeros([7]), tf.float32)\n",
    "h_bias = tf.Variable(tf.zeros([2]), tf.float32)"
   ]
  },
  {
   "cell_type": "markdown",
   "metadata": {},
   "source": [
    "We have to define weights among the input layer and hidden layer nodes. In the weight matrix, the number of rows are equal to the input nodes, and the number of columns are equal to the output nodes. We define a tensor $\\mathbf{W}$ of shape = (7,2), where the number of visible neurons = 7, and the number of hidden neurons = 2.\n"
   ]
  },
  {
   "cell_type": "code",
   "execution_count": 6,
   "metadata": {},
   "outputs": [],
   "source": [
    "W = tf.constant(np.random.normal(loc=0.0, scale=1.0, size=(7, 2)).astype(np.float32))"
   ]
  },
  {
   "cell_type": "markdown",
   "metadata": {},
   "source": [
    "<hr>\n"
   ]
  },
  {
   "cell_type": "markdown",
   "metadata": {},
   "source": [
    "<a id=\"ref3\"></a>\n",
    "\n",
    "<h3>What RBM can do after training?</h3>\n",
    "Think of RBM as a model that has been trained based on images of a dataset of many SUV and sedan cars. Also, imagine that the RBM network has only two hidden nodes, where one node encodes the weight and, and the other encodes the size.  \n",
    "In a sense, the different configurations represent different cars, where one is an SUV and the other is Sedan.  In a training process, through many forward and backward passes, the RBM adjust its weights to send a stronger signal to either the SUV node (0, 1) or the sedan node (1, 0) in the hidden layer, given the pixels of images. Now, given an SUV in hidden layer, which distribution of pixels should we expect? RBM can give you 2 things. First, it encodes your images in hidden layer. Second, it gives you the probability of observing a case, given some hidden values.\n",
    "\n",
    "<h3>The Inference Process</h3>\n",
    "\n",
    "RBM has two phases:\n",
    "\n",
    "<ul>\n",
    "    <li>Forward Pass</li>  \n",
    "    <li>Backward Pass or Reconstruction</li>\n",
    "</ul>\n",
    "\n",
    "<b>Phase 1) Forward pass:</b>\n",
    "\n",
    "Input one training sample (one image) $\\mathbf{x}$ through all visible nodes, and pass it to all hidden nodes. Processing happens in each node in the hidden layer. This computation begins by making stochastic decisions about whether to transmit that input or not (i.e. to determine the state of each hidden layer).  First, the probability vector is computed using the input feature vector $\\mathbf{x}$, the weight matrix $\\mathbf{W}$, and the bias term $h\\_{bias}$, as\n",
    "\n",
    "$$p({h_j}|\\mathbf x)= \\sigma( \\sum\\_{i=1}^V W\\_{ij} x_i + h\\_{bias} )$$,\n",
    "\n",
    "where $\\sigma(z) = (1+e^{-z})^{-1}$ is the logistic function.\n",
    "\n",
    "So, what does $p({h_j})$ represent? It is the <b>probability distribution</b> of the hidden units. That is, RBM uses inputs $x_i$ to make predictions about hidden node activations. For example, imagine that the hidden node activation values are \\[0.51 0.84] for the first training item. It tells you that the conditional probability for each hidden neuron for Phase 1 is:\n",
    "\n",
    "$$p(h\\_{1} = 1|\\mathbf{v}) = 0.51$$\n",
    "$$p(h\\_{2} = 1|\\mathbf{v}) = 0.84$$\n",
    "\n",
    "As a result, for each row in the training set, vector of probabilities is generated.  In TensorFlow, this is referred to as a `tensor` with a shape of (1,2).\n",
    "\n",
    "We then turn unit $j$ with probability $p(h\\_{j}|\\mathbf{v})$, and turn it off with probability $1 - p(h\\_{j}|\\mathbf{v})$ by generating a uniform random number vector $\\mathbf{\\xi}$, and comparing it to the activation probability as\n",
    "\n",
    "<center>If $\\xi_j>p(h_{j}|\\mathbf{v})$, then $h_j=1$, else $h_j=0$.</center>\n",
    "\n",
    "Therefore, the conditional probability of a configuration of $\\mathbf{h}$ given $\\mathbf{v}$ (for a training sample) is:\n",
    "\n",
    "$$p(\\mathbf{h} \\mid \\mathbf{v}) = \\prod\\_{j=1}^H p(h_j \\mid \\mathbf{v})$$\n",
    "\n",
    "where $H$ is the number of hidden units.\n"
   ]
  },
  {
   "cell_type": "markdown",
   "metadata": {},
   "source": [
    "Before we go further, let's look at a toy example for one case out of all input. Assume that we have a trained RBM, and a very simple input vector, such as \\[1.0, 0.0, 0.0, 1.0, 0.0, 0.0, 0.0].\\\n",
    "Let's see what the output of forward pass would look like:\n"
   ]
  },
  {
   "cell_type": "code",
   "execution_count": 7,
   "metadata": {},
   "outputs": [
    {
     "name": "stdout",
     "output_type": "stream",
     "text": [
      "Input:  tf.Tensor([[1. 0. 0. 1. 0. 0. 0.]], shape=(1, 7), dtype=float32)\n",
      "hb:  tf.Tensor([0.1 0.1], shape=(2,), dtype=float32)\n",
      "w:  tf.Tensor(\n",
      "[[ 5.6035370e-01 -2.4774437e-01]\n",
      " [ 2.2297132e-01  9.3255501e-04]\n",
      " [ 1.9474676e+00  1.3033114e-01]\n",
      " [ 3.6674735e-01  1.9553826e+00]\n",
      " [-2.6839716e-02  1.0360655e+00]\n",
      " [-9.7221518e-03 -8.0420983e-01]\n",
      " [ 1.0748338e+00  6.9351502e-02]], shape=(7, 2), dtype=float32)\n",
      "p(h|v):  tf.Tensor([[0.73635346 0.85907626]], shape=(1, 2), dtype=float32)\n",
      "h0 states: tf.Tensor([[1. 1.]], shape=(1, 2), dtype=float32)\n"
     ]
    }
   ],
   "source": [
    "X = tf.constant([[1.0, 0.0, 0.0, 1.0, 0.0, 0.0, 0.0]], tf.float32)\n",
    "\n",
    "v_state = X\n",
    "print (\"Input: \", v_state)\n",
    "\n",
    "h_bias = tf.constant([0.1, 0.1])\n",
    "print (\"hb: \", h_bias)\n",
    "print (\"w: \", W)\n",
    "\n",
    "# Calculate the probabilities of turning the hidden units on:\n",
    "h_prob = tf.nn.sigmoid(tf.matmul(v_state, W) + h_bias)  #probabilities of the hidden units\n",
    "print (\"p(h|v): \", h_prob)\n",
    "\n",
    "# Draw samples from the distribution:\n",
    "h_state = tf.nn.relu(tf.sign(h_prob - tf.random.uniform(tf.shape(h_prob)))) #states\n",
    "print (\"h0 states:\", h_state)"
   ]
  },
  {
   "cell_type": "markdown",
   "metadata": {},
   "source": [
    "<b>Phase 2) Backward Pass (Reconstruction):</b>\n",
    "The RBM reconstructs data by making several forward and backward passes between the visible and hidden layers.\n",
    "\n",
    "So, in the second phase (i.e. reconstruction phase), the samples from the hidden layer (i.e. $\\mathbf h$) becomes the input in the backward pass. The same weight matrix and visible layer biases are used to passed to the sigmoid function. The reproduced output is a reconstruction which is an approximation of the original input.\n"
   ]
  },
  {
   "cell_type": "code",
   "execution_count": 8,
   "metadata": {},
   "outputs": [
    {
     "name": "stdout",
     "output_type": "stream",
     "text": [
      "b:  tf.Tensor([0.1 0.2 0.1 0.1 0.1 0.2 0.1], shape=(7,), dtype=float32)\n",
      "p(vi∣h):  tf.Tensor(\n",
      "[[0.6017134  0.604417   0.898238   0.9184993  0.7519848  0.35116276\n",
      "  0.77629167]], shape=(1, 7), dtype=float32)\n",
      "v probability states:  tf.Tensor([[1. 1. 0. 1. 1. 1. 1.]], shape=(1, 7), dtype=float32)\n"
     ]
    }
   ],
   "source": [
    "vb = tf.constant([0.1, 0.2, 0.1, 0.1, 0.1, 0.2, 0.1])\n",
    "print (\"b: \", vb)\n",
    "v_prob = tf.nn.sigmoid(tf.matmul(h_state, tf.transpose(W)) + vb)\n",
    "print (\"p(vi∣h): \", v_prob)\n",
    "v_state = tf.nn.relu(tf.sign(v_prob - tf.random.uniform(tf.shape(v_prob))))\n",
    "print (\"v probability states: \", v_state)"
   ]
  },
  {
   "cell_type": "markdown",
   "metadata": {},
   "source": [
    "RBM learns a probability distribution over the input, and then, after being trained, the RBM can generate new samples from the learned probability distribution. As you know, <b>probability distribution</b>, is a mathematical function that provides the probabilities of occurrence of different possible outcomes in an experiment.\n",
    "\n",
    "The (conditional) probability distribution over the visible units v is given by\n",
    "\n",
    "$$p(\\mathbf{v} \\mid \\mathbf{h}) = \\prod\\_{i=1}^V p(v_i \\mid \\mathbf{h}),$$\n",
    "\n",
    "where,\n",
    "\n",
    "$$p(v_i \\mid \\mathbf{h}) = \\sigma\\left(\\sum\\_{j=1}^H W\\_{ji} h_j + v\\_{bias} \\right)$$\n",
    "\n",
    "so, given current state of hidden units and weights, what is the probability of generating \\[1. 0. 0. 1. 0. 0. 0.] in reconstruction phase, based on the above <b>probability distribution</b> function?\n"
   ]
  },
  {
   "cell_type": "code",
   "execution_count": 9,
   "metadata": {},
   "outputs": [
    {
     "name": "stdout",
     "output_type": "stream",
     "text": [
      "input X: [[1. 0. 0. 1. 0. 0. 0.]]\n",
      "probablity vector: [0.6017134  0.604417   0.898238   0.9184993  0.7519848  0.35116276\n",
      " 0.77629167]\n",
      "probability of generating X:  0.000800918\n"
     ]
    }
   ],
   "source": [
    "inp = X\n",
    "print(\"input X:\" , inp.numpy())\n",
    "\n",
    "print(\"probablity vector:\" , v_prob[0].numpy())\n",
    "v_probability = 1\n",
    "\n",
    "for elm, p in zip(inp[0],v_prob[0]) :\n",
    "    if elm ==1:\n",
    "        v_probability *= p\n",
    "    else:\n",
    "        v_probability *= (1-p)\n",
    "\n",
    "print(\"probability of generating X: \" , v_probability.numpy())"
   ]
  },
  {
   "cell_type": "markdown",
   "metadata": {},
   "source": [
    "How similar are vectors $\\mathbf{x}$ and $\\mathbf{v}$? Of course, the reconstructed values most likely will not look anything like the input vector, because our network has not been trained yet. Our objective is to train the model in such a way that the input vector and reconstructed vector to be same. Therefore, based on how different the input values look to the ones that we just reconstructed, the weights are adjusted.\n"
   ]
  },
  {
   "cell_type": "markdown",
   "metadata": {},
   "source": [
    "<hr>\n"
   ]
  },
  {
   "cell_type": "markdown",
   "metadata": {},
   "source": [
    "<h2>MNIST</h2>\n"
   ]
  },
  {
   "cell_type": "markdown",
   "metadata": {},
   "source": [
    "We will be using the MNIST dataset to practice the usage of RBMs. The following cell loads the MNIST dataset.\n"
   ]
  },
  {
   "cell_type": "code",
   "execution_count": 10,
   "metadata": {},
   "outputs": [
    {
     "name": "stdout",
     "output_type": "stream",
     "text": [
      "Downloading data from https://storage.googleapis.com/tensorflow/tf-keras-datasets/mnist.npz\n",
      "11493376/11490434 [==============================] - 1s 0us/step\n"
     ]
    }
   ],
   "source": [
    "#loading training and test data\n",
    "mnist = tf.keras.datasets.mnist\n",
    "(trX, trY), (teX, teY) = mnist.load_data()\n",
    "\n",
    "# showing an example of the Flatten class and operation\n",
    "from tensorflow.keras.layers import Flatten\n",
    "flatten = Flatten(dtype='float32')\n",
    "trX = flatten(trX/255.0)\n",
    "trY = flatten(trY/255.0)"
   ]
  },
  {
   "cell_type": "markdown",
   "metadata": {},
   "source": [
    "Lets look at the dimension of the images.\n"
   ]
  },
  {
   "cell_type": "markdown",
   "metadata": {},
   "source": [
    "MNIST images have 784 pixels, so the visible layer must have 784 input nodes.  For our case, we'll use 50 nodes in the hidden layer, so i = 50.\n"
   ]
  },
  {
   "cell_type": "code",
   "execution_count": 11,
   "metadata": {
    "tags": []
   },
   "outputs": [],
   "source": [
    "vb = tf.Variable(tf.zeros([784]), tf.float32)\n",
    "hb = tf.Variable(tf.zeros([50]), tf.float32)"
   ]
  },
  {
   "cell_type": "markdown",
   "metadata": {},
   "source": [
    "Let $\\mathbf W$ be the Tensor of 784x50 (784 - number of visible neurons, 50 - number of hidden neurons) that represents weights between the neurons.\n"
   ]
  },
  {
   "cell_type": "code",
   "execution_count": 12,
   "metadata": {
    "tags": []
   },
   "outputs": [],
   "source": [
    "W = tf.Variable(tf.zeros([784,50]), tf.float32)"
   ]
  },
  {
   "cell_type": "markdown",
   "metadata": {},
   "source": [
    "Lets define the visible layer:\n"
   ]
  },
  {
   "cell_type": "code",
   "execution_count": 13,
   "metadata": {},
   "outputs": [
    {
     "data": {
      "text/plain": [
       "<tf.Tensor: shape=(1, 50), dtype=float32, numpy=\n",
       "array([[0., 0., 0., 0., 0., 0., 0., 0., 0., 0., 0., 0., 0., 0., 0., 0.,\n",
       "        0., 0., 0., 0., 0., 0., 0., 0., 0., 0., 0., 0., 0., 0., 0., 0.,\n",
       "        0., 0., 0., 0., 0., 0., 0., 0., 0., 0., 0., 0., 0., 0., 0., 0.,\n",
       "        0., 0.]], dtype=float32)>"
      ]
     },
     "execution_count": 13,
     "metadata": {},
     "output_type": "execute_result"
    }
   ],
   "source": [
    "v0_state = tf.Variable(tf.zeros([784]), tf.float32)\n",
    "\n",
    "#testing to see if the matrix product works\n",
    "tf.matmul( [v0_state], W)"
   ]
  },
  {
   "cell_type": "markdown",
   "metadata": {},
   "source": [
    "Now, we can define hidden layer:\n"
   ]
  },
  {
   "cell_type": "code",
   "execution_count": 14,
   "metadata": {},
   "outputs": [
    {
     "name": "stdout",
     "output_type": "stream",
     "text": [
      "h0_state shape:  tf.Tensor([ 1 50], shape=(2,), dtype=int32)\n",
      "first 15 hidden states:  tf.Tensor([1. 1. 0. 1. 1. 1. 1. 0. 0. 1. 1. 0. 1. 0. 1.], shape=(15,), dtype=float32)\n"
     ]
    }
   ],
   "source": [
    "#computing the hidden nodes probability vector and checking shape\n",
    "h0_prob = tf.nn.sigmoid(tf.matmul([v0_state], W) + hb)  #probabilities of the hidden units\n",
    "print(\"h0_state shape: \" , tf.shape(h0_prob))\n",
    "\n",
    "#defining a function to return only the generated hidden states \n",
    "def hidden_layer(v0_state, W, hb):\n",
    "    h0_prob = tf.nn.sigmoid(tf.matmul([v0_state], W) + hb)  #probabilities of the hidden units\n",
    "    h0_state = tf.nn.relu(tf.sign(h0_prob - tf.random.uniform(tf.shape(h0_prob)))) #sample_h_given_X\n",
    "    return h0_state\n",
    "\n",
    "\n",
    "h0_state = hidden_layer(v0_state, W, hb)\n",
    "print(\"first 15 hidden states: \", h0_state[0][0:15])"
   ]
  },
  {
   "cell_type": "markdown",
   "metadata": {},
   "source": [
    "Now, we define reconstruction part:\n"
   ]
  },
  {
   "cell_type": "code",
   "execution_count": 15,
   "metadata": {},
   "outputs": [
    {
     "name": "stdout",
     "output_type": "stream",
     "text": [
      "hidden state shape:  (1, 50)\n",
      "v0 state shape:   (784,)\n",
      "v1 state shape:   (784,)\n"
     ]
    }
   ],
   "source": [
    "def reconstructed_output(h0_state, W, vb):\n",
    "    v1_prob = tf.nn.sigmoid(tf.matmul(h0_state, tf.transpose(W)) + vb) \n",
    "    v1_state = tf.nn.relu(tf.sign(v1_prob - tf.random.uniform(tf.shape(v1_prob)))) #sample_v_given_h\n",
    "    return v1_state[0]\n",
    "\n",
    "v1_state = reconstructed_output(h0_state, W, vb)\n",
    "print(\"hidden state shape: \", h0_state.shape)\n",
    "print(\"v0 state shape:  \", v0_state.shape)\n",
    "print(\"v1 state shape:  \", v1_state.shape)"
   ]
  },
  {
   "cell_type": "markdown",
   "metadata": {},
   "source": [
    "<h3>What is the objective function?</h3>\n",
    "\n",
    "<b>Goal</b>: Maximize the likelihood of our data being drawn from that distribution\n",
    "\n",
    "<b>Calculate error:</b>\\\n",
    "In each epoch, we compute the \"error\" as a sum of the squared difference between step 1 and step n,\n",
    "e.g the error shows the difference between the data and its reconstruction.\n",
    "\n",
    "<b>Note:</b> tf.reduce_mean computes the mean of elements across dimensions of a tensor.\n"
   ]
  },
  {
   "cell_type": "code",
   "execution_count": 16,
   "metadata": {},
   "outputs": [
    {
     "name": "stdout",
     "output_type": "stream",
     "text": [
      "error 0.50382656\n"
     ]
    }
   ],
   "source": [
    "def error(v0_state, v1_state):\n",
    "    return tf.reduce_mean(tf.square(v0_state - v1_state))\n",
    "\n",
    "err = tf.reduce_mean(tf.square(v0_state - v1_state))\n",
    "print(\"error\" , err.numpy())"
   ]
  },
  {
   "cell_type": "markdown",
   "metadata": {},
   "source": [
    "<a id=\"ref4\"></a>\n",
    "\n",
    "<h3>Training the Model</h3>\n",
    "<b>Warning...</b> The following part is math-heavy, but you can skip it if you just want to run the cells in the next section.\n",
    "\n",
    "As mentioned, we want to give a high probability to the input data we train on. So, in order to train an RBM, we have to maximize the product of probabilities assigned to all rows $\\mathbf{v}$ (images) in the training set $\\mathbf{V}$ (a matrix, where each row of it is treated as a visible vector $\\mathbf{v}$)\n",
    "\n",
    "$$\\arg \\max_W \\prod\\_{\\mathbf{v}\\in\\mathbf{V}\\_T} p(\\mathbf{v})$$\n",
    "\n",
    "which is equivalent to maximizing the expectation of the log probability, given as\n",
    "\n",
    "$$\\arg\\max_W\\left\\[ \\mathbb{E} \\left(\\prod\\_{\\mathbf v\\in \\mathbf V}\\text{log} \\left(p(\\mathbf v)\\right) \\right) \\right].$$\n",
    "\n",
    "So, we have to update the weights $W\\_{ij}$  to increase $p(\\mathbf{v})$ for all $\\mathbf{v}$ in our training data during training. So we have to calculate the derivative:\n",
    "\n",
    "$$\\frac{\\partial \\log p(\\mathbf v)}{\\partial W\\_{ij}}$$\n",
    "\n",
    "This cannot be easily done by typical <b>gradient descent (SGD)</b>, so we can use another approach, which has 2 steps:\n",
    "\n",
    "<ol>\n",
    "    <li>Gibbs Sampling</li>\n",
    "    <li>Contrastive Divergence</li>\n",
    "</ol>    \n",
    "\n",
    "<h3>Gibbs Sampling</h3>   \n",
    "\n",
    "<h4>Gibbs Sampling Step 1</h4> \n",
    "Given an input vector $\\mathbf{v}$, we are using $p(\\mathbf{h}|\\mathbf{v})$ to predict the hidden values $\\mathbf{h}$. \n",
    "  $$p({h_j}|\\mathbf v)= \\sigma\\left(\\sum_{i=1}^V W_{ij} v_i + h_{bias} \\right)$$\n",
    "The samples are generated from this distribution by generating the uniform random variate vector $\\mathbf{\\xi} \\sim U[0,1]$ of length $H$ and comparing to the computed probabilities as\n",
    "\n",
    "<center>If $\\xi_j>p(h_{j}|\\mathbf{v})$, then $h_j=1$, else $h_j=0$.</center>\n",
    "\n",
    "<h4>Gibbs Sampling Step 2</h4> \n",
    "Then, knowing the hidden values, we use $p(\\mathbf v| \\mathbf h)$ for reconstructing of new input values v. \n",
    "\n",
    "$$p({v_i}|\\mathbf h)= \\sigma\\left(\\sum\\_{j=1}^H W^{T}*{ij} h_j + v*{bias} \\right)$$\n",
    "\n",
    "The samples are generated from this distribution by generating a uniform random variate vector $\\mathbf{\\xi} \\sim U\\[0,1]$ of length $V$ and comparing to the computed probabilities as\n",
    "\n",
    "<center>If $\\xi_i>p(v_{i}|\\mathbf{h})$, then $v_i=1$, else $v_i=0$.</center>\n",
    "\n",
    "Let vectors $\\mathbf v_k$ and $\\mathbf h_k$ be for the $k$th iteration.  In general, the $kth$ state is generrated as:\n",
    "\n",
    "<b>Iteration</b> $k$:\n",
    "\n",
    "$$\\mathbf v\\_{k-1} \\Rightarrow p(\\mathbf h\\_{k-1}|\\mathbf v\\_{k-1})\\Rightarrow \\mathbf h\\_{k-1}\\Rightarrow p(\\mathbf v\\_{k}|\\mathbf h\\_{k-1})\\Rightarrow \\mathbf v_k$$\n",
    "\n",
    "<h3>Contrastive Divergence (CD-k)</h3>\n",
    "The update of the weight matrix is done during the Contrastive Divergence step. \n",
    "\n",
    "Vectors v0 and vk are used to calculate the activation probabilities for hidden values h0 and hk. The difference between the outer products of those probabilities with input vectors v0 and vk results in the update matrix:\n",
    "\n",
    "$$\\Delta \\mathbf W_k =\\mathbf v_k \\otimes \\mathbf h_k - \\mathbf v\\_{k-1} \\otimes \\mathbf h\\_{k-1}$$\n",
    "\n",
    "Contrastive Divergence is actually matrix of values that is computed and used to adjust values of the $\\mathbf W$ matrix. Changing $\\mathbf W$ incrementally leads to training of the  $\\mathbf W$ values. Then, on each step (epoch), $\\mathbf W$ is updated using the following:\n",
    "\n",
    "$$\\mathbf W_k = \\mathbf W\\_{k-1} + \\alpha \\* \\Delta \\mathbf W_k$$\n",
    "\n",
    "Reconstruction steps:\n",
    "\n",
    "<ul>\n",
    "    <li> Get one data point from data set, like <i>x</i>, and pass it through the following steps:</li>\n",
    "\n",
    "<b>Iteration</b> $k=1$:\n",
    "\n",
    "Sampling (starting with input image)\n",
    "$$\\mathbf x = \\mathbf v\\_0 \\Rightarrow p(\\mathbf h\\_0|\\mathbf v\\_0)\\Rightarrow \\mathbf h\\_0 \\Rightarrow p(\\mathbf v\\_1|\\mathbf h\\_0)\\Rightarrow \\mathbf v\\_1$$\\\n",
    "followed by the CD-k step\n",
    "$$\\Delta \\mathbf W\\_1 =\\mathbf v\\_1 \\otimes \\mathbf h\\_1 - \\mathbf v\\_{0} \\otimes \\mathbf h\\_{0}$$\\\n",
    "$$\\mathbf W\\_1 = \\mathbf W\\_{0} + \\alpha \\* \\Delta \\mathbf W\\_1$$\n",
    "\n",
    "<li> $\\mathbf v_1$ is the reconstruction of $\\mathbf x$ sent to the next iteration).</li>\n",
    "\n",
    "<b>Iteration</b> $k=2$:\n",
    "\n",
    "Sampling (starting with $\\mathbf v\\_1$)\n",
    "\n",
    "$$\\mathbf v\\_1 \\Rightarrow p(\\mathbf h\\_1|\\mathbf v\\_1)\\Rightarrow \\mathbf h\\_1\\Rightarrow p(\\mathbf v\\_2|\\mathbf h\\_1)\\Rightarrow \\mathbf v\\_2$$\n",
    "\n",
    "followed by the CD-k step\n",
    "$$\\Delta \\mathbf W\\_2 =\\mathbf v\\_2 \\otimes \\mathbf h\\_2 - \\mathbf v\\_{1} \\otimes \\mathbf h\\_{1}$$\\\n",
    "$$\\mathbf W\\_2 = \\mathbf W\\_{1} + \\alpha \\* \\Delta \\mathbf W\\_2$$\n",
    "\n",
    "<li> $\\mathbf v_2$ is the reconstruction of $\\mathbf v_1$ sent to the next iteration).</li>    \n",
    "\n",
    "<b>Iteration</b> $k=K$:\n",
    "\n",
    "Sampling (starting with $\\mathbf v\\_{K-1}$)\n",
    "\n",
    "$$\\mathbf v\\_{K-1} \\Rightarrow p(\\mathbf h\\_{K-1}|\\mathbf v\\_{K-1})\\Rightarrow \\mathbf h\\_{K-1}\\Rightarrow p(\\mathbf v_K|\\mathbf h\\_{K-1})\\Rightarrow \\mathbf v_K$$\n",
    "\n",
    "followed by the CD-k step\n",
    "$$\\Delta \\mathbf W_K =\\mathbf v_K \\otimes \\mathbf h_K - \\mathbf v\\_{K-1} \\otimes \\mathbf h\\_{K-1}$$\\\n",
    "$$\\mathbf W_K = \\mathbf W\\_{K-1} + \\alpha \\* \\Delta \\mathbf W_K$$\n",
    "\n",
    "<b>What is $\\alpha$?</b>\\\n",
    "Here, alpha is some small step size, and is also known as the \"learning rate\".\n"
   ]
  },
  {
   "cell_type": "markdown",
   "metadata": {},
   "source": [
    "$K$ is adjustable, and good performance can be achieved with $K=1$, so that we just take one set of sampling steps per image.\n"
   ]
  },
  {
   "cell_type": "code",
   "execution_count": 17,
   "metadata": {},
   "outputs": [],
   "source": [
    "h1_prob = tf.nn.sigmoid(tf.matmul([v1_state], W) + hb)\n",
    "h1_state = tf.nn.relu(tf.sign(h1_prob - tf.random.uniform(tf.shape(h1_prob)))) #sample_h_given_X"
   ]
  },
  {
   "cell_type": "markdown",
   "metadata": {},
   "source": [
    "Lets look at the error of the first run:\n"
   ]
  },
  {
   "cell_type": "code",
   "execution_count": 18,
   "metadata": {},
   "outputs": [
    {
     "name": "stdout",
     "output_type": "stream",
     "text": [
      "error:  tf.Tensor(0.50382656, shape=(), dtype=float32)\n"
     ]
    }
   ],
   "source": [
    "print(\"error: \", error(v0_state, v1_state))"
   ]
  },
  {
   "cell_type": "code",
   "execution_count": 19,
   "metadata": {},
   "outputs": [
    {
     "name": "stdout",
     "output_type": "stream",
     "text": [
      "Epoch: 0 batch #: 1  of 300 sample #: 199 reconstruction error: 0.181490\n",
      "Epoch: 0 batch #: 2  of 300 sample #: 199 reconstruction error: 0.226618\n",
      "Epoch: 0 batch #: 3  of 300 sample #: 199 reconstruction error: 0.113937\n",
      "Epoch: 0 batch #: 4  of 300 sample #: 199 reconstruction error: 0.129773\n",
      "Epoch: 0 batch #: 5  of 300 sample #: 199 reconstruction error: 0.096787\n",
      "Epoch: 0 batch #: 6  of 300 sample #: 199 reconstruction error: 0.197378\n",
      "Epoch: 0 batch #: 7  of 300 sample #: 199 reconstruction error: 0.083072\n",
      "Epoch: 0 batch #: 8  of 300 sample #: 199 reconstruction error: 0.121209\n",
      "Epoch: 0 batch #: 9  of 300 sample #: 199 reconstruction error: 0.091759\n",
      "Epoch: 0 batch #: 10  of 300 sample #: 199 reconstruction error: 0.169959\n",
      "Epoch: 0 batch #: 11  of 300 sample #: 199 reconstruction error: 0.098664\n",
      "Epoch: 0 batch #: 12  of 300 sample #: 199 reconstruction error: 0.138917\n",
      "Epoch: 0 batch #: 13  of 300 sample #: 199 reconstruction error: 0.059987\n",
      "Epoch: 0 batch #: 14  of 300 sample #: 199 reconstruction error: 0.100662\n",
      "Epoch: 0 batch #: 15  of 300 sample #: 199 reconstruction error: 0.106688\n",
      "Epoch: 0 batch #: 16  of 300 sample #: 199 reconstruction error: 0.113345\n",
      "Epoch: 0 batch #: 17  of 300 sample #: 199 reconstruction error: 0.078019\n",
      "Epoch: 0 batch #: 18  of 300 sample #: 199 reconstruction error: 0.126737\n",
      "Epoch: 0 batch #: 19  of 300 sample #: 199 reconstruction error: 0.164385\n",
      "Epoch: 0 batch #: 20  of 300 sample #: 199 reconstruction error: 0.112205\n",
      "Epoch: 0 batch #: 21  of 300 sample #: 199 reconstruction error: 0.090184\n",
      "Epoch: 0 batch #: 22  of 300 sample #: 199 reconstruction error: 0.088593\n",
      "Epoch: 0 batch #: 23  of 300 sample #: 199 reconstruction error: 0.109174\n",
      "Epoch: 0 batch #: 24  of 300 sample #: 199 reconstruction error: 0.125464\n",
      "Epoch: 0 batch #: 25  of 300 sample #: 199 reconstruction error: 0.089876\n",
      "Epoch: 0 batch #: 26  of 300 sample #: 199 reconstruction error: 0.099287\n",
      "Epoch: 0 batch #: 27  of 300 sample #: 199 reconstruction error: 0.110949\n",
      "Epoch: 0 batch #: 28  of 300 sample #: 199 reconstruction error: 0.086431\n",
      "Epoch: 0 batch #: 29  of 300 sample #: 199 reconstruction error: 0.099625\n",
      "Epoch: 0 batch #: 30  of 300 sample #: 199 reconstruction error: 0.079735\n",
      "Epoch: 0 batch #: 31  of 300 sample #: 199 reconstruction error: 0.097096\n",
      "Epoch: 0 batch #: 32  of 300 sample #: 199 reconstruction error: 0.103483\n",
      "Epoch: 0 batch #: 33  of 300 sample #: 199 reconstruction error: 0.064805\n",
      "Epoch: 0 batch #: 34  of 300 sample #: 199 reconstruction error: 0.070953\n",
      "Epoch: 0 batch #: 35  of 300 sample #: 199 reconstruction error: 0.073705\n",
      "Epoch: 0 batch #: 36  of 300 sample #: 199 reconstruction error: 0.088685\n",
      "Epoch: 0 batch #: 37  of 300 sample #: 199 reconstruction error: 0.062073\n",
      "Epoch: 0 batch #: 38  of 300 sample #: 199 reconstruction error: 0.076285\n",
      "Epoch: 0 batch #: 39  of 300 sample #: 199 reconstruction error: 0.090906\n",
      "Epoch: 0 batch #: 40  of 300 sample #: 199 reconstruction error: 0.121743\n",
      "Epoch: 0 batch #: 41  of 300 sample #: 199 reconstruction error: 0.087402\n",
      "Epoch: 0 batch #: 42  of 300 sample #: 199 reconstruction error: 0.069751\n",
      "Epoch: 0 batch #: 43  of 300 sample #: 199 reconstruction error: 0.126709\n",
      "Epoch: 0 batch #: 44  of 300 sample #: 199 reconstruction error: 0.067819\n",
      "Epoch: 0 batch #: 45  of 300 sample #: 199 reconstruction error: 0.070431\n",
      "Epoch: 0 batch #: 46  of 300 sample #: 199 reconstruction error: 0.035988\n",
      "Epoch: 0 batch #: 47  of 300 sample #: 199 reconstruction error: 0.045632\n",
      "Epoch: 0 batch #: 48  of 300 sample #: 199 reconstruction error: 0.028342\n",
      "Epoch: 0 batch #: 49  of 300 sample #: 199 reconstruction error: 0.108962\n",
      "Epoch: 0 batch #: 50  of 300 sample #: 199 reconstruction error: 0.049843\n",
      "Epoch: 0 batch #: 51  of 300 sample #: 199 reconstruction error: 0.062721\n",
      "Epoch: 0 batch #: 52  of 300 sample #: 199 reconstruction error: 0.032359\n",
      "Epoch: 0 batch #: 53  of 300 sample #: 199 reconstruction error: 0.124875\n",
      "Epoch: 0 batch #: 54  of 300 sample #: 199 reconstruction error: 0.053970\n",
      "Epoch: 0 batch #: 55  of 300 sample #: 199 reconstruction error: 0.099540\n",
      "Epoch: 0 batch #: 56  of 300 sample #: 199 reconstruction error: 0.057506\n",
      "Epoch: 0 batch #: 57  of 300 sample #: 199 reconstruction error: 0.046444\n",
      "Epoch: 0 batch #: 58  of 300 sample #: 199 reconstruction error: 0.070986\n",
      "Epoch: 0 batch #: 59  of 300 sample #: 199 reconstruction error: 0.035508\n",
      "Epoch: 0 batch #: 60  of 300 sample #: 199 reconstruction error: 0.091428\n",
      "Epoch: 0 batch #: 61  of 300 sample #: 199 reconstruction error: 0.073954\n",
      "Epoch: 0 batch #: 62  of 300 sample #: 199 reconstruction error: 0.083024\n",
      "Epoch: 0 batch #: 63  of 300 sample #: 199 reconstruction error: 0.064170\n",
      "Epoch: 0 batch #: 64  of 300 sample #: 199 reconstruction error: 0.094896\n",
      "Epoch: 0 batch #: 65  of 300 sample #: 199 reconstruction error: 0.068793\n",
      "Epoch: 0 batch #: 66  of 300 sample #: 199 reconstruction error: 0.054303\n",
      "Epoch: 0 batch #: 67  of 300 sample #: 199 reconstruction error: 0.042512\n",
      "Epoch: 0 batch #: 68  of 300 sample #: 199 reconstruction error: 0.071066\n",
      "Epoch: 0 batch #: 69  of 300 sample #: 199 reconstruction error: 0.096237\n",
      "Epoch: 0 batch #: 70  of 300 sample #: 199 reconstruction error: 0.097814\n",
      "Epoch: 0 batch #: 71  of 300 sample #: 199 reconstruction error: 0.061144\n",
      "Epoch: 0 batch #: 72  of 300 sample #: 199 reconstruction error: 0.074871\n",
      "Epoch: 0 batch #: 73  of 300 sample #: 199 reconstruction error: 0.085258\n",
      "Epoch: 0 batch #: 74  of 300 sample #: 199 reconstruction error: 0.089072\n",
      "Epoch: 0 batch #: 75  of 300 sample #: 199 reconstruction error: 0.042035\n",
      "Epoch: 0 batch #: 76  of 300 sample #: 199 reconstruction error: 0.072229\n",
      "Epoch: 0 batch #: 77  of 300 sample #: 199 reconstruction error: 0.101394\n",
      "Epoch: 0 batch #: 78  of 300 sample #: 199 reconstruction error: 0.110132\n",
      "Epoch: 0 batch #: 79  of 300 sample #: 199 reconstruction error: 0.114004\n",
      "Epoch: 0 batch #: 80  of 300 sample #: 199 reconstruction error: 0.031516\n",
      "Epoch: 0 batch #: 81  of 300 sample #: 199 reconstruction error: 0.058057\n",
      "Epoch: 0 batch #: 82  of 300 sample #: 199 reconstruction error: 0.045137\n",
      "Epoch: 0 batch #: 83  of 300 sample #: 199 reconstruction error: 0.082767\n",
      "Epoch: 0 batch #: 84  of 300 sample #: 199 reconstruction error: 0.063767\n",
      "Epoch: 0 batch #: 85  of 300 sample #: 199 reconstruction error: 0.053461\n",
      "Epoch: 0 batch #: 86  of 300 sample #: 199 reconstruction error: 0.070853\n",
      "Epoch: 0 batch #: 87  of 300 sample #: 199 reconstruction error: 0.069413\n",
      "Epoch: 0 batch #: 88  of 300 sample #: 199 reconstruction error: 0.026721\n",
      "Epoch: 0 batch #: 89  of 300 sample #: 199 reconstruction error: 0.073464\n",
      "Epoch: 0 batch #: 90  of 300 sample #: 199 reconstruction error: 0.081772\n",
      "Epoch: 0 batch #: 91  of 300 sample #: 199 reconstruction error: 0.062217\n",
      "Epoch: 0 batch #: 92  of 300 sample #: 199 reconstruction error: 0.065483\n",
      "Epoch: 0 batch #: 93  of 300 sample #: 199 reconstruction error: 0.102462\n",
      "Epoch: 0 batch #: 94  of 300 sample #: 199 reconstruction error: 0.100790\n",
      "Epoch: 0 batch #: 95  of 300 sample #: 199 reconstruction error: 0.059578\n",
      "Epoch: 0 batch #: 96  of 300 sample #: 199 reconstruction error: 0.035403\n",
      "Epoch: 0 batch #: 97  of 300 sample #: 199 reconstruction error: 0.110947\n",
      "Epoch: 0 batch #: 98  of 300 sample #: 199 reconstruction error: 0.094116\n",
      "Epoch: 0 batch #: 99  of 300 sample #: 199 reconstruction error: 0.062313\n",
      "Epoch: 0 batch #: 100  of 300 sample #: 199 reconstruction error: 0.099484\n",
      "Epoch: 0 batch #: 101  of 300 sample #: 199 reconstruction error: 0.078899\n",
      "Epoch: 0 batch #: 102  of 300 sample #: 199 reconstruction error: 0.085088\n",
      "Epoch: 0 batch #: 103  of 300 sample #: 199 reconstruction error: 0.073663\n",
      "Epoch: 0 batch #: 104  of 300 sample #: 199 reconstruction error: 0.065980\n",
      "Epoch: 0 batch #: 105  of 300 sample #: 199 reconstruction error: 0.061742\n",
      "Epoch: 0 batch #: 106  of 300 sample #: 199 reconstruction error: 0.103281\n",
      "Epoch: 0 batch #: 107  of 300 sample #: 199 reconstruction error: 0.137282\n",
      "Epoch: 0 batch #: 108  of 300 sample #: 199 reconstruction error: 0.062694\n",
      "Epoch: 0 batch #: 109  of 300 sample #: 199 reconstruction error: 0.103292\n",
      "Epoch: 0 batch #: 110  of 300 sample #: 199 reconstruction error: 0.051278\n",
      "Epoch: 0 batch #: 111  of 300 sample #: 199 reconstruction error: 0.101042\n",
      "Epoch: 0 batch #: 112  of 300 sample #: 199 reconstruction error: 0.041656\n",
      "Epoch: 0 batch #: 113  of 300 sample #: 199 reconstruction error: 0.070708\n",
      "Epoch: 0 batch #: 114  of 300 sample #: 199 reconstruction error: 0.064345\n",
      "Epoch: 0 batch #: 115  of 300 sample #: 199 reconstruction error: 0.061236\n",
      "Epoch: 0 batch #: 116  of 300 sample #: 199 reconstruction error: 0.062725\n",
      "Epoch: 0 batch #: 117  of 300 sample #: 199 reconstruction error: 0.035495\n",
      "Epoch: 0 batch #: 118  of 300 sample #: 199 reconstruction error: 0.078127\n",
      "Epoch: 0 batch #: 119  of 300 sample #: 199 reconstruction error: 0.115260\n",
      "Epoch: 0 batch #: 120  of 300 sample #: 199 reconstruction error: 0.076486\n",
      "Epoch: 0 batch #: 121  of 300 sample #: 199 reconstruction error: 0.046469\n",
      "Epoch: 0 batch #: 122  of 300 sample #: 199 reconstruction error: 0.085336\n",
      "Epoch: 0 batch #: 123  of 300 sample #: 199 reconstruction error: 0.060311\n",
      "Epoch: 0 batch #: 124  of 300 sample #: 199 reconstruction error: 0.069637\n",
      "Epoch: 0 batch #: 125  of 300 sample #: 199 reconstruction error: 0.060998\n",
      "Epoch: 0 batch #: 126  of 300 sample #: 199 reconstruction error: 0.090099\n",
      "Epoch: 0 batch #: 127  of 300 sample #: 199 reconstruction error: 0.079671\n",
      "Epoch: 0 batch #: 128  of 300 sample #: 199 reconstruction error: 0.061979\n",
      "Epoch: 0 batch #: 129  of 300 sample #: 199 reconstruction error: 0.059338\n",
      "Epoch: 0 batch #: 130  of 300 sample #: 199 reconstruction error: 0.065500\n",
      "Epoch: 0 batch #: 131  of 300 sample #: 199 reconstruction error: 0.047281\n",
      "Epoch: 0 batch #: 132  of 300 sample #: 199 reconstruction error: 0.056105\n",
      "Epoch: 0 batch #: 133  of 300 sample #: 199 reconstruction error: 0.058116\n",
      "Epoch: 0 batch #: 134  of 300 sample #: 199 reconstruction error: 0.100014\n",
      "Epoch: 0 batch #: 135  of 300 sample #: 199 reconstruction error: 0.102046\n",
      "Epoch: 0 batch #: 136  of 300 sample #: 199 reconstruction error: 0.109627\n",
      "Epoch: 0 batch #: 137  of 300 sample #: 199 reconstruction error: 0.070912\n",
      "Epoch: 0 batch #: 138  of 300 sample #: 199 reconstruction error: 0.085497\n",
      "Epoch: 0 batch #: 139  of 300 sample #: 199 reconstruction error: 0.092873\n",
      "Epoch: 0 batch #: 140  of 300 sample #: 199 reconstruction error: 0.088141\n",
      "Epoch: 0 batch #: 141  of 300 sample #: 199 reconstruction error: 0.067634\n",
      "Epoch: 0 batch #: 142  of 300 sample #: 199 reconstruction error: 0.069824\n",
      "Epoch: 0 batch #: 143  of 300 sample #: 199 reconstruction error: 0.049749\n",
      "Epoch: 0 batch #: 144  of 300 sample #: 199 reconstruction error: 0.064737\n",
      "Epoch: 0 batch #: 145  of 300 sample #: 199 reconstruction error: 0.101700\n",
      "Epoch: 0 batch #: 146  of 300 sample #: 199 reconstruction error: 0.109317\n",
      "Epoch: 0 batch #: 147  of 300 sample #: 199 reconstruction error: 0.057240\n",
      "Epoch: 0 batch #: 148  of 300 sample #: 199 reconstruction error: 0.084088\n",
      "Epoch: 0 batch #: 149  of 300 sample #: 199 reconstruction error: 0.044632\n",
      "Epoch: 0 batch #: 150  of 300 sample #: 199 reconstruction error: 0.043975\n",
      "Epoch: 0 batch #: 151  of 300 sample #: 199 reconstruction error: 0.097628\n",
      "Epoch: 0 batch #: 152  of 300 sample #: 199 reconstruction error: 0.095164\n",
      "Epoch: 0 batch #: 153  of 300 sample #: 199 reconstruction error: 0.058381\n",
      "Epoch: 0 batch #: 154  of 300 sample #: 199 reconstruction error: 0.074643\n",
      "Epoch: 0 batch #: 155  of 300 sample #: 199 reconstruction error: 0.057561\n",
      "Epoch: 0 batch #: 156  of 300 sample #: 199 reconstruction error: 0.067769\n",
      "Epoch: 0 batch #: 157  of 300 sample #: 199 reconstruction error: 0.091483\n",
      "Epoch: 0 batch #: 158  of 300 sample #: 199 reconstruction error: 0.080274\n",
      "Epoch: 0 batch #: 159  of 300 sample #: 199 reconstruction error: 0.059987\n",
      "Epoch: 0 batch #: 160  of 300 sample #: 199 reconstruction error: 0.077406\n",
      "Epoch: 0 batch #: 161  of 300 sample #: 199 reconstruction error: 0.083710\n",
      "Epoch: 0 batch #: 162  of 300 sample #: 199 reconstruction error: 0.116410\n",
      "Epoch: 0 batch #: 163  of 300 sample #: 199 reconstruction error: 0.045444\n",
      "Epoch: 0 batch #: 164  of 300 sample #: 199 reconstruction error: 0.065845\n",
      "Epoch: 0 batch #: 165  of 300 sample #: 199 reconstruction error: 0.089978\n",
      "Epoch: 0 batch #: 166  of 300 sample #: 199 reconstruction error: 0.060230\n",
      "Epoch: 0 batch #: 167  of 300 sample #: 199 reconstruction error: 0.104887\n",
      "Epoch: 0 batch #: 168  of 300 sample #: 199 reconstruction error: 0.047541\n",
      "Epoch: 0 batch #: 169  of 300 sample #: 199 reconstruction error: 0.033204\n",
      "Epoch: 0 batch #: 170  of 300 sample #: 199 reconstruction error: 0.070523\n",
      "Epoch: 0 batch #: 171  of 300 sample #: 199 reconstruction error: 0.032166\n",
      "Epoch: 0 batch #: 172  of 300 sample #: 199 reconstruction error: 0.047005\n",
      "Epoch: 0 batch #: 173  of 300 sample #: 199 reconstruction error: 0.079492\n",
      "Epoch: 0 batch #: 174  of 300 sample #: 199 reconstruction error: 0.103791\n",
      "Epoch: 0 batch #: 175  of 300 sample #: 199 reconstruction error: 0.077465\n",
      "Epoch: 0 batch #: 176  of 300 sample #: 199 reconstruction error: 0.047142\n",
      "Epoch: 0 batch #: 177  of 300 sample #: 199 reconstruction error: 0.046551\n",
      "Epoch: 0 batch #: 178  of 300 sample #: 199 reconstruction error: 0.114609\n",
      "Epoch: 0 batch #: 179  of 300 sample #: 199 reconstruction error: 0.078421\n",
      "Epoch: 0 batch #: 180  of 300 sample #: 199 reconstruction error: 0.069796\n",
      "Epoch: 0 batch #: 181  of 300 sample #: 199 reconstruction error: 0.090841\n",
      "Epoch: 0 batch #: 182  of 300 sample #: 199 reconstruction error: 0.091087\n",
      "Epoch: 0 batch #: 183  of 300 sample #: 199 reconstruction error: 0.115371\n",
      "Epoch: 0 batch #: 184  of 300 sample #: 199 reconstruction error: 0.064118\n",
      "Epoch: 0 batch #: 185  of 300 sample #: 199 reconstruction error: 0.076465\n",
      "Epoch: 0 batch #: 186  of 300 sample #: 199 reconstruction error: 0.089709\n",
      "Epoch: 0 batch #: 187  of 300 sample #: 199 reconstruction error: 0.058879\n",
      "Epoch: 0 batch #: 188  of 300 sample #: 199 reconstruction error: 0.133649\n",
      "Epoch: 0 batch #: 189  of 300 sample #: 199 reconstruction error: 0.089536\n",
      "Epoch: 0 batch #: 190  of 300 sample #: 199 reconstruction error: 0.067580\n",
      "Epoch: 0 batch #: 191  of 300 sample #: 199 reconstruction error: 0.102757\n",
      "Epoch: 0 batch #: 192  of 300 sample #: 199 reconstruction error: 0.124256\n",
      "Epoch: 0 batch #: 193  of 300 sample #: 199 reconstruction error: 0.089608\n",
      "Epoch: 0 batch #: 194  of 300 sample #: 199 reconstruction error: 0.091259\n",
      "Epoch: 0 batch #: 195  of 300 sample #: 199 reconstruction error: 0.047594\n",
      "Epoch: 0 batch #: 196  of 300 sample #: 199 reconstruction error: 0.049549\n",
      "Epoch: 0 batch #: 197  of 300 sample #: 199 reconstruction error: 0.043850\n",
      "Epoch: 0 batch #: 198  of 300 sample #: 199 reconstruction error: 0.084267\n",
      "Epoch: 0 batch #: 199  of 300 sample #: 199 reconstruction error: 0.074712\n",
      "Epoch: 0 batch #: 200  of 300 sample #: 199 reconstruction error: 0.103321\n",
      "Epoch: 0 batch #: 201  of 300 sample #: 199 reconstruction error: 0.083940\n",
      "Epoch: 0 batch #: 202  of 300 sample #: 199 reconstruction error: 0.025342\n",
      "Epoch: 0 batch #: 203  of 300 sample #: 199 reconstruction error: 0.092757\n",
      "Epoch: 0 batch #: 204  of 300 sample #: 199 reconstruction error: 0.051605\n",
      "Epoch: 0 batch #: 205  of 300 sample #: 199 reconstruction error: 0.020350\n",
      "Epoch: 0 batch #: 206  of 300 sample #: 199 reconstruction error: 0.066208\n",
      "Epoch: 0 batch #: 207  of 300 sample #: 199 reconstruction error: 0.085209\n",
      "Epoch: 0 batch #: 208  of 300 sample #: 199 reconstruction error: 0.054745\n",
      "Epoch: 0 batch #: 209  of 300 sample #: 199 reconstruction error: 0.032346\n",
      "Epoch: 0 batch #: 210  of 300 sample #: 199 reconstruction error: 0.113093\n",
      "Epoch: 0 batch #: 211  of 300 sample #: 199 reconstruction error: 0.096846\n",
      "Epoch: 0 batch #: 212  of 300 sample #: 199 reconstruction error: 0.084237\n",
      "Epoch: 0 batch #: 213  of 300 sample #: 199 reconstruction error: 0.091394\n",
      "Epoch: 0 batch #: 214  of 300 sample #: 199 reconstruction error: 0.111412\n",
      "Epoch: 0 batch #: 215  of 300 sample #: 199 reconstruction error: 0.025961\n",
      "Epoch: 0 batch #: 216  of 300 sample #: 199 reconstruction error: 0.102458\n",
      "Epoch: 0 batch #: 217  of 300 sample #: 199 reconstruction error: 0.089194\n",
      "Epoch: 0 batch #: 218  of 300 sample #: 199 reconstruction error: 0.069017\n",
      "Epoch: 0 batch #: 219  of 300 sample #: 199 reconstruction error: 0.076313\n",
      "Epoch: 0 batch #: 220  of 300 sample #: 199 reconstruction error: 0.051142\n",
      "Epoch: 0 batch #: 221  of 300 sample #: 199 reconstruction error: 0.085557\n",
      "Epoch: 0 batch #: 222  of 300 sample #: 199 reconstruction error: 0.080849\n",
      "Epoch: 0 batch #: 223  of 300 sample #: 199 reconstruction error: 0.071102\n",
      "Epoch: 0 batch #: 224  of 300 sample #: 199 reconstruction error: 0.060800\n",
      "Epoch: 0 batch #: 225  of 300 sample #: 199 reconstruction error: 0.083759\n",
      "Epoch: 0 batch #: 226  of 300 sample #: 199 reconstruction error: 0.132004\n",
      "Epoch: 0 batch #: 227  of 300 sample #: 199 reconstruction error: 0.088325\n",
      "Epoch: 0 batch #: 228  of 300 sample #: 199 reconstruction error: 0.064410\n",
      "Epoch: 0 batch #: 229  of 300 sample #: 199 reconstruction error: 0.067922\n",
      "Epoch: 0 batch #: 230  of 300 sample #: 199 reconstruction error: 0.031927\n",
      "Epoch: 0 batch #: 231  of 300 sample #: 199 reconstruction error: 0.025444\n",
      "Epoch: 0 batch #: 232  of 300 sample #: 199 reconstruction error: 0.078067\n",
      "Epoch: 0 batch #: 233  of 300 sample #: 199 reconstruction error: 0.070510\n",
      "Epoch: 0 batch #: 234  of 300 sample #: 199 reconstruction error: 0.063471\n",
      "Epoch: 0 batch #: 235  of 300 sample #: 199 reconstruction error: 0.073271\n",
      "Epoch: 0 batch #: 236  of 300 sample #: 199 reconstruction error: 0.084065\n",
      "Epoch: 0 batch #: 237  of 300 sample #: 199 reconstruction error: 0.089104\n",
      "Epoch: 0 batch #: 238  of 300 sample #: 199 reconstruction error: 0.093152\n",
      "Epoch: 0 batch #: 239  of 300 sample #: 199 reconstruction error: 0.033167\n",
      "Epoch: 0 batch #: 240  of 300 sample #: 199 reconstruction error: 0.097091\n",
      "Epoch: 0 batch #: 241  of 300 sample #: 199 reconstruction error: 0.085161\n",
      "Epoch: 0 batch #: 242  of 300 sample #: 199 reconstruction error: 0.080054\n",
      "Epoch: 0 batch #: 243  of 300 sample #: 199 reconstruction error: 0.070885\n",
      "Epoch: 0 batch #: 244  of 300 sample #: 199 reconstruction error: 0.091522\n",
      "Epoch: 0 batch #: 245  of 300 sample #: 199 reconstruction error: 0.077524\n",
      "Epoch: 0 batch #: 246  of 300 sample #: 199 reconstruction error: 0.078981\n",
      "Epoch: 0 batch #: 247  of 300 sample #: 199 reconstruction error: 0.041408\n",
      "Epoch: 0 batch #: 248  of 300 sample #: 199 reconstruction error: 0.077941\n",
      "Epoch: 0 batch #: 249  of 300 sample #: 199 reconstruction error: 0.051463\n",
      "Epoch: 0 batch #: 250  of 300 sample #: 199 reconstruction error: 0.099801\n",
      "Epoch: 0 batch #: 251  of 300 sample #: 199 reconstruction error: 0.047861\n",
      "Epoch: 0 batch #: 252  of 300 sample #: 199 reconstruction error: 0.071527\n",
      "Epoch: 0 batch #: 253  of 300 sample #: 199 reconstruction error: 0.056395\n",
      "Epoch: 0 batch #: 254  of 300 sample #: 199 reconstruction error: 0.033149\n",
      "Epoch: 0 batch #: 255  of 300 sample #: 199 reconstruction error: 0.053642\n",
      "Epoch: 0 batch #: 256  of 300 sample #: 199 reconstruction error: 0.078130\n",
      "Epoch: 0 batch #: 257  of 300 sample #: 199 reconstruction error: 0.085226\n",
      "Epoch: 0 batch #: 258  of 300 sample #: 199 reconstruction error: 0.078745\n",
      "Epoch: 0 batch #: 259  of 300 sample #: 199 reconstruction error: 0.064764\n",
      "Epoch: 0 batch #: 260  of 300 sample #: 199 reconstruction error: 0.096383\n",
      "Epoch: 0 batch #: 261  of 300 sample #: 199 reconstruction error: 0.033897\n",
      "Epoch: 0 batch #: 262  of 300 sample #: 199 reconstruction error: 0.059891\n",
      "Epoch: 0 batch #: 263  of 300 sample #: 199 reconstruction error: 0.070884\n",
      "Epoch: 0 batch #: 264  of 300 sample #: 199 reconstruction error: 0.076846\n",
      "Epoch: 0 batch #: 265  of 300 sample #: 199 reconstruction error: 0.056853\n",
      "Epoch: 0 batch #: 266  of 300 sample #: 199 reconstruction error: 0.036399\n",
      "Epoch: 0 batch #: 267  of 300 sample #: 199 reconstruction error: 0.053595\n",
      "Epoch: 0 batch #: 268  of 300 sample #: 199 reconstruction error: 0.019813\n",
      "Epoch: 0 batch #: 269  of 300 sample #: 199 reconstruction error: 0.087437\n",
      "Epoch: 0 batch #: 270  of 300 sample #: 199 reconstruction error: 0.061348\n",
      "Epoch: 0 batch #: 271  of 300 sample #: 199 reconstruction error: 0.057498\n",
      "Epoch: 0 batch #: 272  of 300 sample #: 199 reconstruction error: 0.046255\n",
      "Epoch: 0 batch #: 273  of 300 sample #: 199 reconstruction error: 0.050070\n",
      "Epoch: 0 batch #: 274  of 300 sample #: 199 reconstruction error: 0.052301\n",
      "Epoch: 0 batch #: 275  of 300 sample #: 199 reconstruction error: 0.092943\n",
      "Epoch: 0 batch #: 276  of 300 sample #: 199 reconstruction error: 0.076873\n",
      "Epoch: 0 batch #: 277  of 300 sample #: 199 reconstruction error: 0.061354\n",
      "Epoch: 0 batch #: 278  of 300 sample #: 199 reconstruction error: 0.054438\n",
      "Epoch: 0 batch #: 279  of 300 sample #: 199 reconstruction error: 0.039391\n",
      "Epoch: 0 batch #: 280  of 300 sample #: 199 reconstruction error: 0.083421\n",
      "Epoch: 0 batch #: 281  of 300 sample #: 199 reconstruction error: 0.069057\n",
      "Epoch: 0 batch #: 282  of 300 sample #: 199 reconstruction error: 0.103020\n",
      "Epoch: 0 batch #: 283  of 300 sample #: 199 reconstruction error: 0.068260\n",
      "Epoch: 0 batch #: 284  of 300 sample #: 199 reconstruction error: 0.046181\n",
      "Epoch: 0 batch #: 285  of 300 sample #: 199 reconstruction error: 0.073459\n",
      "Epoch: 0 batch #: 286  of 300 sample #: 199 reconstruction error: 0.079612\n",
      "Epoch: 0 batch #: 287  of 300 sample #: 199 reconstruction error: 0.059040\n",
      "Epoch: 0 batch #: 288  of 300 sample #: 199 reconstruction error: 0.029798\n",
      "Epoch: 0 batch #: 289  of 300 sample #: 199 reconstruction error: 0.082036\n",
      "Epoch: 0 batch #: 290  of 300 sample #: 199 reconstruction error: 0.107877\n",
      "Epoch: 0 batch #: 291  of 300 sample #: 199 reconstruction error: 0.118987\n",
      "Epoch: 0 batch #: 292  of 300 sample #: 199 reconstruction error: 0.059433\n",
      "Epoch: 0 batch #: 293  of 300 sample #: 199 reconstruction error: 0.060507\n",
      "Epoch: 0 batch #: 294  of 300 sample #: 199 reconstruction error: 0.092895\n",
      "Epoch: 0 batch #: 295  of 300 sample #: 199 reconstruction error: 0.065533\n",
      "Epoch: 0 batch #: 296  of 300 sample #: 199 reconstruction error: 0.032091\n",
      "Epoch: 0 batch #: 297  of 300 sample #: 199 reconstruction error: 0.125060\n",
      "Epoch: 0 batch #: 298  of 300 sample #: 199 reconstruction error: 0.055163\n",
      "Epoch: 0 batch #: 299  of 300 sample #: 199 reconstruction error: 0.052081\n",
      "Epoch: 0 batch #: 300  of 300 sample #: 199 reconstruction error: 0.072876\n"
     ]
    }
   ],
   "source": [
    "#Parameters\n",
    "alpha = 0.01\n",
    "epochs = 1\n",
    "batchsize = 200\n",
    "weights = []\n",
    "errors = []\n",
    "batch_number = 0\n",
    "K = 1\n",
    "\n",
    "#creating datasets\n",
    "train_ds = \\\n",
    "    tf.data.Dataset.from_tensor_slices((trX, trY)).batch(batchsize)\n",
    "\n",
    "for epoch in range(epochs):\n",
    "    for batch_x, batch_y in train_ds:\n",
    "        batch_number += 1\n",
    "        for i_sample in range(batchsize):           \n",
    "            for k in range(K):\n",
    "                v0_state = batch_x[i_sample]\n",
    "                h0_state = hidden_layer(v0_state, W, hb)\n",
    "                v1_state = reconstructed_output(h0_state, W, vb)\n",
    "                h1_state = hidden_layer(v1_state, W, hb)\n",
    "\n",
    "                delta_W = tf.matmul(tf.transpose([v0_state]), h0_state) - tf.matmul(tf.transpose([v1_state]), h1_state)\n",
    "                W = W + alpha * delta_W\n",
    "\n",
    "                vb = vb + alpha * tf.reduce_mean(v0_state - v1_state, 0)\n",
    "                hb = hb + alpha * tf.reduce_mean(h0_state - h1_state, 0) \n",
    "\n",
    "                v0_state = v1_state\n",
    "\n",
    "            if i_sample == batchsize-1:\n",
    "                err = error(batch_x[i_sample], v1_state)\n",
    "                errors.append(err)\n",
    "                weights.append(W)\n",
    "                print ( 'Epoch: %d' % epoch, \n",
    "                       \"batch #: %i \" % batch_number, \"of %i\" % int(60e3/batchsize), \n",
    "                       \"sample #: %i\" % i_sample,\n",
    "                       'reconstruction error: %f' % err)\n",
    "\n"
   ]
  },
  {
   "cell_type": "markdown",
   "metadata": {},
   "source": [
    "Let's take a look at the errors at the end of each batch:\n"
   ]
  },
  {
   "cell_type": "code",
   "execution_count": 22,
   "metadata": {},
   "outputs": [
    {
     "data": {
      "image/png": "[encoded data removed]",
      "text/plain": [
       "<Figure size 432x288 with 1 Axes>"
      ]
     },
     "metadata": {
      "needs_background": "light"
     },
     "output_type": "display_data"
    }
   ],
   "source": [
    "plt.plot(errors)\n",
    "plt.xlabel(\"Batch Number\")\n",
    "plt.ylabel(\"Error\")\n",
    "plt.show()"
   ]
  },
  {
   "cell_type": "markdown",
   "metadata": {},
   "source": [
    "What is the final weight matrix $W$ after training?\n"
   ]
  },
  {
   "cell_type": "code",
   "execution_count": 24,
   "metadata": {},
   "outputs": [
    {
     "name": "stdout",
     "output_type": "stream",
     "text": [
      "[[-0.5399998  -0.17       -0.6099997  ... -0.5199998  -0.5399998\n",
      "  -0.5199998 ]\n",
      " [-0.46999982 -0.14999999 -0.69999963 ... -0.4999998  -0.5399998\n",
      "  -0.57999974]\n",
      " [-0.4899998  -0.23000003 -0.6099997  ... -0.41999987 -0.3999999\n",
      "  -0.5499998 ]\n",
      " ...\n",
      " [-0.46999982 -0.19000001 -0.6199997  ... -0.43999985 -0.3999999\n",
      "  -0.5099998 ]\n",
      " [-0.42999986 -0.09999999 -0.6299997  ... -0.4899998  -0.4999998\n",
      "  -0.6199997 ]\n",
      " [-0.5099998  -0.23000003 -0.6199997  ... -0.4899998  -0.5099998\n",
      "  -0.5399998 ]]\n"
     ]
    }
   ],
   "source": [
    "print(W.numpy()) # a weight matrix of shape (50,784)"
   ]
  },
  {
   "cell_type": "markdown",
   "metadata": {},
   "source": [
    "<a id=\"ref5\"></a>\n",
    "\n",
    "<h3>Learned features</h3> \n"
   ]
  },
  {
   "cell_type": "markdown",
   "metadata": {},
   "source": [
    "We can take each hidden unit and visualize the connections between that hidden unit and each element in the input vector. In our case, we have 50 hidden units. Lets visualize those.\n"
   ]
  },
  {
   "cell_type": "markdown",
   "metadata": {},
   "source": [
    "Let's plot the current weights: <b>tile_raster_images</b> helps in generating an easy to grasp image from a set of samples or weights. It transforms the <b>uw</b> (with one flattened image per row of size 784), into an array (of size $28\\times28$) in which images are reshaped and laid out like tiles on a floor.\n"
   ]
  },
  {
   "cell_type": "code",
   "execution_count": 25,
   "metadata": {},
   "outputs": [
    {
     "data": {
      "image/png": "[encoded data removed]",
      "text/plain": [
       "<Figure size 1296x1296 with 1 Axes>"
      ]
     },
     "metadata": {
      "needs_background": "light"
     },
     "output_type": "display_data"
    }
   ],
   "source": [
    "tile_raster_images(X=W.numpy().T, img_shape=(28, 28), tile_shape=(5, 10), tile_spacing=(1, 1))\n",
    "import matplotlib.pyplot as plt\n",
    "from PIL import Image\n",
    "%matplotlib inline\n",
    "image = Image.fromarray(tile_raster_images(X=W.numpy().T, img_shape=(28, 28) ,tile_shape=(5, 10), tile_spacing=(1, 1)))\n",
    "### Plot image\n",
    "plt.rcParams['figure.figsize'] = (18.0, 18.0)\n",
    "imgplot = plt.imshow(image)\n",
    "imgplot.set_cmap('gray')  "
   ]
  },
  {
   "cell_type": "markdown",
   "metadata": {},
   "source": [
    "Each tile in the above visualization corresponds to a vector of connections between a hidden unit and visible layer's units.\n"
   ]
  },
  {
   "cell_type": "markdown",
   "metadata": {},
   "source": [
    "Let's look at one of the learned weights corresponding to one of hidden units for example. In this particular square, the gray color represents weight = 0, and the whiter it is, the more positive the weights are (closer to 1). Conversely, the darker pixels are, the more negative the weights. The positive pixels will increase the probability of activation in hidden units (after multiplying by input/visible pixels), and negative pixels will decrease the probability of a unit hidden to be 1 (activated). So, why is this important?  So we can see that this specific square (hidden unit) can detect a feature (e.g. a \"/\" shape) and if it exists in the input.\n"
   ]
  },
  {
   "cell_type": "code",
   "execution_count": 26,
   "metadata": {},
   "outputs": [
    {
     "data": {
      "image/png": "[encoded data removed]",
      "text/plain": [
       "<Figure size 288x288 with 1 Axes>"
      ]
     },
     "metadata": {
      "needs_background": "light"
     },
     "output_type": "display_data"
    }
   ],
   "source": [
    "from PIL import Image\n",
    "image = Image.fromarray(tile_raster_images(X =W.numpy().T[10:11], img_shape=(28, 28),tile_shape=(1, 1), tile_spacing=(1, 1)))\n",
    "### Plot image\n",
    "plt.rcParams['figure.figsize'] = (4.0, 4.0)\n",
    "imgplot = plt.imshow(image)\n",
    "imgplot.set_cmap('gray')  "
   ]
  },
  {
   "cell_type": "markdown",
   "metadata": {},
   "source": [
    "Let's look at the reconstruction of an image now. Imagine that we have a destructed image of figure 3. Lets see if our trained network can fix it:\n",
    "\n",
    "First we plot the image:\n"
   ]
  },
  {
   "cell_type": "code",
   "execution_count": 27,
   "metadata": {},
   "outputs": [
    {
     "name": "stdout",
     "output_type": "stream",
     "text": [
      "--2022-02-10 15:01:53--  https://ibm.box.com/shared/static/vvm1b63uvuxq88vbw9znpwu5ol380mco.jpg\n",
      "Resolving ibm.box.com (ibm.box.com)... 107.152.26.197\n",
      "Connecting to ibm.box.com (ibm.box.com)|107.152.26.197|:443... connected.\n",
      "HTTP request sent, awaiting response... 301 Moved Permanently\n",
      "Location: /public/static/vvm1b63uvuxq88vbw9znpwu5ol380mco.jpg [following]\n",
      "--2022-02-10 15:01:54--  https://ibm.box.com/public/static/vvm1b63uvuxq88vbw9znpwu5ol380mco.jpg\n",
      "Reusing existing connection to ibm.box.com:443.\n",
      "HTTP request sent, awaiting response... 301 Moved Permanently\n",
      "Location: https://ibm.ent.box.com/public/static/vvm1b63uvuxq88vbw9znpwu5ol380mco.jpg [following]\n",
      "--2022-02-10 15:01:54--  https://ibm.ent.box.com/public/static/vvm1b63uvuxq88vbw9znpwu5ol380mco.jpg\n",
      "Resolving ibm.ent.box.com (ibm.ent.box.com)... 107.152.29.201\n",
      "Connecting to ibm.ent.box.com (ibm.ent.box.com)|107.152.29.201|:443... connected.\n",
      "HTTP request sent, awaiting response... 302 Found\n",
      "Location: https://public.boxcloud.com/d/1/b1!3DcaJylnJDjGVyf7LpxI7A55oXBcTovr7MZyDzSKOT3Nn9FGYazVQEfnZl5L8M1MtJ4zPHPtdf-Jzs6ozhItz1WMQdVdmZDlfI8BN3QKY-tVbrc-J3ywrbq7HbQ_9Ywb_PMoinByDypK6LNbV9VEJfPqczIJHiYGL3NVai5BEJ42fhnLU04NTf1BSMEJnyjMZV8V_wXfB6jdNjgk8SqYKDxRIntp2j6Prasy_hSmFtGIG8KC5OhusReHQhUbWz9yVU-ANpe3-5SPLczlooJZTT2IFcrNlXBsh8a6wfxRDcvtoJreRhMnkaG5cKqaACIp6rIyz0zguRIx0Tnh84Xi5KNrrAjOVC3ofNj5BEJBXb6HZMP8LDRXOMsJVesyEfjBZlT-cbykA8S2Q6ysAUnYIc99MW97KQ4awklVy-i6khej9YD4JH-0LGNbPnZqq-aTcePjhuFEQq-tzfFJqp3VKYWnUfP4GX-oEc3ohMDEjlvHzu92omyZEVUsRC9PBg_yxhaVvj-LSvxCl05gQQsB8YSub22ncyltOiRMEKT8KFNBm8xfj4TmavIKVwgvtRvBGKQ9zwWKLF3ArK-BSb_WB3kvf67Arwo4Pu8maybClujl_UjVEnmAFK2cudPWoq8L6uZtR_GwZmXwACXG8dS2VkU0920ttQmtQlZxSHD5Bnp8NQh7S836rClJRBP58MXdPKF9w-PafZQ6h2IDcL4f1qj67cPiGAr_CiQwawWrRWYnuMvTDfO1IWNgzg3ck0L-ZC3stv65enoqg1IdPrs6mwhbNAug_XAGzMvP03B48AqrBGk9FUAEQsKoWRlJP1WOcB-JAM26kJHWZ2mOnuDEZwTH6t-_WYNxu2qStJqKY0Qyntv5cIrQbhtDQJUcXQH_0485wF_vJLNEcuj6FT5i-TGCite87mv5wg8Y8k7YK0SG5eA8BhQxTAJkmEbq1jxgC9ZSN5w02IaXUzRVXfI8GerKERKD01NwkwLs4DcUHtclvNXpcFNjj9GJSAuYXi5IfdW67E7jxm9RE01YaDsKNaoOfrst1DDnqPni2LwnvvurKquQhC9XwIXKZRQ7-0PPul_sYeEMTKCTLGx-cpXxRNrU0D9RRoDWYVxhrPYdm6EtXzeXdpg29HiEMMtw-UW68VPH7-mqOxIMUnszk-RdZ5Ovs3Unx7nv5R_RuZ7gXL9NCPTjfgVLkUWC0QwIvaMg4lXPznpLU_Ut_pAdZ-w3gp1cTIwrx4p6Rt928Ye4hK5iLZXTSbT31fGNWlrVeOGDCpezt_7Yci6rV1sKNlkhQGi96fgEtef5HuvBCFtPRQWeDFiFh-w4Fvf5jRdfsTsJM23a1kH3ialcZ2XlqnK-1-qvdm58UAvNAF2YEB1QZVqcOxSO0Wjxt6JFQo5pIEs6d7JRX0cxKRwzNN_XsSkB0WJaH8NmNb5TjcuvzQWyou9yQA8_A1ElDnbtzfVeB7E./download [following]\n",
      "--2022-02-10 15:01:55--  https://public.boxcloud.com/d/1/b1!3DcaJylnJDjGVyf7LpxI7A55oXBcTovr7MZyDzSKOT3Nn9FGYazVQEfnZl5L8M1MtJ4zPHPtdf-Jzs6ozhItz1WMQdVdmZDlfI8BN3QKY-tVbrc-J3ywrbq7HbQ_9Ywb_PMoinByDypK6LNbV9VEJfPqczIJHiYGL3NVai5BEJ42fhnLU04NTf1BSMEJnyjMZV8V_wXfB6jdNjgk8SqYKDxRIntp2j6Prasy_hSmFtGIG8KC5OhusReHQhUbWz9yVU-ANpe3-5SPLczlooJZTT2IFcrNlXBsh8a6wfxRDcvtoJreRhMnkaG5cKqaACIp6rIyz0zguRIx0Tnh84Xi5KNrrAjOVC3ofNj5BEJBXb6HZMP8LDRXOMsJVesyEfjBZlT-cbykA8S2Q6ysAUnYIc99MW97KQ4awklVy-i6khej9YD4JH-0LGNbPnZqq-aTcePjhuFEQq-tzfFJqp3VKYWnUfP4GX-oEc3ohMDEjlvHzu92omyZEVUsRC9PBg_yxhaVvj-LSvxCl05gQQsB8YSub22ncyltOiRMEKT8KFNBm8xfj4TmavIKVwgvtRvBGKQ9zwWKLF3ArK-BSb_WB3kvf67Arwo4Pu8maybClujl_UjVEnmAFK2cudPWoq8L6uZtR_GwZmXwACXG8dS2VkU0920ttQmtQlZxSHD5Bnp8NQh7S836rClJRBP58MXdPKF9w-PafZQ6h2IDcL4f1qj67cPiGAr_CiQwawWrRWYnuMvTDfO1IWNgzg3ck0L-ZC3stv65enoqg1IdPrs6mwhbNAug_XAGzMvP03B48AqrBGk9FUAEQsKoWRlJP1WOcB-JAM26kJHWZ2mOnuDEZwTH6t-_WYNxu2qStJqKY0Qyntv5cIrQbhtDQJUcXQH_0485wF_vJLNEcuj6FT5i-TGCite87mv5wg8Y8k7YK0SG5eA8BhQxTAJkmEbq1jxgC9ZSN5w02IaXUzRVXfI8GerKERKD01NwkwLs4DcUHtclvNXpcFNjj9GJSAuYXi5IfdW67E7jxm9RE01YaDsKNaoOfrst1DDnqPni2LwnvvurKquQhC9XwIXKZRQ7-0PPul_sYeEMTKCTLGx-cpXxRNrU0D9RRoDWYVxhrPYdm6EtXzeXdpg29HiEMMtw-UW68VPH7-mqOxIMUnszk-RdZ5Ovs3Unx7nv5R_RuZ7gXL9NCPTjfgVLkUWC0QwIvaMg4lXPznpLU_Ut_pAdZ-w3gp1cTIwrx4p6Rt928Ye4hK5iLZXTSbT31fGNWlrVeOGDCpezt_7Yci6rV1sKNlkhQGi96fgEtef5HuvBCFtPRQWeDFiFh-w4Fvf5jRdfsTsJM23a1kH3ialcZ2XlqnK-1-qvdm58UAvNAF2YEB1QZVqcOxSO0Wjxt6JFQo5pIEs6d7JRX0cxKRwzNN_XsSkB0WJaH8NmNb5TjcuvzQWyou9yQA8_A1ElDnbtzfVeB7E./download\n",
      "Resolving public.boxcloud.com (public.boxcloud.com)... 107.152.29.200\n",
      "Connecting to public.boxcloud.com (public.boxcloud.com)|107.152.29.200|:443... connected.\n",
      "HTTP request sent, awaiting response... 200 OK\n",
      "Length: 24383 (24K) [image/jpeg]\n",
      "Saving to: ‘destructed3.jpg’\n",
      "\n",
      "destructed3.jpg     100%[===================>]  23.81K  --.-KB/s    in 0s      \n",
      "\n",
      "2022-02-10 15:01:56 (128 MB/s) - ‘destructed3.jpg’ saved [24383/24383]\n",
      "\n"
     ]
    },
    {
     "data": {
      "image/png": "[encoded data removed]",
      "text/plain": [
       "<PIL.JpegImagePlugin.JpegImageFile image mode=RGB size=181x181 at 0x7F317ED4D3D0>"
      ]
     },
     "execution_count": 27,
     "metadata": {},
     "output_type": "execute_result"
    }
   ],
   "source": [
    "!wget -O destructed3.jpg  https://ibm.box.com/shared/static/vvm1b63uvuxq88vbw9znpwu5ol380mco.jpg\n",
    "img = Image.open('destructed3.jpg')\n",
    "img"
   ]
  },
  {
   "cell_type": "markdown",
   "metadata": {},
   "source": [
    "Now let's pass this image through the neural net:\n"
   ]
  },
  {
   "cell_type": "code",
   "execution_count": 29,
   "metadata": {},
   "outputs": [],
   "source": [
    "# convert the image to a 1d numpy array\n",
    "sample_case = np.array(img.convert('I').resize((28,28))).ravel().reshape((1, -1))/255.0\n",
    "\n",
    "sample_case = tf.cast(sample_case, dtype=tf.float32)"
   ]
  },
  {
   "cell_type": "markdown",
   "metadata": {},
   "source": [
    "Feed the sample case into the network and reconstruct the output:\n"
   ]
  },
  {
   "cell_type": "code",
   "execution_count": 30,
   "metadata": {},
   "outputs": [
    {
     "name": "stdout",
     "output_type": "stream",
     "text": [
      "Probability nodes in hidden layer: tf.Tensor(\n",
      "[[9.9997497e-01 4.7241755e-10 9.9702585e-01 7.3435638e-07 7.6033171e-09\n",
      "  4.2033195e-04 9.1960710e-12 9.9979067e-01 3.3435543e-05 2.7897738e-12\n",
      "  9.9988925e-01 3.6613822e-02 1.7746564e-18 1.0887554e-04 2.3263600e-01\n",
      "  1.0000000e+00 9.4463474e-01 1.5011649e-13 8.1828535e-03 9.6892416e-02\n",
      "  3.3659230e-13 6.1337680e-02 9.9998176e-01 5.9688091e-04 1.0000000e+00\n",
      "  4.5131173e-12 1.4443225e-17 9.9251807e-01 1.1124051e-17 1.0471284e-14\n",
      "  1.8083754e-10 1.4272264e-13 9.9773395e-01 9.9988174e-01 8.5801389e-08\n",
      "  8.8268161e-02 6.7739592e-08 1.0000000e+00 5.4949794e-07 4.7360962e-07\n",
      "  1.0000000e+00 1.9219140e-05 2.9944122e-02 5.7255611e-06 1.0000000e+00\n",
      "  1.7656744e-02 5.2564610e-06 7.3587525e-01 9.9928826e-01 4.4816848e-02]], shape=(1, 50), dtype=float32)\n",
      "activated nodes in hidden layer: tf.Tensor(\n",
      "[[1. 0. 1. 0. 0. 0. 0. 1. 0. 0. 1. 0. 0. 0. 0. 1. 1. 0. 0. 0. 0. 0. 1. 0.\n",
      "  1. 0. 0. 1. 0. 0. 0. 0. 1. 1. 0. 0. 0. 1. 0. 0. 1. 0. 0. 0. 1. 0. 0. 1.\n",
      "  1. 0.]], shape=(1, 50), dtype=float32)\n",
      "tf.Tensor(\n",
      "[[2.27302313e-04 3.52829695e-04 4.14073467e-04 3.52829695e-04\n",
      "  3.22550535e-04 4.05788422e-04 3.70979309e-04 4.71472740e-04\n",
      "  2.86012888e-04 3.82244587e-04 3.22550535e-04 2.72125006e-04\n",
      "  4.69297171e-04 3.31014395e-04 5.13911247e-04 2.72989273e-04\n",
      "  3.70919704e-04 4.66793776e-04 4.26650047e-04 3.19212675e-04\n",
      "  3.03685665e-04 3.39001417e-04 4.48524952e-04 2.34186649e-04\n",
      "  3.86089087e-04 4.18126583e-04 2.34186649e-04 5.15937805e-04\n",
      "  4.18126583e-04 4.81009483e-04 4.57525253e-04 2.51203775e-04\n",
      "  3.95625830e-04 3.68654728e-04 3.63200903e-04 4.38868999e-04\n",
      "  3.98963690e-04 5.09858131e-04 5.13762236e-04 9.84996557e-04\n",
      "  7.21812248e-04 5.14477491e-04 5.33461571e-04 5.51700592e-04\n",
      "  7.89493322e-04 1.48081779e-03 5.64366579e-04 3.52650881e-04\n",
      "  5.12331724e-04 4.13596630e-04 4.10526991e-04 2.21282244e-04\n",
      "  4.39614058e-04 4.62144613e-04 5.64396381e-04 3.89933586e-04\n",
      "  2.56210566e-04 4.90754843e-04 4.35292721e-04 2.37137079e-04\n",
      "  5.34385443e-04 4.13775444e-04 4.02212143e-04 4.18156385e-04\n",
      "  3.56465578e-04 3.45617533e-04 2.91824341e-04 2.99036503e-04\n",
      "  3.27616930e-04 6.67929649e-04 9.68724489e-04 5.42789698e-04\n",
      "  5.94913960e-04 1.94579363e-04 1.60425901e-04 1.94072723e-04\n",
      "  1.09807865e-04 2.81870365e-04 5.71936369e-04 5.67615032e-04\n",
      "  6.00308180e-04 4.52637672e-04 2.64048576e-04 3.32355499e-04\n",
      "  4.71472740e-04 3.93837690e-04 3.98486853e-04 4.30494547e-04\n",
      "  3.94403934e-04 4.66763973e-04 9.29325819e-04 4.70072031e-04\n",
      "  2.53945589e-04 2.69681215e-04 6.23703003e-04 9.91284847e-04\n",
      "  2.52676010e-03 6.34613633e-03 6.31421804e-03 3.10775638e-03\n",
      "  2.22811103e-03 2.12687254e-03 2.21881270e-03 6.74992800e-04\n",
      "  3.76015902e-04 3.94016504e-04 4.54574823e-04 5.13672829e-04\n",
      "  4.64707613e-04 5.56826591e-04 2.41935253e-04 3.82244587e-04\n",
      "  2.48700380e-04 5.41210175e-04 4.59879637e-04 3.98099422e-04\n",
      "  7.19457865e-04 9.94294882e-04 7.76946545e-04 9.01162624e-04\n",
      "  1.52951479e-03 3.14411521e-03 7.17982650e-03 1.62982941e-02\n",
      "  4.99598086e-02 9.38280225e-02 1.92165434e-01 2.60024369e-01\n",
      "  1.90620899e-01 9.56359804e-02 3.66342366e-02 1.41244531e-02\n",
      "  3.24803591e-03 1.60598755e-03 3.04335356e-03 4.82657552e-03\n",
      "  1.16598606e-03 1.34712458e-03 5.70297241e-04 3.99053097e-04\n",
      "  3.13013792e-04 5.05685806e-04 4.50223684e-04 4.05132771e-04\n",
      "  1.15114450e-03 1.05780363e-03 1.78122520e-03 4.95004654e-03\n",
      "  1.76149011e-02 4.83056903e-02 1.61921352e-01 3.64930362e-01\n",
      "  5.67875624e-01 6.82772577e-01 8.30930769e-01 8.25347304e-01\n",
      "  9.19121444e-01 7.64762521e-01 4.19089973e-01 9.64420736e-02\n",
      "  3.11861038e-02 9.24938917e-03 1.44470036e-02 1.02522671e-02\n",
      "  2.97933817e-03 1.89507008e-03 1.55967474e-03 4.47243452e-04\n",
      "  3.32355499e-04 3.65614891e-04 4.83155251e-04 6.69151545e-04\n",
      "  1.20335817e-03 2.55706906e-03 5.52245975e-03 8.22553039e-03\n",
      "  5.42855263e-02 1.54458851e-01 5.07513523e-01 8.12303305e-01\n",
      "  9.04079795e-01 9.24115717e-01 9.14169788e-01 9.50802684e-01\n",
      "  9.49593663e-01 8.68327022e-01 6.87396646e-01 4.48357046e-01\n",
      "  1.72508180e-01 5.48420250e-02 1.69291794e-02 1.46861970e-02\n",
      "  5.86006045e-03 3.64828110e-03 1.94081664e-03 4.32789326e-04\n",
      "  3.58045101e-04 5.54084778e-04 7.79956579e-04 1.89593434e-03\n",
      "  2.93508172e-03 4.55895066e-03 7.26038218e-03 1.94054544e-02\n",
      "  6.44418597e-02 3.87215048e-01 6.32435024e-01 8.38723779e-01\n",
      "  8.16669226e-01 8.70843649e-01 8.84720325e-01 8.84334624e-01\n",
      "  7.10601747e-01 6.88454270e-01 4.95795578e-01 5.03324509e-01\n",
      "  4.60244924e-01 2.22653747e-01 1.15567595e-01 3.49720418e-02\n",
      "  8.79654288e-03 2.42322683e-03 1.73416734e-03 5.03122807e-04\n",
      "  2.90244818e-04 3.56078148e-04 1.17608905e-03 1.62678957e-03\n",
      "  1.40476227e-03 2.40406394e-03 9.10276175e-03 3.72380018e-02\n",
      "  5.99771142e-02 3.08849275e-01 6.46746516e-01 5.36984801e-01\n",
      "  3.66021454e-01 2.31858820e-01 1.99925244e-01 1.07155859e-01\n",
      "  2.22846657e-01 2.36077726e-01 3.30450773e-01 7.19815850e-01\n",
      "  6.82338655e-01 6.35782421e-01 1.84720695e-01 8.22519362e-02\n",
      "  1.92878246e-02 5.21954894e-03 2.26944685e-03 4.15414572e-04\n",
      "  5.87284565e-04 4.65393066e-04 9.38385725e-04 2.00513005e-03\n",
      "  2.95472145e-03 2.57685781e-03 4.47127223e-03 2.12655365e-02\n",
      "  8.78953934e-02 2.49187231e-01 2.75862664e-01 2.18917608e-01\n",
      "  4.49330807e-02 1.37972534e-02 8.45861435e-03 3.32101583e-02\n",
      "  5.41933775e-02 2.26766974e-01 4.70867515e-01 7.85092473e-01\n",
      "  9.01893377e-01 7.70193577e-01 3.13818693e-01 5.21448851e-02\n",
      "  1.09755397e-02 1.02825165e-02 1.12012029e-03 3.74138355e-04\n",
      "  2.67297029e-04 6.69926405e-04 6.58959150e-04 1.86672807e-03\n",
      "  1.99335814e-03 1.61033869e-03 3.21000814e-03 1.23727024e-02\n",
      "  4.55994904e-02 9.20078158e-02 1.41209424e-01 2.48919725e-02\n",
      "  1.19393170e-02 6.01318479e-03 7.59378076e-03 4.69455719e-02\n",
      "  1.46020919e-01 3.92638683e-01 6.35528922e-01 9.30243850e-01\n",
      "  9.14440989e-01 7.59441614e-01 1.64613336e-01 2.63007581e-02\n",
      "  4.08551097e-03 2.26306915e-03 9.03338194e-04 5.68747520e-04\n",
      "  5.62191010e-04 5.65916300e-04 1.38351321e-03 1.00481510e-03\n",
      "  2.27755308e-03 3.03852558e-03 2.76228786e-03 7.26997852e-03\n",
      "  1.24763250e-02 1.26079917e-02 1.32868886e-02 4.12827730e-03\n",
      "  5.70929050e-03 1.92090869e-02 7.23392367e-02 3.10022086e-01\n",
      "  5.34373283e-01 7.95318127e-01 8.56837809e-01 9.21992898e-01\n",
      "  8.84986460e-01 3.94415230e-01 3.18199694e-02 7.56514072e-03\n",
      "  1.25244260e-03 2.78750062e-03 1.29801035e-03 5.25563955e-04\n",
      "  2.71826982e-04 8.74787569e-04 9.24259424e-04 1.03908777e-03\n",
      "  6.53892756e-04 2.45010853e-03 2.04741955e-03 3.94317508e-03\n",
      "  5.83404303e-03 1.42873526e-02 3.47257257e-02 2.41055489e-02\n",
      "  9.93375778e-02 4.65636760e-01 8.21901441e-01 8.79901350e-01\n",
      "  8.04153502e-01 8.59464467e-01 8.62536907e-01 8.84799361e-01\n",
      "  6.69855118e-01 2.23025650e-01 8.34438205e-03 3.46451998e-04\n",
      "  2.29537487e-04 7.64280558e-04 5.31792641e-04 3.33994627e-04\n",
      "  2.59846449e-04 4.52816486e-04 6.56187534e-04 6.49422407e-04\n",
      "  8.82416964e-04 2.07534432e-03 3.27900052e-03 4.26468253e-03\n",
      "  1.06754899e-02 3.85966301e-02 9.04878676e-02 5.54852009e-01\n",
      "  7.71918058e-01 9.63203669e-01 9.81788993e-01 9.46859360e-01\n",
      "  9.51530814e-01 8.22838187e-01 8.50785136e-01 7.78206110e-01\n",
      "  4.75591362e-01 4.95963991e-02 4.24468517e-03 4.02361155e-04\n",
      "  1.66088343e-04 6.41226768e-04 5.90145588e-04 7.44968653e-04\n",
      "  5.97834587e-04 4.07665968e-04 5.55962324e-04 1.36759877e-03\n",
      "  2.18832493e-03 2.81506777e-03 1.81734562e-03 7.45388865e-03\n",
      "  1.15833580e-02 1.08309358e-01 3.90661418e-01 8.99943352e-01\n",
      "  9.75361586e-01 9.84647989e-01 9.78643954e-01 9.56582010e-01\n",
      "  9.18265283e-01 9.07121062e-01 8.52295041e-01 7.07843959e-01\n",
      "  1.37472332e-01 1.06498301e-02 7.17043877e-04 3.19004059e-04\n",
      "  1.45524740e-04 6.73443079e-04 5.94437122e-04 6.43461943e-04\n",
      "  4.58061695e-04 3.96430492e-04 7.58349895e-04 2.43508816e-03\n",
      "  4.21926379e-03 3.72219086e-03 5.75563312e-03 9.49171185e-03\n",
      "  5.43771386e-02 4.66119051e-02 3.96965384e-01 7.38621235e-01\n",
      "  9.04244065e-01 9.19233799e-01 8.56392562e-01 6.65863395e-01\n",
      "  7.50565529e-01 8.65838885e-01 7.57837713e-01 3.41662526e-01\n",
      "  2.89898813e-02 5.19889593e-03 7.46905804e-04 3.04371119e-04\n",
      "  1.41829252e-04 2.91228294e-04 5.09321690e-04 3.54856253e-04\n",
      "  3.94880772e-04 3.41117382e-04 4.55617905e-04 5.21731377e-03\n",
      "  7.48741627e-03 4.09203768e-03 1.52638853e-02 2.06738412e-02\n",
      "  1.89343095e-02 4.05204892e-02 9.52870846e-02 1.41196817e-01\n",
      "  2.90679634e-01 3.24181765e-01 1.60367072e-01 2.53952444e-01\n",
      "  5.94778478e-01 6.78152859e-01 4.93400931e-01 1.29337996e-01\n",
      "  1.70793235e-02 1.93974376e-03 4.68522310e-04 4.58240509e-04\n",
      "  2.08169222e-04 2.18600035e-04 6.38127327e-04 3.72439623e-04\n",
      "  3.45885754e-04 4.14431095e-04 1.46469474e-03 9.01371241e-03\n",
      "  2.23727822e-02 1.75180435e-02 5.36440611e-02 7.37976134e-02\n",
      "  2.95174718e-02 3.31636369e-02 2.91396379e-02 1.67565048e-02\n",
      "  2.38878727e-02 3.54267359e-02 1.09297633e-01 2.85597444e-01\n",
      "  4.51890618e-01 7.18234599e-01 3.28572392e-01 1.07702702e-01\n",
      "  1.19043291e-02 1.88899040e-03 1.96921825e-03 8.22573900e-04\n",
      "  6.96212053e-04 5.31882048e-04 7.23421574e-04 3.12238932e-04\n",
      "  3.45498323e-04 4.06056643e-04 2.94134021e-03 2.82437205e-02\n",
      "  6.75210357e-02 5.50577641e-02 1.88012213e-01 8.01627636e-02\n",
      "  2.99791098e-02 3.01206112e-02 1.91561580e-02 8.38005543e-03\n",
      "  7.11283088e-03 2.97648013e-02 1.25469923e-01 2.87721038e-01\n",
      "  4.25985634e-01 5.24165332e-01 2.96806991e-01 1.28775001e-01\n",
      "  1.61702931e-02 5.25459647e-03 1.75982714e-03 1.06900930e-03\n",
      "  1.28757954e-03 9.44405794e-04 6.95407391e-04 5.40167093e-04\n",
      "  3.15010548e-04 4.46230173e-04 6.43640757e-03 9.71334577e-02\n",
      "  1.47175223e-01 2.75208503e-01 3.03874850e-01 2.18278140e-01\n",
      "  2.00899780e-01 9.46939588e-02 3.21725607e-02 1.30921006e-02\n",
      "  1.64348483e-02 4.20061052e-02 1.52247995e-01 2.37855941e-01\n",
      "  6.63707018e-01 4.53107804e-01 1.90085649e-01 1.23454928e-01\n",
      "  1.68903470e-02 3.52373719e-03 2.49752402e-03 2.00694799e-03\n",
      "  3.09380889e-03 8.74489546e-04 9.56594944e-04 2.81661749e-04\n",
      "  2.74896622e-04 4.07338142e-04 1.31787658e-02 1.40392065e-01\n",
      "  3.27759802e-01 4.18480337e-01 6.35175109e-01 4.59587067e-01\n",
      "  4.75218713e-01 1.97299808e-01 6.75213337e-02 3.01073194e-02\n",
      "  2.67401040e-02 6.39799833e-02 1.27722114e-01 4.86516207e-01\n",
      "  7.40751207e-01 6.70646369e-01 2.68432140e-01 5.42255342e-02\n",
      "  1.03321075e-02 2.68429518e-03 1.99413300e-03 3.26678157e-03\n",
      "  3.17120552e-03 2.47782469e-03 9.15676355e-04 5.35607338e-04\n",
      "  2.34812498e-04 4.30345535e-04 8.00657272e-03 1.88935697e-01\n",
      "  4.39892918e-01 6.18519664e-01 8.19978833e-01 7.82863975e-01\n",
      "  4.91616815e-01 1.92952752e-01 7.17013478e-02 4.66679633e-02\n",
      "  1.28840446e-01 2.17190713e-01 4.97518390e-01 8.30015838e-01\n",
      "  8.56384039e-01 6.09405696e-01 1.04537368e-01 2.45152414e-02\n",
      "  8.48838687e-03 2.88760662e-03 2.16090679e-03 3.16450000e-03\n",
      "  5.37556410e-03 2.95150280e-03 6.58273697e-04 3.37451696e-04\n",
      "  5.16951084e-04 4.70072031e-04 4.00525331e-03 8.78701508e-02\n",
      "  3.16625178e-01 6.62086427e-01 8.62921357e-01 8.78114462e-01\n",
      "  7.58351564e-01 4.19796109e-01 3.15263569e-01 2.47760594e-01\n",
      "  3.85287344e-01 6.02063239e-01 8.30330372e-01 8.72356236e-01\n",
      "  7.43137479e-01 2.55553663e-01 2.57110000e-02 5.21141291e-03\n",
      "  4.42942977e-03 3.68362665e-03 2.39565969e-03 4.07859683e-03\n",
      "  3.73312831e-03 1.35105848e-03 4.52637672e-04 3.45259905e-04\n",
      "  4.90754843e-04 4.05788422e-04 1.10733509e-03 2.76482105e-02\n",
      "  1.31316185e-01 2.89220244e-01 7.94250488e-01 8.66750538e-01\n",
      "  8.85633111e-01 7.78180361e-01 8.41718197e-01 8.32074523e-01\n",
      "  7.20373511e-01 5.73360026e-01 5.17806828e-01 6.45586252e-01\n",
      "  2.37174064e-01 4.23887372e-02 1.73519254e-02 6.52512908e-03\n",
      "  5.28997183e-03 1.63930655e-03 1.69411302e-03 1.86726451e-03\n",
      "  1.98829174e-03 4.23699617e-04 4.11331654e-04 3.12954187e-04\n",
      "  6.89327717e-04 4.09960747e-04 4.24623489e-04 2.77909636e-03\n",
      "  1.67279541e-02 1.86984271e-01 3.58257949e-01 5.62932670e-01\n",
      "  4.36818004e-01 6.39780104e-01 4.61275280e-01 3.59469295e-01\n",
      "  2.82323986e-01 1.68582946e-01 9.39218700e-02 7.66445994e-02\n",
      "  2.96495557e-02 1.03892088e-02 4.46903706e-03 1.72320008e-03\n",
      "  1.72215700e-03 6.32107258e-04 7.20143318e-04 5.94884157e-04\n",
      "  5.25206327e-04 5.91605902e-04 2.64286995e-04 3.56376171e-04\n",
      "  2.80380249e-04 4.26679850e-04 3.92466784e-04 4.66972589e-04\n",
      "  1.46251917e-03 1.44755840e-03 8.17117095e-03 7.66134262e-03\n",
      "  6.11206889e-03 1.70406401e-02 1.04832053e-02 1.75053179e-02\n",
      "  6.02090359e-03 2.26837397e-03 2.01287866e-03 1.81061029e-03\n",
      "  3.27876210e-03 1.14515424e-03 8.20964575e-04 9.73135233e-04\n",
      "  3.39537859e-04 4.43488359e-04 3.97235155e-04 5.08278608e-04\n",
      "  5.39600849e-04 3.86238098e-04 3.47375870e-04 5.26249409e-04\n",
      "  3.29017639e-04 3.35633755e-04 2.53677368e-04 3.19600105e-04\n",
      "  5.98192215e-04 1.84929371e-03 3.46001983e-03 1.31168962e-03\n",
      "  5.42074442e-04 5.38617373e-04 1.21888518e-03 1.80569291e-03\n",
      "  4.71621752e-04 2.89767981e-04 1.82896852e-04 2.26557255e-04\n",
      "  4.94331121e-04 3.63498926e-04 8.89241695e-04 6.11186028e-04\n",
      "  3.05414200e-04 3.79800797e-04 3.99082899e-04 5.72472811e-04\n",
      "  3.24606895e-04 2.62290239e-04 5.15818596e-04 3.86089087e-04\n",
      "  5.31584024e-04 6.30021095e-04 4.71472740e-04 4.52965498e-04\n",
      "  3.62545252e-04 3.70949507e-04 2.67922878e-04 6.32792711e-04\n",
      "  7.66098499e-04 1.52447820e-03 2.00417638e-03 1.01265311e-03\n",
      "  4.38570976e-04 5.18977642e-04 2.46822834e-04 3.02016735e-04\n",
      "  5.68658113e-04 1.03080273e-03 4.92423773e-04 4.52369452e-04\n",
      "  3.13133001e-04 3.05980444e-04 3.56435776e-04 3.22103500e-04\n",
      "  2.77608633e-04 5.00649214e-04 3.89933586e-04 2.88903713e-04]], shape=(1, 784), dtype=float32)\n"
     ]
    }
   ],
   "source": [
    "hh0_p = tf.nn.sigmoid(tf.matmul(sample_case, W) + hb)\n",
    "hh0_s = tf.round(hh0_p)\n",
    "\n",
    "print(\"Probability nodes in hidden layer:\" ,hh0_p)\n",
    "print(\"activated nodes in hidden layer:\" ,hh0_s)\n",
    "\n",
    "# reconstruct\n",
    "vv1_p = tf.nn.sigmoid(tf.matmul(hh0_s, tf.transpose(W)) + vb)\n",
    "\n",
    "print(vv1_p)\n",
    "#rec_prob = sess.run(vv1_p, feed_dict={ hh0_s: hh0_s_val, W: prv_w, vb: prv_vb})"
   ]
  },
  {
   "cell_type": "markdown",
   "metadata": {},
   "source": [
    "Here we plot the reconstructed image:\n"
   ]
  },
  {
   "cell_type": "code",
   "execution_count": 31,
   "metadata": {},
   "outputs": [
    {
     "data": {
      "image/png": "[encoded data removed]",
      "text/plain": [
       "<Figure size 288x288 with 1 Axes>"
      ]
     },
     "metadata": {
      "needs_background": "light"
     },
     "output_type": "display_data"
    }
   ],
   "source": [
    "img = Image.fromarray(tile_raster_images(X=vv1_p.numpy(), img_shape=(28, 28),tile_shape=(1, 1), tile_spacing=(1, 1)))\n",
    "plt.rcParams['figure.figsize'] = (4.0, 4.0)\n",
    "imgplot = plt.imshow(img)\n",
    "imgplot.set_cmap('gray') "
   ]
  },
  {
   "cell_type": "markdown",
   "metadata": {},
   "source": [
    "<hr>\n",
    "\n",
    "## Want to learn more?\n",
    "\n",
    "Also, you can use **Watson Studio** to run these notebooks faster with bigger datasets.**Watson Studio** is IBM’s leading cloud solution for data scientists, built by data scientists. With Jupyter notebooks, RStudio, Apache Spark and popular libraries pre-packaged in the cloud, **Watson Studio** enables data scientists to collaborate on their projects without having to install anything. Join the fast-growing community of **Watson Studio** users today with a free account at [Watson Studio](https://cocl.us/ML0120EN_DSX).This is the end of this lesson. Thank you for reading this notebook, and good luck on your studies.\n"
   ]
  },
  {
   "cell_type": "markdown",
   "metadata": {},
   "source": [
    "### Thanks for completing this lesson!\n",
    "\n",
    "Notebook created by: <a href = \"https://ca.linkedin.com/in/saeedaghabozorgi?utm_medium=Exinfluencer&utm_source=Exinfluencer&utm_content=000026UJ&utm_term=10006555&utm_id=NA-SkillsNetwork-Channel-SkillsNetworkCoursesIBMDeveloperSkillsNetworkDL0120ENSkillsNetwork20629446-2021-01-01\">Saeed Aghabozorgi</a>\n",
    "\n",
    "Updated to TF 2.X by  <a href=\"https://ca.linkedin.com/in/nilmeier?utm_medium=Exinfluencer&utm_source=Exinfluencer&utm_content=000026UJ&utm_term=10006555&utm_id=NA-SkillsNetwork-Channel-SkillsNetworkCoursesIBMDeveloperSkillsNetworkDL0120ENSkillsNetwork20629446-2021-01-01\"> Jerome Nilmeier</a><br />\n"
   ]
  },
  {
   "cell_type": "markdown",
   "metadata": {},
   "source": [
    "### References:\n",
    "\n",
    "[https://en.wikipedia.org/wiki/Restricted_Boltzmann_machine](https://en.wikipedia.org/wiki/Restricted_Boltzmann_machine?utm_medium=Exinfluencer&utm_source=Exinfluencer&utm_content=000026UJ&utm_term=10006555&utm_id=NA-SkillsNetwork-Channel-SkillsNetworkCoursesIBMDeveloperSkillsNetworkDL0120ENSkillsNetwork20629446-2021-01-01)\\\n",
    "[http://deeplearning.net/tutorial/rbm.html](http://deeplearning.net/tutorial/rbm.html?utm_medium=Exinfluencer&utm_source=Exinfluencer&utm_content=000026UJ&utm_term=10006555&utm_id=NA-SkillsNetwork-Channel-SkillsNetworkCoursesIBMDeveloperSkillsNetworkDL0120ENSkillsNetwork20629446-2021-01-01)\\\n",
    "[http://www.cs.utoronto.ca/\\~hinton/absps/netflixICML.pdf](http://www.cs.utoronto.ca/\\~hinton/absps/netflixICML.pdf?utm_medium=Exinfluencer&utm_source=Exinfluencer&utm_content=000026UJ&utm_term=10006555&utm_id=NA-SkillsNetwork-Channel-SkillsNetworkCoursesIBMDeveloperSkillsNetworkDL0120ENSkillsNetwork20629446-2021-01-01)<br>\n",
    "<http://imonad.com/rbm/restricted-boltzmann-machine/>\n"
   ]
  },
  {
   "cell_type": "markdown",
   "metadata": {},
   "source": [
    "<hr>\n",
    "\n",
    "Copyright © 2018 [Cognitive Class](https://cocl.us/DX0108EN_CC). This notebook and its source code are released under the terms of the [MIT License](https://bigdatauniversity.com/mit-license/?utm_medium=Exinfluencer&utm_source=Exinfluencer&utm_content=000026UJ&utm_term=10006555&utm_id=NA-SkillsNetwork-Channel-SkillsNetworkCoursesIBMDeveloperSkillsNetworkDL0120ENSkillsNetwork20629446-2021-01-01).\n"
   ]
  }
 ],
 "metadata": {
  "kernelspec": {
   "display_name": "Python",
   "language": "python",
   "name": "conda-env-python-py"
  },
  "language_info": {
   "codemirror_mode": {
    "name": "ipython",
    "version": 3
   },
   "file_extension": ".py",
   "mimetype": "text/x-python",
   "name": "python",
   "nbconvert_exporter": "python",
   "pygments_lexer": "ipython3",
   "version": "3.7.12"
  },
  "widgets": {
   "state": {},
   "version": "1.1.2"
  }
 },
 "nbformat": 4,
 "nbformat_minor": 4
}
